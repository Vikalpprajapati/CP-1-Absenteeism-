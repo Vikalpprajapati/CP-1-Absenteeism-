{
 "cells": [
  {
   "cell_type": "markdown",
   "id": "56cd3536-75d4-427d-8af1-617ca4db793d",
   "metadata": {
    "id": "56cd3536-75d4-427d-8af1-617ca4db793d"
   },
   "source": [
    "## Problem Statement"
   ]
  },
  {
   "cell_type": "markdown",
   "id": "bad4dd7d-994f-41ea-991c-108b6e822728",
   "metadata": {
    "id": "bad4dd7d-994f-41ea-991c-108b6e822728"
   },
   "source": [
    "### Its the company analysis, where company want to know the reason if employees are absent or not active in working hrs and what are the reasons"
   ]
  },
  {
   "cell_type": "code",
   "execution_count": 1,
   "id": "ade44ab0-b672-49f5-928d-3cb3352e37f4",
   "metadata": {
    "executionInfo": {
     "elapsed": 1937,
     "status": "ok",
     "timestamp": 1673407201171,
     "user": {
      "displayName": "Tushar Patil",
      "userId": "09849807803327805394"
     },
     "user_tz": -330
    },
    "id": "ade44ab0-b672-49f5-928d-3cb3352e37f4"
   },
   "outputs": [],
   "source": [
    "import pandas as pd\n",
    "import numpy as np\n",
    "import matplotlib.pyplot as plt\n",
    "import seaborn as sns\n",
    "from sklearn.model_selection import train_test_split\n",
    "from sklearn import tree\n",
    "import sklearn"
   ]
  },
  {
   "cell_type": "code",
   "execution_count": 2,
   "id": "f58dfaa3-a082-417f-90a8-bba767af6ce3",
   "metadata": {
    "executionInfo": {
     "elapsed": 3,
     "status": "ok",
     "timestamp": 1673407201172,
     "user": {
      "displayName": "Tushar Patil",
      "userId": "09849807803327805394"
     },
     "user_tz": -330
    },
    "id": "f58dfaa3-a082-417f-90a8-bba767af6ce3"
   },
   "outputs": [],
   "source": [
    "df = pd.read_csv('Absenteeism_data.csv')"
   ]
  },
  {
   "cell_type": "code",
   "execution_count": 3,
   "id": "95656aa3-57aa-49fe-ab55-868e3203d4cd",
   "metadata": {
    "colab": {
     "base_uri": "https://localhost:8080/",
     "height": 322
    },
    "executionInfo": {
     "elapsed": 488,
     "status": "ok",
     "timestamp": 1673407201657,
     "user": {
      "displayName": "Tushar Patil",
      "userId": "09849807803327805394"
     },
     "user_tz": -330
    },
    "id": "95656aa3-57aa-49fe-ab55-868e3203d4cd",
    "outputId": "73bfbfdb-f6f2-48bc-90c5-18536bd86ac4"
   },
   "outputs": [
    {
     "data": {
      "text/html": [
       "\n",
       "  <div id=\"df-37fc628e-d163-414c-8842-6ca3e5d4044f\">\n",
       "    <div class=\"colab-df-container\">\n",
       "      <div>\n",
       "<style scoped>\n",
       "    .dataframe tbody tr th:only-of-type {\n",
       "        vertical-align: middle;\n",
       "    }\n",
       "\n",
       "    .dataframe tbody tr th {\n",
       "        vertical-align: top;\n",
       "    }\n",
       "\n",
       "    .dataframe thead th {\n",
       "        text-align: right;\n",
       "    }\n",
       "</style>\n",
       "<table border=\"1\" class=\"dataframe\">\n",
       "  <thead>\n",
       "    <tr style=\"text-align: right;\">\n",
       "      <th></th>\n",
       "      <th>ID</th>\n",
       "      <th>Reason for Absence</th>\n",
       "      <th>Date</th>\n",
       "      <th>Transportation Expense</th>\n",
       "      <th>Distance to Work</th>\n",
       "      <th>Age</th>\n",
       "      <th>Daily Work Load Average</th>\n",
       "      <th>Body Mass Index</th>\n",
       "      <th>Education</th>\n",
       "      <th>Children</th>\n",
       "      <th>Pets</th>\n",
       "      <th>Absenteeism Time in Hours</th>\n",
       "    </tr>\n",
       "  </thead>\n",
       "  <tbody>\n",
       "    <tr>\n",
       "      <th>0</th>\n",
       "      <td>11</td>\n",
       "      <td>26</td>\n",
       "      <td>07/07/2015</td>\n",
       "      <td>289</td>\n",
       "      <td>36</td>\n",
       "      <td>33</td>\n",
       "      <td>239.554</td>\n",
       "      <td>30</td>\n",
       "      <td>1</td>\n",
       "      <td>2</td>\n",
       "      <td>1</td>\n",
       "      <td>4</td>\n",
       "    </tr>\n",
       "    <tr>\n",
       "      <th>1</th>\n",
       "      <td>36</td>\n",
       "      <td>0</td>\n",
       "      <td>14/07/2015</td>\n",
       "      <td>118</td>\n",
       "      <td>13</td>\n",
       "      <td>50</td>\n",
       "      <td>239.554</td>\n",
       "      <td>31</td>\n",
       "      <td>1</td>\n",
       "      <td>1</td>\n",
       "      <td>0</td>\n",
       "      <td>0</td>\n",
       "    </tr>\n",
       "    <tr>\n",
       "      <th>2</th>\n",
       "      <td>3</td>\n",
       "      <td>23</td>\n",
       "      <td>15/07/2015</td>\n",
       "      <td>179</td>\n",
       "      <td>51</td>\n",
       "      <td>38</td>\n",
       "      <td>239.554</td>\n",
       "      <td>31</td>\n",
       "      <td>1</td>\n",
       "      <td>0</td>\n",
       "      <td>0</td>\n",
       "      <td>2</td>\n",
       "    </tr>\n",
       "    <tr>\n",
       "      <th>3</th>\n",
       "      <td>7</td>\n",
       "      <td>7</td>\n",
       "      <td>16/07/2015</td>\n",
       "      <td>279</td>\n",
       "      <td>5</td>\n",
       "      <td>39</td>\n",
       "      <td>239.554</td>\n",
       "      <td>24</td>\n",
       "      <td>1</td>\n",
       "      <td>2</td>\n",
       "      <td>0</td>\n",
       "      <td>4</td>\n",
       "    </tr>\n",
       "    <tr>\n",
       "      <th>4</th>\n",
       "      <td>11</td>\n",
       "      <td>23</td>\n",
       "      <td>23/07/2015</td>\n",
       "      <td>289</td>\n",
       "      <td>36</td>\n",
       "      <td>33</td>\n",
       "      <td>239.554</td>\n",
       "      <td>30</td>\n",
       "      <td>1</td>\n",
       "      <td>2</td>\n",
       "      <td>1</td>\n",
       "      <td>2</td>\n",
       "    </tr>\n",
       "  </tbody>\n",
       "</table>\n",
       "</div>\n",
       "      <button class=\"colab-df-convert\" onclick=\"convertToInteractive('df-37fc628e-d163-414c-8842-6ca3e5d4044f')\"\n",
       "              title=\"Convert this dataframe to an interactive table.\"\n",
       "              style=\"display:none;\">\n",
       "        \n",
       "  <svg xmlns=\"http://www.w3.org/2000/svg\" height=\"24px\"viewBox=\"0 0 24 24\"\n",
       "       width=\"24px\">\n",
       "    <path d=\"M0 0h24v24H0V0z\" fill=\"none\"/>\n",
       "    <path d=\"M18.56 5.44l.94 2.06.94-2.06 2.06-.94-2.06-.94-.94-2.06-.94 2.06-2.06.94zm-11 1L8.5 8.5l.94-2.06 2.06-.94-2.06-.94L8.5 2.5l-.94 2.06-2.06.94zm10 10l.94 2.06.94-2.06 2.06-.94-2.06-.94-.94-2.06-.94 2.06-2.06.94z\"/><path d=\"M17.41 7.96l-1.37-1.37c-.4-.4-.92-.59-1.43-.59-.52 0-1.04.2-1.43.59L10.3 9.45l-7.72 7.72c-.78.78-.78 2.05 0 2.83L4 21.41c.39.39.9.59 1.41.59.51 0 1.02-.2 1.41-.59l7.78-7.78 2.81-2.81c.8-.78.8-2.07 0-2.86zM5.41 20L4 18.59l7.72-7.72 1.47 1.35L5.41 20z\"/>\n",
       "  </svg>\n",
       "      </button>\n",
       "      \n",
       "  <style>\n",
       "    .colab-df-container {\n",
       "      display:flex;\n",
       "      flex-wrap:wrap;\n",
       "      gap: 12px;\n",
       "    }\n",
       "\n",
       "    .colab-df-convert {\n",
       "      background-color: #E8F0FE;\n",
       "      border: none;\n",
       "      border-radius: 50%;\n",
       "      cursor: pointer;\n",
       "      display: none;\n",
       "      fill: #1967D2;\n",
       "      height: 32px;\n",
       "      padding: 0 0 0 0;\n",
       "      width: 32px;\n",
       "    }\n",
       "\n",
       "    .colab-df-convert:hover {\n",
       "      background-color: #E2EBFA;\n",
       "      box-shadow: 0px 1px 2px rgba(60, 64, 67, 0.3), 0px 1px 3px 1px rgba(60, 64, 67, 0.15);\n",
       "      fill: #174EA6;\n",
       "    }\n",
       "\n",
       "    [theme=dark] .colab-df-convert {\n",
       "      background-color: #3B4455;\n",
       "      fill: #D2E3FC;\n",
       "    }\n",
       "\n",
       "    [theme=dark] .colab-df-convert:hover {\n",
       "      background-color: #434B5C;\n",
       "      box-shadow: 0px 1px 3px 1px rgba(0, 0, 0, 0.15);\n",
       "      filter: drop-shadow(0px 1px 2px rgba(0, 0, 0, 0.3));\n",
       "      fill: #FFFFFF;\n",
       "    }\n",
       "  </style>\n",
       "\n",
       "      <script>\n",
       "        const buttonEl =\n",
       "          document.querySelector('#df-37fc628e-d163-414c-8842-6ca3e5d4044f button.colab-df-convert');\n",
       "        buttonEl.style.display =\n",
       "          google.colab.kernel.accessAllowed ? 'block' : 'none';\n",
       "\n",
       "        async function convertToInteractive(key) {\n",
       "          const element = document.querySelector('#df-37fc628e-d163-414c-8842-6ca3e5d4044f');\n",
       "          const dataTable =\n",
       "            await google.colab.kernel.invokeFunction('convertToInteractive',\n",
       "                                                     [key], {});\n",
       "          if (!dataTable) return;\n",
       "\n",
       "          const docLinkHtml = 'Like what you see? Visit the ' +\n",
       "            '<a target=\"_blank\" href=https://colab.research.google.com/notebooks/data_table.ipynb>data table notebook</a>'\n",
       "            + ' to learn more about interactive tables.';\n",
       "          element.innerHTML = '';\n",
       "          dataTable['output_type'] = 'display_data';\n",
       "          await google.colab.output.renderOutput(dataTable, element);\n",
       "          const docLink = document.createElement('div');\n",
       "          docLink.innerHTML = docLinkHtml;\n",
       "          element.appendChild(docLink);\n",
       "        }\n",
       "      </script>\n",
       "    </div>\n",
       "  </div>\n",
       "  "
      ],
      "text/plain": [
       "   ID  Reason for Absence        Date  Transportation Expense  \\\n",
       "0  11                  26  07/07/2015                     289   \n",
       "1  36                   0  14/07/2015                     118   \n",
       "2   3                  23  15/07/2015                     179   \n",
       "3   7                   7  16/07/2015                     279   \n",
       "4  11                  23  23/07/2015                     289   \n",
       "\n",
       "   Distance to Work  Age  Daily Work Load Average  Body Mass Index  Education  \\\n",
       "0                36   33                  239.554               30          1   \n",
       "1                13   50                  239.554               31          1   \n",
       "2                51   38                  239.554               31          1   \n",
       "3                 5   39                  239.554               24          1   \n",
       "4                36   33                  239.554               30          1   \n",
       "\n",
       "   Children  Pets  Absenteeism Time in Hours  \n",
       "0         2     1                          4  \n",
       "1         1     0                          0  \n",
       "2         0     0                          2  \n",
       "3         2     0                          4  \n",
       "4         2     1                          2  "
      ]
     },
     "execution_count": 3,
     "metadata": {},
     "output_type": "execute_result"
    }
   ],
   "source": [
    "df.head()"
   ]
  },
  {
   "cell_type": "code",
   "execution_count": 4,
   "id": "6eb72b62-1537-4736-bc85-f86928eddc3e",
   "metadata": {
    "colab": {
     "base_uri": "https://localhost:8080/",
     "height": 322
    },
    "executionInfo": {
     "elapsed": 30,
     "status": "ok",
     "timestamp": 1673407201657,
     "user": {
      "displayName": "Tushar Patil",
      "userId": "09849807803327805394"
     },
     "user_tz": -330
    },
    "id": "6eb72b62-1537-4736-bc85-f86928eddc3e",
    "outputId": "72ed5d81-761b-49b5-d32c-7293e6d26998"
   },
   "outputs": [
    {
     "data": {
      "text/html": [
       "\n",
       "  <div id=\"df-7d4cd501-eca3-44b7-bcfb-f4f7a712ab1b\">\n",
       "    <div class=\"colab-df-container\">\n",
       "      <div>\n",
       "<style scoped>\n",
       "    .dataframe tbody tr th:only-of-type {\n",
       "        vertical-align: middle;\n",
       "    }\n",
       "\n",
       "    .dataframe tbody tr th {\n",
       "        vertical-align: top;\n",
       "    }\n",
       "\n",
       "    .dataframe thead th {\n",
       "        text-align: right;\n",
       "    }\n",
       "</style>\n",
       "<table border=\"1\" class=\"dataframe\">\n",
       "  <thead>\n",
       "    <tr style=\"text-align: right;\">\n",
       "      <th></th>\n",
       "      <th>ID</th>\n",
       "      <th>Reason for Absence</th>\n",
       "      <th>Date</th>\n",
       "      <th>Transportation Expense</th>\n",
       "      <th>Distance to Work</th>\n",
       "      <th>Age</th>\n",
       "      <th>Daily Work Load Average</th>\n",
       "      <th>Body Mass Index</th>\n",
       "      <th>Education</th>\n",
       "      <th>Children</th>\n",
       "      <th>Pets</th>\n",
       "      <th>Absenteeism Time in Hours</th>\n",
       "    </tr>\n",
       "  </thead>\n",
       "  <tbody>\n",
       "    <tr>\n",
       "      <th>695</th>\n",
       "      <td>17</td>\n",
       "      <td>10</td>\n",
       "      <td>23/05/2018</td>\n",
       "      <td>179</td>\n",
       "      <td>22</td>\n",
       "      <td>40</td>\n",
       "      <td>237.656</td>\n",
       "      <td>22</td>\n",
       "      <td>2</td>\n",
       "      <td>2</td>\n",
       "      <td>0</td>\n",
       "      <td>8</td>\n",
       "    </tr>\n",
       "    <tr>\n",
       "      <th>696</th>\n",
       "      <td>28</td>\n",
       "      <td>6</td>\n",
       "      <td>23/05/2018</td>\n",
       "      <td>225</td>\n",
       "      <td>26</td>\n",
       "      <td>28</td>\n",
       "      <td>237.656</td>\n",
       "      <td>24</td>\n",
       "      <td>1</td>\n",
       "      <td>1</td>\n",
       "      <td>2</td>\n",
       "      <td>3</td>\n",
       "    </tr>\n",
       "    <tr>\n",
       "      <th>697</th>\n",
       "      <td>18</td>\n",
       "      <td>10</td>\n",
       "      <td>24/05/2018</td>\n",
       "      <td>330</td>\n",
       "      <td>16</td>\n",
       "      <td>28</td>\n",
       "      <td>237.656</td>\n",
       "      <td>25</td>\n",
       "      <td>2</td>\n",
       "      <td>0</td>\n",
       "      <td>0</td>\n",
       "      <td>8</td>\n",
       "    </tr>\n",
       "    <tr>\n",
       "      <th>698</th>\n",
       "      <td>25</td>\n",
       "      <td>23</td>\n",
       "      <td>24/05/2018</td>\n",
       "      <td>235</td>\n",
       "      <td>16</td>\n",
       "      <td>32</td>\n",
       "      <td>237.656</td>\n",
       "      <td>25</td>\n",
       "      <td>3</td>\n",
       "      <td>0</td>\n",
       "      <td>0</td>\n",
       "      <td>2</td>\n",
       "    </tr>\n",
       "    <tr>\n",
       "      <th>699</th>\n",
       "      <td>15</td>\n",
       "      <td>28</td>\n",
       "      <td>31/05/2018</td>\n",
       "      <td>291</td>\n",
       "      <td>31</td>\n",
       "      <td>40</td>\n",
       "      <td>237.656</td>\n",
       "      <td>25</td>\n",
       "      <td>1</td>\n",
       "      <td>1</td>\n",
       "      <td>1</td>\n",
       "      <td>2</td>\n",
       "    </tr>\n",
       "  </tbody>\n",
       "</table>\n",
       "</div>\n",
       "      <button class=\"colab-df-convert\" onclick=\"convertToInteractive('df-7d4cd501-eca3-44b7-bcfb-f4f7a712ab1b')\"\n",
       "              title=\"Convert this dataframe to an interactive table.\"\n",
       "              style=\"display:none;\">\n",
       "        \n",
       "  <svg xmlns=\"http://www.w3.org/2000/svg\" height=\"24px\"viewBox=\"0 0 24 24\"\n",
       "       width=\"24px\">\n",
       "    <path d=\"M0 0h24v24H0V0z\" fill=\"none\"/>\n",
       "    <path d=\"M18.56 5.44l.94 2.06.94-2.06 2.06-.94-2.06-.94-.94-2.06-.94 2.06-2.06.94zm-11 1L8.5 8.5l.94-2.06 2.06-.94-2.06-.94L8.5 2.5l-.94 2.06-2.06.94zm10 10l.94 2.06.94-2.06 2.06-.94-2.06-.94-.94-2.06-.94 2.06-2.06.94z\"/><path d=\"M17.41 7.96l-1.37-1.37c-.4-.4-.92-.59-1.43-.59-.52 0-1.04.2-1.43.59L10.3 9.45l-7.72 7.72c-.78.78-.78 2.05 0 2.83L4 21.41c.39.39.9.59 1.41.59.51 0 1.02-.2 1.41-.59l7.78-7.78 2.81-2.81c.8-.78.8-2.07 0-2.86zM5.41 20L4 18.59l7.72-7.72 1.47 1.35L5.41 20z\"/>\n",
       "  </svg>\n",
       "      </button>\n",
       "      \n",
       "  <style>\n",
       "    .colab-df-container {\n",
       "      display:flex;\n",
       "      flex-wrap:wrap;\n",
       "      gap: 12px;\n",
       "    }\n",
       "\n",
       "    .colab-df-convert {\n",
       "      background-color: #E8F0FE;\n",
       "      border: none;\n",
       "      border-radius: 50%;\n",
       "      cursor: pointer;\n",
       "      display: none;\n",
       "      fill: #1967D2;\n",
       "      height: 32px;\n",
       "      padding: 0 0 0 0;\n",
       "      width: 32px;\n",
       "    }\n",
       "\n",
       "    .colab-df-convert:hover {\n",
       "      background-color: #E2EBFA;\n",
       "      box-shadow: 0px 1px 2px rgba(60, 64, 67, 0.3), 0px 1px 3px 1px rgba(60, 64, 67, 0.15);\n",
       "      fill: #174EA6;\n",
       "    }\n",
       "\n",
       "    [theme=dark] .colab-df-convert {\n",
       "      background-color: #3B4455;\n",
       "      fill: #D2E3FC;\n",
       "    }\n",
       "\n",
       "    [theme=dark] .colab-df-convert:hover {\n",
       "      background-color: #434B5C;\n",
       "      box-shadow: 0px 1px 3px 1px rgba(0, 0, 0, 0.15);\n",
       "      filter: drop-shadow(0px 1px 2px rgba(0, 0, 0, 0.3));\n",
       "      fill: #FFFFFF;\n",
       "    }\n",
       "  </style>\n",
       "\n",
       "      <script>\n",
       "        const buttonEl =\n",
       "          document.querySelector('#df-7d4cd501-eca3-44b7-bcfb-f4f7a712ab1b button.colab-df-convert');\n",
       "        buttonEl.style.display =\n",
       "          google.colab.kernel.accessAllowed ? 'block' : 'none';\n",
       "\n",
       "        async function convertToInteractive(key) {\n",
       "          const element = document.querySelector('#df-7d4cd501-eca3-44b7-bcfb-f4f7a712ab1b');\n",
       "          const dataTable =\n",
       "            await google.colab.kernel.invokeFunction('convertToInteractive',\n",
       "                                                     [key], {});\n",
       "          if (!dataTable) return;\n",
       "\n",
       "          const docLinkHtml = 'Like what you see? Visit the ' +\n",
       "            '<a target=\"_blank\" href=https://colab.research.google.com/notebooks/data_table.ipynb>data table notebook</a>'\n",
       "            + ' to learn more about interactive tables.';\n",
       "          element.innerHTML = '';\n",
       "          dataTable['output_type'] = 'display_data';\n",
       "          await google.colab.output.renderOutput(dataTable, element);\n",
       "          const docLink = document.createElement('div');\n",
       "          docLink.innerHTML = docLinkHtml;\n",
       "          element.appendChild(docLink);\n",
       "        }\n",
       "      </script>\n",
       "    </div>\n",
       "  </div>\n",
       "  "
      ],
      "text/plain": [
       "     ID  Reason for Absence        Date  Transportation Expense  \\\n",
       "695  17                  10  23/05/2018                     179   \n",
       "696  28                   6  23/05/2018                     225   \n",
       "697  18                  10  24/05/2018                     330   \n",
       "698  25                  23  24/05/2018                     235   \n",
       "699  15                  28  31/05/2018                     291   \n",
       "\n",
       "     Distance to Work  Age  Daily Work Load Average  Body Mass Index  \\\n",
       "695                22   40                  237.656               22   \n",
       "696                26   28                  237.656               24   \n",
       "697                16   28                  237.656               25   \n",
       "698                16   32                  237.656               25   \n",
       "699                31   40                  237.656               25   \n",
       "\n",
       "     Education  Children  Pets  Absenteeism Time in Hours  \n",
       "695          2         2     0                          8  \n",
       "696          1         1     2                          3  \n",
       "697          2         0     0                          8  \n",
       "698          3         0     0                          2  \n",
       "699          1         1     1                          2  "
      ]
     },
     "execution_count": 4,
     "metadata": {},
     "output_type": "execute_result"
    }
   ],
   "source": [
    "df.tail()"
   ]
  },
  {
   "cell_type": "code",
   "execution_count": 5,
   "id": "9f1a1bf7-1707-4dcd-8366-caccbd141d5a",
   "metadata": {
    "colab": {
     "base_uri": "https://localhost:8080/"
    },
    "executionInfo": {
     "elapsed": 30,
     "status": "ok",
     "timestamp": 1673407201658,
     "user": {
      "displayName": "Tushar Patil",
      "userId": "09849807803327805394"
     },
     "user_tz": -330
    },
    "id": "9f1a1bf7-1707-4dcd-8366-caccbd141d5a",
    "outputId": "d5f34f6b-07b6-4c8b-f86d-96e4291a0091"
   },
   "outputs": [
    {
     "data": {
      "text/plain": [
       "(700, 12)"
      ]
     },
     "execution_count": 5,
     "metadata": {},
     "output_type": "execute_result"
    }
   ],
   "source": [
    "df.shape"
   ]
  },
  {
   "cell_type": "code",
   "execution_count": 6,
   "id": "64755a37-4f81-41f6-96e9-cfe53b1e142d",
   "metadata": {
    "colab": {
     "base_uri": "https://localhost:8080/"
    },
    "executionInfo": {
     "elapsed": 25,
     "status": "ok",
     "timestamp": 1673407201658,
     "user": {
      "displayName": "Tushar Patil",
      "userId": "09849807803327805394"
     },
     "user_tz": -330
    },
    "id": "64755a37-4f81-41f6-96e9-cfe53b1e142d",
    "outputId": "18de7bfa-9d13-4e67-a698-4a125557799f"
   },
   "outputs": [
    {
     "data": {
      "text/plain": [
       "8400"
      ]
     },
     "execution_count": 6,
     "metadata": {},
     "output_type": "execute_result"
    }
   ],
   "source": [
    "df.size"
   ]
  },
  {
   "cell_type": "code",
   "execution_count": 7,
   "id": "c1a3a721-dbda-423d-afb4-26954fe03d7b",
   "metadata": {
    "colab": {
     "base_uri": "https://localhost:8080/"
    },
    "executionInfo": {
     "elapsed": 22,
     "status": "ok",
     "timestamp": 1673407201659,
     "user": {
      "displayName": "Tushar Patil",
      "userId": "09849807803327805394"
     },
     "user_tz": -330
    },
    "id": "c1a3a721-dbda-423d-afb4-26954fe03d7b",
    "outputId": "bb9d63e6-5ac8-4292-c280-f3bdfb7802e8"
   },
   "outputs": [
    {
     "name": "stdout",
     "output_type": "stream",
     "text": [
      "<class 'pandas.core.frame.DataFrame'>\n",
      "RangeIndex: 700 entries, 0 to 699\n",
      "Data columns (total 12 columns):\n",
      " #   Column                     Non-Null Count  Dtype  \n",
      "---  ------                     --------------  -----  \n",
      " 0   ID                         700 non-null    int64  \n",
      " 1   Reason for Absence         700 non-null    int64  \n",
      " 2   Date                       700 non-null    object \n",
      " 3   Transportation Expense     700 non-null    int64  \n",
      " 4   Distance to Work           700 non-null    int64  \n",
      " 5   Age                        700 non-null    int64  \n",
      " 6   Daily Work Load Average    700 non-null    float64\n",
      " 7   Body Mass Index            700 non-null    int64  \n",
      " 8   Education                  700 non-null    int64  \n",
      " 9   Children                   700 non-null    int64  \n",
      " 10  Pets                       700 non-null    int64  \n",
      " 11  Absenteeism Time in Hours  700 non-null    int64  \n",
      "dtypes: float64(1), int64(10), object(1)\n",
      "memory usage: 65.8+ KB\n"
     ]
    }
   ],
   "source": [
    "df.info()"
   ]
  },
  {
   "cell_type": "code",
   "execution_count": 8,
   "id": "d5de33b1-bae2-455a-9927-62a10d1ce682",
   "metadata": {
    "colab": {
     "base_uri": "https://localhost:8080/"
    },
    "executionInfo": {
     "elapsed": 19,
     "status": "ok",
     "timestamp": 1673407201659,
     "user": {
      "displayName": "Tushar Patil",
      "userId": "09849807803327805394"
     },
     "user_tz": -330
    },
    "id": "d5de33b1-bae2-455a-9927-62a10d1ce682",
    "outputId": "7faf6e7e-afd5-4a13-d8ec-04174c3149d9"
   },
   "outputs": [
    {
     "data": {
      "text/plain": [
       "Index(['ID', 'Reason for Absence', 'Date', 'Transportation Expense',\n",
       "       'Distance to Work', 'Age', 'Daily Work Load Average', 'Body Mass Index',\n",
       "       'Education', 'Children', 'Pets', 'Absenteeism Time in Hours'],\n",
       "      dtype='object')"
      ]
     },
     "execution_count": 8,
     "metadata": {},
     "output_type": "execute_result"
    }
   ],
   "source": [
    "df.columns"
   ]
  },
  {
   "cell_type": "code",
   "execution_count": 9,
   "id": "7dca0049-5de7-4ba3-bc28-55f8a7bbc46d",
   "metadata": {
    "executionInfo": {
     "elapsed": 17,
     "status": "ok",
     "timestamp": 1673407201659,
     "user": {
      "displayName": "Tushar Patil",
      "userId": "09849807803327805394"
     },
     "user_tz": -330
    },
    "id": "7dca0049-5de7-4ba3-bc28-55f8a7bbc46d"
   },
   "outputs": [],
   "source": [
    "col_to_use = ['Age','Body Mass Index','Education','Children','Pets','Absenteeism Time in Hours']\n",
    "df1 = df[col_to_use]"
   ]
  },
  {
   "cell_type": "code",
   "execution_count": 10,
   "id": "e2247ff3-cdf2-4236-b74a-6bb6a1f5d5bc",
   "metadata": {
    "colab": {
     "base_uri": "https://localhost:8080/",
     "height": 399
    },
    "executionInfo": {
     "elapsed": 16,
     "status": "ok",
     "timestamp": 1673407201660,
     "user": {
      "displayName": "Tushar Patil",
      "userId": "09849807803327805394"
     },
     "user_tz": -330
    },
    "id": "e2247ff3-cdf2-4236-b74a-6bb6a1f5d5bc",
    "outputId": "fbb3c31e-ea74-48b4-e22a-885e8b28f77c"
   },
   "outputs": [
    {
     "data": {
      "text/html": [
       "\n",
       "  <div id=\"df-830b0c19-6620-422d-b01e-ef5cfe414e66\">\n",
       "    <div class=\"colab-df-container\">\n",
       "      <div>\n",
       "<style scoped>\n",
       "    .dataframe tbody tr th:only-of-type {\n",
       "        vertical-align: middle;\n",
       "    }\n",
       "\n",
       "    .dataframe tbody tr th {\n",
       "        vertical-align: top;\n",
       "    }\n",
       "\n",
       "    .dataframe thead th {\n",
       "        text-align: right;\n",
       "    }\n",
       "</style>\n",
       "<table border=\"1\" class=\"dataframe\">\n",
       "  <thead>\n",
       "    <tr style=\"text-align: right;\">\n",
       "      <th></th>\n",
       "      <th>ID</th>\n",
       "      <th>Reason for Absence</th>\n",
       "      <th>Transportation Expense</th>\n",
       "      <th>Distance to Work</th>\n",
       "      <th>Age</th>\n",
       "      <th>Daily Work Load Average</th>\n",
       "      <th>Body Mass Index</th>\n",
       "      <th>Education</th>\n",
       "      <th>Children</th>\n",
       "      <th>Pets</th>\n",
       "      <th>Absenteeism Time in Hours</th>\n",
       "    </tr>\n",
       "  </thead>\n",
       "  <tbody>\n",
       "    <tr>\n",
       "      <th>count</th>\n",
       "      <td>700.000000</td>\n",
       "      <td>700.000000</td>\n",
       "      <td>700.000000</td>\n",
       "      <td>700.000000</td>\n",
       "      <td>700.000000</td>\n",
       "      <td>700.000000</td>\n",
       "      <td>700.000000</td>\n",
       "      <td>700.000000</td>\n",
       "      <td>700.000000</td>\n",
       "      <td>700.000000</td>\n",
       "      <td>700.000000</td>\n",
       "    </tr>\n",
       "    <tr>\n",
       "      <th>mean</th>\n",
       "      <td>17.951429</td>\n",
       "      <td>19.411429</td>\n",
       "      <td>222.347143</td>\n",
       "      <td>29.892857</td>\n",
       "      <td>36.417143</td>\n",
       "      <td>271.801774</td>\n",
       "      <td>26.737143</td>\n",
       "      <td>1.282857</td>\n",
       "      <td>1.021429</td>\n",
       "      <td>0.687143</td>\n",
       "      <td>6.761429</td>\n",
       "    </tr>\n",
       "    <tr>\n",
       "      <th>std</th>\n",
       "      <td>11.028144</td>\n",
       "      <td>8.356292</td>\n",
       "      <td>66.312960</td>\n",
       "      <td>14.804446</td>\n",
       "      <td>6.379083</td>\n",
       "      <td>40.021804</td>\n",
       "      <td>4.254701</td>\n",
       "      <td>0.668090</td>\n",
       "      <td>1.112215</td>\n",
       "      <td>1.166095</td>\n",
       "      <td>12.670082</td>\n",
       "    </tr>\n",
       "    <tr>\n",
       "      <th>min</th>\n",
       "      <td>1.000000</td>\n",
       "      <td>0.000000</td>\n",
       "      <td>118.000000</td>\n",
       "      <td>5.000000</td>\n",
       "      <td>27.000000</td>\n",
       "      <td>205.917000</td>\n",
       "      <td>19.000000</td>\n",
       "      <td>1.000000</td>\n",
       "      <td>0.000000</td>\n",
       "      <td>0.000000</td>\n",
       "      <td>0.000000</td>\n",
       "    </tr>\n",
       "    <tr>\n",
       "      <th>25%</th>\n",
       "      <td>9.000000</td>\n",
       "      <td>13.000000</td>\n",
       "      <td>179.000000</td>\n",
       "      <td>16.000000</td>\n",
       "      <td>31.000000</td>\n",
       "      <td>241.476000</td>\n",
       "      <td>24.000000</td>\n",
       "      <td>1.000000</td>\n",
       "      <td>0.000000</td>\n",
       "      <td>0.000000</td>\n",
       "      <td>2.000000</td>\n",
       "    </tr>\n",
       "    <tr>\n",
       "      <th>50%</th>\n",
       "      <td>18.000000</td>\n",
       "      <td>23.000000</td>\n",
       "      <td>225.000000</td>\n",
       "      <td>26.000000</td>\n",
       "      <td>37.000000</td>\n",
       "      <td>264.249000</td>\n",
       "      <td>25.000000</td>\n",
       "      <td>1.000000</td>\n",
       "      <td>1.000000</td>\n",
       "      <td>0.000000</td>\n",
       "      <td>3.000000</td>\n",
       "    </tr>\n",
       "    <tr>\n",
       "      <th>75%</th>\n",
       "      <td>28.000000</td>\n",
       "      <td>27.000000</td>\n",
       "      <td>260.000000</td>\n",
       "      <td>50.000000</td>\n",
       "      <td>40.000000</td>\n",
       "      <td>294.217000</td>\n",
       "      <td>31.000000</td>\n",
       "      <td>1.000000</td>\n",
       "      <td>2.000000</td>\n",
       "      <td>1.000000</td>\n",
       "      <td>8.000000</td>\n",
       "    </tr>\n",
       "    <tr>\n",
       "      <th>max</th>\n",
       "      <td>36.000000</td>\n",
       "      <td>28.000000</td>\n",
       "      <td>388.000000</td>\n",
       "      <td>52.000000</td>\n",
       "      <td>58.000000</td>\n",
       "      <td>378.884000</td>\n",
       "      <td>38.000000</td>\n",
       "      <td>4.000000</td>\n",
       "      <td>4.000000</td>\n",
       "      <td>8.000000</td>\n",
       "      <td>120.000000</td>\n",
       "    </tr>\n",
       "  </tbody>\n",
       "</table>\n",
       "</div>\n",
       "      <button class=\"colab-df-convert\" onclick=\"convertToInteractive('df-830b0c19-6620-422d-b01e-ef5cfe414e66')\"\n",
       "              title=\"Convert this dataframe to an interactive table.\"\n",
       "              style=\"display:none;\">\n",
       "        \n",
       "  <svg xmlns=\"http://www.w3.org/2000/svg\" height=\"24px\"viewBox=\"0 0 24 24\"\n",
       "       width=\"24px\">\n",
       "    <path d=\"M0 0h24v24H0V0z\" fill=\"none\"/>\n",
       "    <path d=\"M18.56 5.44l.94 2.06.94-2.06 2.06-.94-2.06-.94-.94-2.06-.94 2.06-2.06.94zm-11 1L8.5 8.5l.94-2.06 2.06-.94-2.06-.94L8.5 2.5l-.94 2.06-2.06.94zm10 10l.94 2.06.94-2.06 2.06-.94-2.06-.94-.94-2.06-.94 2.06-2.06.94z\"/><path d=\"M17.41 7.96l-1.37-1.37c-.4-.4-.92-.59-1.43-.59-.52 0-1.04.2-1.43.59L10.3 9.45l-7.72 7.72c-.78.78-.78 2.05 0 2.83L4 21.41c.39.39.9.59 1.41.59.51 0 1.02-.2 1.41-.59l7.78-7.78 2.81-2.81c.8-.78.8-2.07 0-2.86zM5.41 20L4 18.59l7.72-7.72 1.47 1.35L5.41 20z\"/>\n",
       "  </svg>\n",
       "      </button>\n",
       "      \n",
       "  <style>\n",
       "    .colab-df-container {\n",
       "      display:flex;\n",
       "      flex-wrap:wrap;\n",
       "      gap: 12px;\n",
       "    }\n",
       "\n",
       "    .colab-df-convert {\n",
       "      background-color: #E8F0FE;\n",
       "      border: none;\n",
       "      border-radius: 50%;\n",
       "      cursor: pointer;\n",
       "      display: none;\n",
       "      fill: #1967D2;\n",
       "      height: 32px;\n",
       "      padding: 0 0 0 0;\n",
       "      width: 32px;\n",
       "    }\n",
       "\n",
       "    .colab-df-convert:hover {\n",
       "      background-color: #E2EBFA;\n",
       "      box-shadow: 0px 1px 2px rgba(60, 64, 67, 0.3), 0px 1px 3px 1px rgba(60, 64, 67, 0.15);\n",
       "      fill: #174EA6;\n",
       "    }\n",
       "\n",
       "    [theme=dark] .colab-df-convert {\n",
       "      background-color: #3B4455;\n",
       "      fill: #D2E3FC;\n",
       "    }\n",
       "\n",
       "    [theme=dark] .colab-df-convert:hover {\n",
       "      background-color: #434B5C;\n",
       "      box-shadow: 0px 1px 3px 1px rgba(0, 0, 0, 0.15);\n",
       "      filter: drop-shadow(0px 1px 2px rgba(0, 0, 0, 0.3));\n",
       "      fill: #FFFFFF;\n",
       "    }\n",
       "  </style>\n",
       "\n",
       "      <script>\n",
       "        const buttonEl =\n",
       "          document.querySelector('#df-830b0c19-6620-422d-b01e-ef5cfe414e66 button.colab-df-convert');\n",
       "        buttonEl.style.display =\n",
       "          google.colab.kernel.accessAllowed ? 'block' : 'none';\n",
       "\n",
       "        async function convertToInteractive(key) {\n",
       "          const element = document.querySelector('#df-830b0c19-6620-422d-b01e-ef5cfe414e66');\n",
       "          const dataTable =\n",
       "            await google.colab.kernel.invokeFunction('convertToInteractive',\n",
       "                                                     [key], {});\n",
       "          if (!dataTable) return;\n",
       "\n",
       "          const docLinkHtml = 'Like what you see? Visit the ' +\n",
       "            '<a target=\"_blank\" href=https://colab.research.google.com/notebooks/data_table.ipynb>data table notebook</a>'\n",
       "            + ' to learn more about interactive tables.';\n",
       "          element.innerHTML = '';\n",
       "          dataTable['output_type'] = 'display_data';\n",
       "          await google.colab.output.renderOutput(dataTable, element);\n",
       "          const docLink = document.createElement('div');\n",
       "          docLink.innerHTML = docLinkHtml;\n",
       "          element.appendChild(docLink);\n",
       "        }\n",
       "      </script>\n",
       "    </div>\n",
       "  </div>\n",
       "  "
      ],
      "text/plain": [
       "               ID  Reason for Absence  Transportation Expense  \\\n",
       "count  700.000000          700.000000              700.000000   \n",
       "mean    17.951429           19.411429              222.347143   \n",
       "std     11.028144            8.356292               66.312960   \n",
       "min      1.000000            0.000000              118.000000   \n",
       "25%      9.000000           13.000000              179.000000   \n",
       "50%     18.000000           23.000000              225.000000   \n",
       "75%     28.000000           27.000000              260.000000   \n",
       "max     36.000000           28.000000              388.000000   \n",
       "\n",
       "       Distance to Work         Age  Daily Work Load Average  Body Mass Index  \\\n",
       "count        700.000000  700.000000               700.000000       700.000000   \n",
       "mean          29.892857   36.417143               271.801774        26.737143   \n",
       "std           14.804446    6.379083                40.021804         4.254701   \n",
       "min            5.000000   27.000000               205.917000        19.000000   \n",
       "25%           16.000000   31.000000               241.476000        24.000000   \n",
       "50%           26.000000   37.000000               264.249000        25.000000   \n",
       "75%           50.000000   40.000000               294.217000        31.000000   \n",
       "max           52.000000   58.000000               378.884000        38.000000   \n",
       "\n",
       "        Education    Children        Pets  Absenteeism Time in Hours  \n",
       "count  700.000000  700.000000  700.000000                 700.000000  \n",
       "mean     1.282857    1.021429    0.687143                   6.761429  \n",
       "std      0.668090    1.112215    1.166095                  12.670082  \n",
       "min      1.000000    0.000000    0.000000                   0.000000  \n",
       "25%      1.000000    0.000000    0.000000                   2.000000  \n",
       "50%      1.000000    1.000000    0.000000                   3.000000  \n",
       "75%      1.000000    2.000000    1.000000                   8.000000  \n",
       "max      4.000000    4.000000    8.000000                 120.000000  "
      ]
     },
     "execution_count": 10,
     "metadata": {},
     "output_type": "execute_result"
    }
   ],
   "source": [
    "df.describe()"
   ]
  },
  {
   "cell_type": "code",
   "execution_count": 11,
   "id": "d0f90677-6196-4a12-9915-bd558bf0b249",
   "metadata": {
    "colab": {
     "base_uri": "https://localhost:8080/",
     "height": 614
    },
    "executionInfo": {
     "elapsed": 16,
     "status": "ok",
     "timestamp": 1673407201660,
     "user": {
      "displayName": "Tushar Patil",
      "userId": "09849807803327805394"
     },
     "user_tz": -330
    },
    "id": "d0f90677-6196-4a12-9915-bd558bf0b249",
    "outputId": "8fc706d0-b151-4728-8145-690c62ff954c"
   },
   "outputs": [
    {
     "data": {
      "text/html": [
       "\n",
       "  <div id=\"df-258e27c0-04f9-4ba4-bb71-9649ebde9f84\">\n",
       "    <div class=\"colab-df-container\">\n",
       "      <div>\n",
       "<style scoped>\n",
       "    .dataframe tbody tr th:only-of-type {\n",
       "        vertical-align: middle;\n",
       "    }\n",
       "\n",
       "    .dataframe tbody tr th {\n",
       "        vertical-align: top;\n",
       "    }\n",
       "\n",
       "    .dataframe thead th {\n",
       "        text-align: right;\n",
       "    }\n",
       "</style>\n",
       "<table border=\"1\" class=\"dataframe\">\n",
       "  <thead>\n",
       "    <tr style=\"text-align: right;\">\n",
       "      <th></th>\n",
       "      <th>ID</th>\n",
       "      <th>Reason for Absence</th>\n",
       "      <th>Transportation Expense</th>\n",
       "      <th>Distance to Work</th>\n",
       "      <th>Age</th>\n",
       "      <th>Daily Work Load Average</th>\n",
       "      <th>Body Mass Index</th>\n",
       "      <th>Education</th>\n",
       "      <th>Children</th>\n",
       "      <th>Pets</th>\n",
       "      <th>Absenteeism Time in Hours</th>\n",
       "    </tr>\n",
       "  </thead>\n",
       "  <tbody>\n",
       "    <tr>\n",
       "      <th>ID</th>\n",
       "      <td>1.000000</td>\n",
       "      <td>-0.079111</td>\n",
       "      <td>-0.203788</td>\n",
       "      <td>-0.493562</td>\n",
       "      <td>0.041367</td>\n",
       "      <td>0.092873</td>\n",
       "      <td>-0.320718</td>\n",
       "      <td>-0.032889</td>\n",
       "      <td>0.026095</td>\n",
       "      <td>0.005380</td>\n",
       "      <td>-0.005469</td>\n",
       "    </tr>\n",
       "    <tr>\n",
       "      <th>Reason for Absence</th>\n",
       "      <td>-0.079111</td>\n",
       "      <td>1.000000</td>\n",
       "      <td>-0.131790</td>\n",
       "      <td>0.160059</td>\n",
       "      <td>-0.055210</td>\n",
       "      <td>-0.130406</td>\n",
       "      <td>0.052741</td>\n",
       "      <td>-0.060083</td>\n",
       "      <td>-0.050053</td>\n",
       "      <td>-0.032872</td>\n",
       "      <td>-0.175826</td>\n",
       "    </tr>\n",
       "    <tr>\n",
       "      <th>Transportation Expense</th>\n",
       "      <td>-0.203788</td>\n",
       "      <td>-0.131790</td>\n",
       "      <td>1.000000</td>\n",
       "      <td>0.234940</td>\n",
       "      <td>-0.223828</td>\n",
       "      <td>0.006123</td>\n",
       "      <td>-0.140531</td>\n",
       "      <td>-0.054597</td>\n",
       "      <td>0.381749</td>\n",
       "      <td>0.446887</td>\n",
       "      <td>0.008342</td>\n",
       "    </tr>\n",
       "    <tr>\n",
       "      <th>Distance to Work</th>\n",
       "      <td>-0.493562</td>\n",
       "      <td>0.160059</td>\n",
       "      <td>0.234940</td>\n",
       "      <td>1.000000</td>\n",
       "      <td>-0.131076</td>\n",
       "      <td>-0.073683</td>\n",
       "      <td>0.136190</td>\n",
       "      <td>-0.282600</td>\n",
       "      <td>0.048534</td>\n",
       "      <td>0.171585</td>\n",
       "      <td>-0.080593</td>\n",
       "    </tr>\n",
       "    <tr>\n",
       "      <th>Age</th>\n",
       "      <td>0.041367</td>\n",
       "      <td>-0.055210</td>\n",
       "      <td>-0.223828</td>\n",
       "      <td>-0.131076</td>\n",
       "      <td>1.000000</td>\n",
       "      <td>-0.045452</td>\n",
       "      <td>0.483762</td>\n",
       "      <td>-0.209330</td>\n",
       "      <td>0.046930</td>\n",
       "      <td>-0.252067</td>\n",
       "      <td>0.035784</td>\n",
       "    </tr>\n",
       "    <tr>\n",
       "      <th>Daily Work Load Average</th>\n",
       "      <td>0.092873</td>\n",
       "      <td>-0.130406</td>\n",
       "      <td>0.006123</td>\n",
       "      <td>-0.073683</td>\n",
       "      <td>-0.045452</td>\n",
       "      <td>1.000000</td>\n",
       "      <td>-0.098430</td>\n",
       "      <td>-0.077012</td>\n",
       "      <td>0.032194</td>\n",
       "      <td>0.010490</td>\n",
       "      <td>0.029609</td>\n",
       "    </tr>\n",
       "    <tr>\n",
       "      <th>Body Mass Index</th>\n",
       "      <td>-0.320718</td>\n",
       "      <td>0.052741</td>\n",
       "      <td>-0.140531</td>\n",
       "      <td>0.136190</td>\n",
       "      <td>0.483762</td>\n",
       "      <td>-0.098430</td>\n",
       "      <td>1.000000</td>\n",
       "      <td>-0.348758</td>\n",
       "      <td>-0.155711</td>\n",
       "      <td>-0.066484</td>\n",
       "      <td>-0.040203</td>\n",
       "    </tr>\n",
       "    <tr>\n",
       "      <th>Education</th>\n",
       "      <td>-0.032889</td>\n",
       "      <td>-0.060083</td>\n",
       "      <td>-0.054597</td>\n",
       "      <td>-0.282600</td>\n",
       "      <td>-0.209330</td>\n",
       "      <td>-0.077012</td>\n",
       "      <td>-0.348758</td>\n",
       "      <td>1.000000</td>\n",
       "      <td>-0.179521</td>\n",
       "      <td>-0.080899</td>\n",
       "      <td>-0.035621</td>\n",
       "    </tr>\n",
       "    <tr>\n",
       "      <th>Children</th>\n",
       "      <td>0.026095</td>\n",
       "      <td>-0.050053</td>\n",
       "      <td>0.381749</td>\n",
       "      <td>0.048534</td>\n",
       "      <td>0.046930</td>\n",
       "      <td>0.032194</td>\n",
       "      <td>-0.155711</td>\n",
       "      <td>-0.179521</td>\n",
       "      <td>1.000000</td>\n",
       "      <td>0.116586</td>\n",
       "      <td>0.093661</td>\n",
       "    </tr>\n",
       "    <tr>\n",
       "      <th>Pets</th>\n",
       "      <td>0.005380</td>\n",
       "      <td>-0.032872</td>\n",
       "      <td>0.446887</td>\n",
       "      <td>0.171585</td>\n",
       "      <td>-0.252067</td>\n",
       "      <td>0.010490</td>\n",
       "      <td>-0.066484</td>\n",
       "      <td>-0.080899</td>\n",
       "      <td>0.116586</td>\n",
       "      <td>1.000000</td>\n",
       "      <td>-0.024522</td>\n",
       "    </tr>\n",
       "    <tr>\n",
       "      <th>Absenteeism Time in Hours</th>\n",
       "      <td>-0.005469</td>\n",
       "      <td>-0.175826</td>\n",
       "      <td>0.008342</td>\n",
       "      <td>-0.080593</td>\n",
       "      <td>0.035784</td>\n",
       "      <td>0.029609</td>\n",
       "      <td>-0.040203</td>\n",
       "      <td>-0.035621</td>\n",
       "      <td>0.093661</td>\n",
       "      <td>-0.024522</td>\n",
       "      <td>1.000000</td>\n",
       "    </tr>\n",
       "  </tbody>\n",
       "</table>\n",
       "</div>\n",
       "      <button class=\"colab-df-convert\" onclick=\"convertToInteractive('df-258e27c0-04f9-4ba4-bb71-9649ebde9f84')\"\n",
       "              title=\"Convert this dataframe to an interactive table.\"\n",
       "              style=\"display:none;\">\n",
       "        \n",
       "  <svg xmlns=\"http://www.w3.org/2000/svg\" height=\"24px\"viewBox=\"0 0 24 24\"\n",
       "       width=\"24px\">\n",
       "    <path d=\"M0 0h24v24H0V0z\" fill=\"none\"/>\n",
       "    <path d=\"M18.56 5.44l.94 2.06.94-2.06 2.06-.94-2.06-.94-.94-2.06-.94 2.06-2.06.94zm-11 1L8.5 8.5l.94-2.06 2.06-.94-2.06-.94L8.5 2.5l-.94 2.06-2.06.94zm10 10l.94 2.06.94-2.06 2.06-.94-2.06-.94-.94-2.06-.94 2.06-2.06.94z\"/><path d=\"M17.41 7.96l-1.37-1.37c-.4-.4-.92-.59-1.43-.59-.52 0-1.04.2-1.43.59L10.3 9.45l-7.72 7.72c-.78.78-.78 2.05 0 2.83L4 21.41c.39.39.9.59 1.41.59.51 0 1.02-.2 1.41-.59l7.78-7.78 2.81-2.81c.8-.78.8-2.07 0-2.86zM5.41 20L4 18.59l7.72-7.72 1.47 1.35L5.41 20z\"/>\n",
       "  </svg>\n",
       "      </button>\n",
       "      \n",
       "  <style>\n",
       "    .colab-df-container {\n",
       "      display:flex;\n",
       "      flex-wrap:wrap;\n",
       "      gap: 12px;\n",
       "    }\n",
       "\n",
       "    .colab-df-convert {\n",
       "      background-color: #E8F0FE;\n",
       "      border: none;\n",
       "      border-radius: 50%;\n",
       "      cursor: pointer;\n",
       "      display: none;\n",
       "      fill: #1967D2;\n",
       "      height: 32px;\n",
       "      padding: 0 0 0 0;\n",
       "      width: 32px;\n",
       "    }\n",
       "\n",
       "    .colab-df-convert:hover {\n",
       "      background-color: #E2EBFA;\n",
       "      box-shadow: 0px 1px 2px rgba(60, 64, 67, 0.3), 0px 1px 3px 1px rgba(60, 64, 67, 0.15);\n",
       "      fill: #174EA6;\n",
       "    }\n",
       "\n",
       "    [theme=dark] .colab-df-convert {\n",
       "      background-color: #3B4455;\n",
       "      fill: #D2E3FC;\n",
       "    }\n",
       "\n",
       "    [theme=dark] .colab-df-convert:hover {\n",
       "      background-color: #434B5C;\n",
       "      box-shadow: 0px 1px 3px 1px rgba(0, 0, 0, 0.15);\n",
       "      filter: drop-shadow(0px 1px 2px rgba(0, 0, 0, 0.3));\n",
       "      fill: #FFFFFF;\n",
       "    }\n",
       "  </style>\n",
       "\n",
       "      <script>\n",
       "        const buttonEl =\n",
       "          document.querySelector('#df-258e27c0-04f9-4ba4-bb71-9649ebde9f84 button.colab-df-convert');\n",
       "        buttonEl.style.display =\n",
       "          google.colab.kernel.accessAllowed ? 'block' : 'none';\n",
       "\n",
       "        async function convertToInteractive(key) {\n",
       "          const element = document.querySelector('#df-258e27c0-04f9-4ba4-bb71-9649ebde9f84');\n",
       "          const dataTable =\n",
       "            await google.colab.kernel.invokeFunction('convertToInteractive',\n",
       "                                                     [key], {});\n",
       "          if (!dataTable) return;\n",
       "\n",
       "          const docLinkHtml = 'Like what you see? Visit the ' +\n",
       "            '<a target=\"_blank\" href=https://colab.research.google.com/notebooks/data_table.ipynb>data table notebook</a>'\n",
       "            + ' to learn more about interactive tables.';\n",
       "          element.innerHTML = '';\n",
       "          dataTable['output_type'] = 'display_data';\n",
       "          await google.colab.output.renderOutput(dataTable, element);\n",
       "          const docLink = document.createElement('div');\n",
       "          docLink.innerHTML = docLinkHtml;\n",
       "          element.appendChild(docLink);\n",
       "        }\n",
       "      </script>\n",
       "    </div>\n",
       "  </div>\n",
       "  "
      ],
      "text/plain": [
       "                                 ID  Reason for Absence  \\\n",
       "ID                         1.000000           -0.079111   \n",
       "Reason for Absence        -0.079111            1.000000   \n",
       "Transportation Expense    -0.203788           -0.131790   \n",
       "Distance to Work          -0.493562            0.160059   \n",
       "Age                        0.041367           -0.055210   \n",
       "Daily Work Load Average    0.092873           -0.130406   \n",
       "Body Mass Index           -0.320718            0.052741   \n",
       "Education                 -0.032889           -0.060083   \n",
       "Children                   0.026095           -0.050053   \n",
       "Pets                       0.005380           -0.032872   \n",
       "Absenteeism Time in Hours -0.005469           -0.175826   \n",
       "\n",
       "                           Transportation Expense  Distance to Work       Age  \\\n",
       "ID                                      -0.203788         -0.493562  0.041367   \n",
       "Reason for Absence                      -0.131790          0.160059 -0.055210   \n",
       "Transportation Expense                   1.000000          0.234940 -0.223828   \n",
       "Distance to Work                         0.234940          1.000000 -0.131076   \n",
       "Age                                     -0.223828         -0.131076  1.000000   \n",
       "Daily Work Load Average                  0.006123         -0.073683 -0.045452   \n",
       "Body Mass Index                         -0.140531          0.136190  0.483762   \n",
       "Education                               -0.054597         -0.282600 -0.209330   \n",
       "Children                                 0.381749          0.048534  0.046930   \n",
       "Pets                                     0.446887          0.171585 -0.252067   \n",
       "Absenteeism Time in Hours                0.008342         -0.080593  0.035784   \n",
       "\n",
       "                           Daily Work Load Average  Body Mass Index  \\\n",
       "ID                                        0.092873        -0.320718   \n",
       "Reason for Absence                       -0.130406         0.052741   \n",
       "Transportation Expense                    0.006123        -0.140531   \n",
       "Distance to Work                         -0.073683         0.136190   \n",
       "Age                                      -0.045452         0.483762   \n",
       "Daily Work Load Average                   1.000000        -0.098430   \n",
       "Body Mass Index                          -0.098430         1.000000   \n",
       "Education                                -0.077012        -0.348758   \n",
       "Children                                  0.032194        -0.155711   \n",
       "Pets                                      0.010490        -0.066484   \n",
       "Absenteeism Time in Hours                 0.029609        -0.040203   \n",
       "\n",
       "                           Education  Children      Pets  \\\n",
       "ID                         -0.032889  0.026095  0.005380   \n",
       "Reason for Absence         -0.060083 -0.050053 -0.032872   \n",
       "Transportation Expense     -0.054597  0.381749  0.446887   \n",
       "Distance to Work           -0.282600  0.048534  0.171585   \n",
       "Age                        -0.209330  0.046930 -0.252067   \n",
       "Daily Work Load Average    -0.077012  0.032194  0.010490   \n",
       "Body Mass Index            -0.348758 -0.155711 -0.066484   \n",
       "Education                   1.000000 -0.179521 -0.080899   \n",
       "Children                   -0.179521  1.000000  0.116586   \n",
       "Pets                       -0.080899  0.116586  1.000000   \n",
       "Absenteeism Time in Hours  -0.035621  0.093661 -0.024522   \n",
       "\n",
       "                           Absenteeism Time in Hours  \n",
       "ID                                         -0.005469  \n",
       "Reason for Absence                         -0.175826  \n",
       "Transportation Expense                      0.008342  \n",
       "Distance to Work                           -0.080593  \n",
       "Age                                         0.035784  \n",
       "Daily Work Load Average                     0.029609  \n",
       "Body Mass Index                            -0.040203  \n",
       "Education                                  -0.035621  \n",
       "Children                                    0.093661  \n",
       "Pets                                       -0.024522  \n",
       "Absenteeism Time in Hours                   1.000000  "
      ]
     },
     "execution_count": 11,
     "metadata": {},
     "output_type": "execute_result"
    }
   ],
   "source": [
    "df.corr()"
   ]
  },
  {
   "cell_type": "code",
   "execution_count": 12,
   "id": "8dee7022-a9a0-4113-bd62-ad436ab26fc9",
   "metadata": {
    "colab": {
     "base_uri": "https://localhost:8080/",
     "height": 632
    },
    "executionInfo": {
     "elapsed": 1623,
     "status": "ok",
     "timestamp": 1673407203268,
     "user": {
      "displayName": "Tushar Patil",
      "userId": "09849807803327805394"
     },
     "user_tz": -330
    },
    "id": "8dee7022-a9a0-4113-bd62-ad436ab26fc9",
    "outputId": "593b7bb2-f4f2-4bba-cb4d-39e6fc8ce146"
   },
   "outputs": [
    {
     "data": {
      "text/plain": [
       "<matplotlib.axes._subplots.AxesSubplot at 0x7f7f4cca4ca0>"
      ]
     },
     "execution_count": 12,
     "metadata": {},
     "output_type": "execute_result"
    },
    {
     "data": {
      "image/png": "[encoded data removed]",
      "text/plain": [
       "<Figure size 864x576 with 2 Axes>"
      ]
     },
     "metadata": {
      "needs_background": "light"
     },
     "output_type": "display_data"
    }
   ],
   "source": [
    "plt.figure(figsize = (12,8))\n",
    "sns.heatmap(df.corr(),annot = True)"
   ]
  },
  {
   "cell_type": "code",
   "execution_count": 13,
   "id": "1663f49f-6fca-4e80-aabe-68dfaad02383",
   "metadata": {
    "colab": {
     "base_uri": "https://localhost:8080/",
     "height": 322
    },
    "executionInfo": {
     "elapsed": 18,
     "status": "ok",
     "timestamp": 1673407203269,
     "user": {
      "displayName": "Tushar Patil",
      "userId": "09849807803327805394"
     },
     "user_tz": -330
    },
    "id": "1663f49f-6fca-4e80-aabe-68dfaad02383",
    "outputId": "4c87bcb3-6e4a-409c-94b2-6140c138122e"
   },
   "outputs": [
    {
     "data": {
      "text/html": [
       "\n",
       "  <div id=\"df-da9a2a41-8fbb-4afb-a310-acd9f081411a\">\n",
       "    <div class=\"colab-df-container\">\n",
       "      <div>\n",
       "<style scoped>\n",
       "    .dataframe tbody tr th:only-of-type {\n",
       "        vertical-align: middle;\n",
       "    }\n",
       "\n",
       "    .dataframe tbody tr th {\n",
       "        vertical-align: top;\n",
       "    }\n",
       "\n",
       "    .dataframe thead th {\n",
       "        text-align: right;\n",
       "    }\n",
       "</style>\n",
       "<table border=\"1\" class=\"dataframe\">\n",
       "  <thead>\n",
       "    <tr style=\"text-align: right;\">\n",
       "      <th></th>\n",
       "      <th>Reason for Absence</th>\n",
       "      <th>Date</th>\n",
       "      <th>Transportation Expense</th>\n",
       "      <th>Distance to Work</th>\n",
       "      <th>Age</th>\n",
       "      <th>Daily Work Load Average</th>\n",
       "      <th>Body Mass Index</th>\n",
       "      <th>Education</th>\n",
       "      <th>Children</th>\n",
       "      <th>Pets</th>\n",
       "      <th>Absenteeism Time in Hours</th>\n",
       "    </tr>\n",
       "  </thead>\n",
       "  <tbody>\n",
       "    <tr>\n",
       "      <th>0</th>\n",
       "      <td>26</td>\n",
       "      <td>07/07/2015</td>\n",
       "      <td>289</td>\n",
       "      <td>36</td>\n",
       "      <td>33</td>\n",
       "      <td>239.554</td>\n",
       "      <td>30</td>\n",
       "      <td>1</td>\n",
       "      <td>2</td>\n",
       "      <td>1</td>\n",
       "      <td>4</td>\n",
       "    </tr>\n",
       "    <tr>\n",
       "      <th>1</th>\n",
       "      <td>0</td>\n",
       "      <td>14/07/2015</td>\n",
       "      <td>118</td>\n",
       "      <td>13</td>\n",
       "      <td>50</td>\n",
       "      <td>239.554</td>\n",
       "      <td>31</td>\n",
       "      <td>1</td>\n",
       "      <td>1</td>\n",
       "      <td>0</td>\n",
       "      <td>0</td>\n",
       "    </tr>\n",
       "    <tr>\n",
       "      <th>2</th>\n",
       "      <td>23</td>\n",
       "      <td>15/07/2015</td>\n",
       "      <td>179</td>\n",
       "      <td>51</td>\n",
       "      <td>38</td>\n",
       "      <td>239.554</td>\n",
       "      <td>31</td>\n",
       "      <td>1</td>\n",
       "      <td>0</td>\n",
       "      <td>0</td>\n",
       "      <td>2</td>\n",
       "    </tr>\n",
       "    <tr>\n",
       "      <th>3</th>\n",
       "      <td>7</td>\n",
       "      <td>16/07/2015</td>\n",
       "      <td>279</td>\n",
       "      <td>5</td>\n",
       "      <td>39</td>\n",
       "      <td>239.554</td>\n",
       "      <td>24</td>\n",
       "      <td>1</td>\n",
       "      <td>2</td>\n",
       "      <td>0</td>\n",
       "      <td>4</td>\n",
       "    </tr>\n",
       "    <tr>\n",
       "      <th>4</th>\n",
       "      <td>23</td>\n",
       "      <td>23/07/2015</td>\n",
       "      <td>289</td>\n",
       "      <td>36</td>\n",
       "      <td>33</td>\n",
       "      <td>239.554</td>\n",
       "      <td>30</td>\n",
       "      <td>1</td>\n",
       "      <td>2</td>\n",
       "      <td>1</td>\n",
       "      <td>2</td>\n",
       "    </tr>\n",
       "  </tbody>\n",
       "</table>\n",
       "</div>\n",
       "      <button class=\"colab-df-convert\" onclick=\"convertToInteractive('df-da9a2a41-8fbb-4afb-a310-acd9f081411a')\"\n",
       "              title=\"Convert this dataframe to an interactive table.\"\n",
       "              style=\"display:none;\">\n",
       "        \n",
       "  <svg xmlns=\"http://www.w3.org/2000/svg\" height=\"24px\"viewBox=\"0 0 24 24\"\n",
       "       width=\"24px\">\n",
       "    <path d=\"M0 0h24v24H0V0z\" fill=\"none\"/>\n",
       "    <path d=\"M18.56 5.44l.94 2.06.94-2.06 2.06-.94-2.06-.94-.94-2.06-.94 2.06-2.06.94zm-11 1L8.5 8.5l.94-2.06 2.06-.94-2.06-.94L8.5 2.5l-.94 2.06-2.06.94zm10 10l.94 2.06.94-2.06 2.06-.94-2.06-.94-.94-2.06-.94 2.06-2.06.94z\"/><path d=\"M17.41 7.96l-1.37-1.37c-.4-.4-.92-.59-1.43-.59-.52 0-1.04.2-1.43.59L10.3 9.45l-7.72 7.72c-.78.78-.78 2.05 0 2.83L4 21.41c.39.39.9.59 1.41.59.51 0 1.02-.2 1.41-.59l7.78-7.78 2.81-2.81c.8-.78.8-2.07 0-2.86zM5.41 20L4 18.59l7.72-7.72 1.47 1.35L5.41 20z\"/>\n",
       "  </svg>\n",
       "      </button>\n",
       "      \n",
       "  <style>\n",
       "    .colab-df-container {\n",
       "      display:flex;\n",
       "      flex-wrap:wrap;\n",
       "      gap: 12px;\n",
       "    }\n",
       "\n",
       "    .colab-df-convert {\n",
       "      background-color: #E8F0FE;\n",
       "      border: none;\n",
       "      border-radius: 50%;\n",
       "      cursor: pointer;\n",
       "      display: none;\n",
       "      fill: #1967D2;\n",
       "      height: 32px;\n",
       "      padding: 0 0 0 0;\n",
       "      width: 32px;\n",
       "    }\n",
       "\n",
       "    .colab-df-convert:hover {\n",
       "      background-color: #E2EBFA;\n",
       "      box-shadow: 0px 1px 2px rgba(60, 64, 67, 0.3), 0px 1px 3px 1px rgba(60, 64, 67, 0.15);\n",
       "      fill: #174EA6;\n",
       "    }\n",
       "\n",
       "    [theme=dark] .colab-df-convert {\n",
       "      background-color: #3B4455;\n",
       "      fill: #D2E3FC;\n",
       "    }\n",
       "\n",
       "    [theme=dark] .colab-df-convert:hover {\n",
       "      background-color: #434B5C;\n",
       "      box-shadow: 0px 1px 3px 1px rgba(0, 0, 0, 0.15);\n",
       "      filter: drop-shadow(0px 1px 2px rgba(0, 0, 0, 0.3));\n",
       "      fill: #FFFFFF;\n",
       "    }\n",
       "  </style>\n",
       "\n",
       "      <script>\n",
       "        const buttonEl =\n",
       "          document.querySelector('#df-da9a2a41-8fbb-4afb-a310-acd9f081411a button.colab-df-convert');\n",
       "        buttonEl.style.display =\n",
       "          google.colab.kernel.accessAllowed ? 'block' : 'none';\n",
       "\n",
       "        async function convertToInteractive(key) {\n",
       "          const element = document.querySelector('#df-da9a2a41-8fbb-4afb-a310-acd9f081411a');\n",
       "          const dataTable =\n",
       "            await google.colab.kernel.invokeFunction('convertToInteractive',\n",
       "                                                     [key], {});\n",
       "          if (!dataTable) return;\n",
       "\n",
       "          const docLinkHtml = 'Like what you see? Visit the ' +\n",
       "            '<a target=\"_blank\" href=https://colab.research.google.com/notebooks/data_table.ipynb>data table notebook</a>'\n",
       "            + ' to learn more about interactive tables.';\n",
       "          element.innerHTML = '';\n",
       "          dataTable['output_type'] = 'display_data';\n",
       "          await google.colab.output.renderOutput(dataTable, element);\n",
       "          const docLink = document.createElement('div');\n",
       "          docLink.innerHTML = docLinkHtml;\n",
       "          element.appendChild(docLink);\n",
       "        }\n",
       "      </script>\n",
       "    </div>\n",
       "  </div>\n",
       "  "
      ],
      "text/plain": [
       "   Reason for Absence        Date  Transportation Expense  Distance to Work  \\\n",
       "0                  26  07/07/2015                     289                36   \n",
       "1                   0  14/07/2015                     118                13   \n",
       "2                  23  15/07/2015                     179                51   \n",
       "3                   7  16/07/2015                     279                 5   \n",
       "4                  23  23/07/2015                     289                36   \n",
       "\n",
       "   Age  Daily Work Load Average  Body Mass Index  Education  Children  Pets  \\\n",
       "0   33                  239.554               30          1         2     1   \n",
       "1   50                  239.554               31          1         1     0   \n",
       "2   38                  239.554               31          1         0     0   \n",
       "3   39                  239.554               24          1         2     0   \n",
       "4   33                  239.554               30          1         2     1   \n",
       "\n",
       "   Absenteeism Time in Hours  \n",
       "0                          4  \n",
       "1                          0  \n",
       "2                          2  \n",
       "3                          4  \n",
       "4                          2  "
      ]
     },
     "execution_count": 13,
     "metadata": {},
     "output_type": "execute_result"
    }
   ],
   "source": [
    "df = df.drop('ID',axis = 1)\n",
    "df.head()"
   ]
  },
  {
   "cell_type": "code",
   "execution_count": 14,
   "id": "b7e477cd-23c6-4c64-b1bc-aca6e97d21b1",
   "metadata": {
    "colab": {
     "base_uri": "https://localhost:8080/"
    },
    "executionInfo": {
     "elapsed": 16,
     "status": "ok",
     "timestamp": 1673407203269,
     "user": {
      "displayName": "Tushar Patil",
      "userId": "09849807803327805394"
     },
     "user_tz": -330
    },
    "id": "b7e477cd-23c6-4c64-b1bc-aca6e97d21b1",
    "outputId": "2201356f-0b7d-4dd9-e655-f40c16fba970"
   },
   "outputs": [
    {
     "data": {
      "text/plain": [
       "array([26,  0, 23,  7, 22, 19,  1, 11, 14, 21, 10, 13, 28, 18, 25, 24,  6,\n",
       "       27, 17,  8, 12,  5,  9, 15,  4,  3,  2, 16])"
      ]
     },
     "execution_count": 14,
     "metadata": {},
     "output_type": "execute_result"
    }
   ],
   "source": [
    "df['Reason for Absence'].unique()"
   ]
  },
  {
   "cell_type": "code",
   "execution_count": 15,
   "id": "6c47a114-e25d-45ea-a391-1ecf75a223be",
   "metadata": {
    "colab": {
     "base_uri": "https://localhost:8080/",
     "height": 235
    },
    "executionInfo": {
     "elapsed": 12,
     "status": "ok",
     "timestamp": 1673407203270,
     "user": {
      "displayName": "Tushar Patil",
      "userId": "09849807803327805394"
     },
     "user_tz": -330
    },
    "id": "6c47a114-e25d-45ea-a391-1ecf75a223be",
    "outputId": "856d14c4-a253-4586-cd1f-47cabbe11660"
   },
   "outputs": [
    {
     "data": {
      "text/html": [
       "\n",
       "  <div id=\"df-7fe71c3f-26f4-49d1-bed6-f4b7032069d8\">\n",
       "    <div class=\"colab-df-container\">\n",
       "      <div>\n",
       "<style scoped>\n",
       "    .dataframe tbody tr th:only-of-type {\n",
       "        vertical-align: middle;\n",
       "    }\n",
       "\n",
       "    .dataframe tbody tr th {\n",
       "        vertical-align: top;\n",
       "    }\n",
       "\n",
       "    .dataframe thead th {\n",
       "        text-align: right;\n",
       "    }\n",
       "</style>\n",
       "<table border=\"1\" class=\"dataframe\">\n",
       "  <thead>\n",
       "    <tr style=\"text-align: right;\">\n",
       "      <th></th>\n",
       "      <th>0</th>\n",
       "      <th>1</th>\n",
       "      <th>2</th>\n",
       "      <th>3</th>\n",
       "      <th>4</th>\n",
       "      <th>5</th>\n",
       "      <th>6</th>\n",
       "      <th>7</th>\n",
       "      <th>8</th>\n",
       "      <th>9</th>\n",
       "      <th>...</th>\n",
       "      <th>18</th>\n",
       "      <th>19</th>\n",
       "      <th>21</th>\n",
       "      <th>22</th>\n",
       "      <th>23</th>\n",
       "      <th>24</th>\n",
       "      <th>25</th>\n",
       "      <th>26</th>\n",
       "      <th>27</th>\n",
       "      <th>28</th>\n",
       "    </tr>\n",
       "  </thead>\n",
       "  <tbody>\n",
       "    <tr>\n",
       "      <th>0</th>\n",
       "      <td>0</td>\n",
       "      <td>0</td>\n",
       "      <td>0</td>\n",
       "      <td>0</td>\n",
       "      <td>0</td>\n",
       "      <td>0</td>\n",
       "      <td>0</td>\n",
       "      <td>0</td>\n",
       "      <td>0</td>\n",
       "      <td>0</td>\n",
       "      <td>...</td>\n",
       "      <td>0</td>\n",
       "      <td>0</td>\n",
       "      <td>0</td>\n",
       "      <td>0</td>\n",
       "      <td>0</td>\n",
       "      <td>0</td>\n",
       "      <td>0</td>\n",
       "      <td>1</td>\n",
       "      <td>0</td>\n",
       "      <td>0</td>\n",
       "    </tr>\n",
       "    <tr>\n",
       "      <th>1</th>\n",
       "      <td>1</td>\n",
       "      <td>0</td>\n",
       "      <td>0</td>\n",
       "      <td>0</td>\n",
       "      <td>0</td>\n",
       "      <td>0</td>\n",
       "      <td>0</td>\n",
       "      <td>0</td>\n",
       "      <td>0</td>\n",
       "      <td>0</td>\n",
       "      <td>...</td>\n",
       "      <td>0</td>\n",
       "      <td>0</td>\n",
       "      <td>0</td>\n",
       "      <td>0</td>\n",
       "      <td>0</td>\n",
       "      <td>0</td>\n",
       "      <td>0</td>\n",
       "      <td>0</td>\n",
       "      <td>0</td>\n",
       "      <td>0</td>\n",
       "    </tr>\n",
       "    <tr>\n",
       "      <th>2</th>\n",
       "      <td>0</td>\n",
       "      <td>0</td>\n",
       "      <td>0</td>\n",
       "      <td>0</td>\n",
       "      <td>0</td>\n",
       "      <td>0</td>\n",
       "      <td>0</td>\n",
       "      <td>0</td>\n",
       "      <td>0</td>\n",
       "      <td>0</td>\n",
       "      <td>...</td>\n",
       "      <td>0</td>\n",
       "      <td>0</td>\n",
       "      <td>0</td>\n",
       "      <td>0</td>\n",
       "      <td>1</td>\n",
       "      <td>0</td>\n",
       "      <td>0</td>\n",
       "      <td>0</td>\n",
       "      <td>0</td>\n",
       "      <td>0</td>\n",
       "    </tr>\n",
       "    <tr>\n",
       "      <th>3</th>\n",
       "      <td>0</td>\n",
       "      <td>0</td>\n",
       "      <td>0</td>\n",
       "      <td>0</td>\n",
       "      <td>0</td>\n",
       "      <td>0</td>\n",
       "      <td>0</td>\n",
       "      <td>1</td>\n",
       "      <td>0</td>\n",
       "      <td>0</td>\n",
       "      <td>...</td>\n",
       "      <td>0</td>\n",
       "      <td>0</td>\n",
       "      <td>0</td>\n",
       "      <td>0</td>\n",
       "      <td>0</td>\n",
       "      <td>0</td>\n",
       "      <td>0</td>\n",
       "      <td>0</td>\n",
       "      <td>0</td>\n",
       "      <td>0</td>\n",
       "    </tr>\n",
       "    <tr>\n",
       "      <th>4</th>\n",
       "      <td>0</td>\n",
       "      <td>0</td>\n",
       "      <td>0</td>\n",
       "      <td>0</td>\n",
       "      <td>0</td>\n",
       "      <td>0</td>\n",
       "      <td>0</td>\n",
       "      <td>0</td>\n",
       "      <td>0</td>\n",
       "      <td>0</td>\n",
       "      <td>...</td>\n",
       "      <td>0</td>\n",
       "      <td>0</td>\n",
       "      <td>0</td>\n",
       "      <td>0</td>\n",
       "      <td>1</td>\n",
       "      <td>0</td>\n",
       "      <td>0</td>\n",
       "      <td>0</td>\n",
       "      <td>0</td>\n",
       "      <td>0</td>\n",
       "    </tr>\n",
       "  </tbody>\n",
       "</table>\n",
       "<p>5 rows × 28 columns</p>\n",
       "</div>\n",
       "      <button class=\"colab-df-convert\" onclick=\"convertToInteractive('df-7fe71c3f-26f4-49d1-bed6-f4b7032069d8')\"\n",
       "              title=\"Convert this dataframe to an interactive table.\"\n",
       "              style=\"display:none;\">\n",
       "        \n",
       "  <svg xmlns=\"http://www.w3.org/2000/svg\" height=\"24px\"viewBox=\"0 0 24 24\"\n",
       "       width=\"24px\">\n",
       "    <path d=\"M0 0h24v24H0V0z\" fill=\"none\"/>\n",
       "    <path d=\"M18.56 5.44l.94 2.06.94-2.06 2.06-.94-2.06-.94-.94-2.06-.94 2.06-2.06.94zm-11 1L8.5 8.5l.94-2.06 2.06-.94-2.06-.94L8.5 2.5l-.94 2.06-2.06.94zm10 10l.94 2.06.94-2.06 2.06-.94-2.06-.94-.94-2.06-.94 2.06-2.06.94z\"/><path d=\"M17.41 7.96l-1.37-1.37c-.4-.4-.92-.59-1.43-.59-.52 0-1.04.2-1.43.59L10.3 9.45l-7.72 7.72c-.78.78-.78 2.05 0 2.83L4 21.41c.39.39.9.59 1.41.59.51 0 1.02-.2 1.41-.59l7.78-7.78 2.81-2.81c.8-.78.8-2.07 0-2.86zM5.41 20L4 18.59l7.72-7.72 1.47 1.35L5.41 20z\"/>\n",
       "  </svg>\n",
       "      </button>\n",
       "      \n",
       "  <style>\n",
       "    .colab-df-container {\n",
       "      display:flex;\n",
       "      flex-wrap:wrap;\n",
       "      gap: 12px;\n",
       "    }\n",
       "\n",
       "    .colab-df-convert {\n",
       "      background-color: #E8F0FE;\n",
       "      border: none;\n",
       "      border-radius: 50%;\n",
       "      cursor: pointer;\n",
       "      display: none;\n",
       "      fill: #1967D2;\n",
       "      height: 32px;\n",
       "      padding: 0 0 0 0;\n",
       "      width: 32px;\n",
       "    }\n",
       "\n",
       "    .colab-df-convert:hover {\n",
       "      background-color: #E2EBFA;\n",
       "      box-shadow: 0px 1px 2px rgba(60, 64, 67, 0.3), 0px 1px 3px 1px rgba(60, 64, 67, 0.15);\n",
       "      fill: #174EA6;\n",
       "    }\n",
       "\n",
       "    [theme=dark] .colab-df-convert {\n",
       "      background-color: #3B4455;\n",
       "      fill: #D2E3FC;\n",
       "    }\n",
       "\n",
       "    [theme=dark] .colab-df-convert:hover {\n",
       "      background-color: #434B5C;\n",
       "      box-shadow: 0px 1px 3px 1px rgba(0, 0, 0, 0.15);\n",
       "      filter: drop-shadow(0px 1px 2px rgba(0, 0, 0, 0.3));\n",
       "      fill: #FFFFFF;\n",
       "    }\n",
       "  </style>\n",
       "\n",
       "      <script>\n",
       "        const buttonEl =\n",
       "          document.querySelector('#df-7fe71c3f-26f4-49d1-bed6-f4b7032069d8 button.colab-df-convert');\n",
       "        buttonEl.style.display =\n",
       "          google.colab.kernel.accessAllowed ? 'block' : 'none';\n",
       "\n",
       "        async function convertToInteractive(key) {\n",
       "          const element = document.querySelector('#df-7fe71c3f-26f4-49d1-bed6-f4b7032069d8');\n",
       "          const dataTable =\n",
       "            await google.colab.kernel.invokeFunction('convertToInteractive',\n",
       "                                                     [key], {});\n",
       "          if (!dataTable) return;\n",
       "\n",
       "          const docLinkHtml = 'Like what you see? Visit the ' +\n",
       "            '<a target=\"_blank\" href=https://colab.research.google.com/notebooks/data_table.ipynb>data table notebook</a>'\n",
       "            + ' to learn more about interactive tables.';\n",
       "          element.innerHTML = '';\n",
       "          dataTable['output_type'] = 'display_data';\n",
       "          await google.colab.output.renderOutput(dataTable, element);\n",
       "          const docLink = document.createElement('div');\n",
       "          docLink.innerHTML = docLinkHtml;\n",
       "          element.appendChild(docLink);\n",
       "        }\n",
       "      </script>\n",
       "    </div>\n",
       "  </div>\n",
       "  "
      ],
      "text/plain": [
       "   0   1   2   3   4   5   6   7   8   9   ...  18  19  21  22  23  24  25  \\\n",
       "0   0   0   0   0   0   0   0   0   0   0  ...   0   0   0   0   0   0   0   \n",
       "1   1   0   0   0   0   0   0   0   0   0  ...   0   0   0   0   0   0   0   \n",
       "2   0   0   0   0   0   0   0   0   0   0  ...   0   0   0   0   1   0   0   \n",
       "3   0   0   0   0   0   0   0   1   0   0  ...   0   0   0   0   0   0   0   \n",
       "4   0   0   0   0   0   0   0   0   0   0  ...   0   0   0   0   1   0   0   \n",
       "\n",
       "   26  27  28  \n",
       "0   1   0   0  \n",
       "1   0   0   0  \n",
       "2   0   0   0  \n",
       "3   0   0   0  \n",
       "4   0   0   0  \n",
       "\n",
       "[5 rows x 28 columns]"
      ]
     },
     "execution_count": 15,
     "metadata": {},
     "output_type": "execute_result"
    }
   ],
   "source": [
    "df_dummies = pd.get_dummies(df['Reason for Absence'])\n",
    "df_dummies.head()"
   ]
  },
  {
   "cell_type": "code",
   "execution_count": 16,
   "id": "78547cdc-3d70-4770-bb4a-e255be585712",
   "metadata": {
    "executionInfo": {
     "elapsed": 11,
     "status": "ok",
     "timestamp": 1673407203270,
     "user": {
      "displayName": "Tushar Patil",
      "userId": "09849807803327805394"
     },
     "user_tz": -330
    },
    "id": "78547cdc-3d70-4770-bb4a-e255be585712"
   },
   "outputs": [],
   "source": [
    "# Stpe 5 : if possible or needed group the column to reduce the data size\n",
    "reason_1 = df_dummies.loc[:,1:14].max(axis=1)\n",
    "reason_2 = df_dummies.loc[:,15:17].max(axis=1)\n",
    "reason_3 = df_dummies.loc[:,18:21].max(axis=1)\n",
    "reason_4 = df_dummies.loc[:,22:].max(axis=1)"
   ]
  },
  {
   "cell_type": "code",
   "execution_count": 17,
   "id": "8605bfd9-37d8-44fa-9673-b78841ce2ce9",
   "metadata": {
    "colab": {
     "base_uri": "https://localhost:8080/",
     "height": 322
    },
    "executionInfo": {
     "elapsed": 1161,
     "status": "ok",
     "timestamp": 1673407204420,
     "user": {
      "displayName": "Tushar Patil",
      "userId": "09849807803327805394"
     },
     "user_tz": -330
    },
    "id": "8605bfd9-37d8-44fa-9673-b78841ce2ce9",
    "outputId": "98df0395-5c4b-4e5e-d97b-908c9d478896"
   },
   "outputs": [
    {
     "data": {
      "text/html": [
       "\n",
       "  <div id=\"df-c65fcf50-a427-44b9-aa72-2ae127fd48d4\">\n",
       "    <div class=\"colab-df-container\">\n",
       "      <div>\n",
       "<style scoped>\n",
       "    .dataframe tbody tr th:only-of-type {\n",
       "        vertical-align: middle;\n",
       "    }\n",
       "\n",
       "    .dataframe tbody tr th {\n",
       "        vertical-align: top;\n",
       "    }\n",
       "\n",
       "    .dataframe thead th {\n",
       "        text-align: right;\n",
       "    }\n",
       "</style>\n",
       "<table border=\"1\" class=\"dataframe\">\n",
       "  <thead>\n",
       "    <tr style=\"text-align: right;\">\n",
       "      <th></th>\n",
       "      <th>Reason for Absence</th>\n",
       "      <th>Date</th>\n",
       "      <th>Transportation Expense</th>\n",
       "      <th>Distance to Work</th>\n",
       "      <th>Age</th>\n",
       "      <th>Daily Work Load Average</th>\n",
       "      <th>Body Mass Index</th>\n",
       "      <th>Education</th>\n",
       "      <th>Children</th>\n",
       "      <th>Pets</th>\n",
       "      <th>Absenteeism Time in Hours</th>\n",
       "      <th>0</th>\n",
       "      <th>1</th>\n",
       "      <th>2</th>\n",
       "      <th>3</th>\n",
       "    </tr>\n",
       "  </thead>\n",
       "  <tbody>\n",
       "    <tr>\n",
       "      <th>0</th>\n",
       "      <td>26</td>\n",
       "      <td>07/07/2015</td>\n",
       "      <td>289</td>\n",
       "      <td>36</td>\n",
       "      <td>33</td>\n",
       "      <td>239.554</td>\n",
       "      <td>30</td>\n",
       "      <td>1</td>\n",
       "      <td>2</td>\n",
       "      <td>1</td>\n",
       "      <td>4</td>\n",
       "      <td>0</td>\n",
       "      <td>0</td>\n",
       "      <td>0</td>\n",
       "      <td>1</td>\n",
       "    </tr>\n",
       "    <tr>\n",
       "      <th>1</th>\n",
       "      <td>0</td>\n",
       "      <td>14/07/2015</td>\n",
       "      <td>118</td>\n",
       "      <td>13</td>\n",
       "      <td>50</td>\n",
       "      <td>239.554</td>\n",
       "      <td>31</td>\n",
       "      <td>1</td>\n",
       "      <td>1</td>\n",
       "      <td>0</td>\n",
       "      <td>0</td>\n",
       "      <td>0</td>\n",
       "      <td>0</td>\n",
       "      <td>0</td>\n",
       "      <td>0</td>\n",
       "    </tr>\n",
       "    <tr>\n",
       "      <th>2</th>\n",
       "      <td>23</td>\n",
       "      <td>15/07/2015</td>\n",
       "      <td>179</td>\n",
       "      <td>51</td>\n",
       "      <td>38</td>\n",
       "      <td>239.554</td>\n",
       "      <td>31</td>\n",
       "      <td>1</td>\n",
       "      <td>0</td>\n",
       "      <td>0</td>\n",
       "      <td>2</td>\n",
       "      <td>0</td>\n",
       "      <td>0</td>\n",
       "      <td>0</td>\n",
       "      <td>1</td>\n",
       "    </tr>\n",
       "    <tr>\n",
       "      <th>3</th>\n",
       "      <td>7</td>\n",
       "      <td>16/07/2015</td>\n",
       "      <td>279</td>\n",
       "      <td>5</td>\n",
       "      <td>39</td>\n",
       "      <td>239.554</td>\n",
       "      <td>24</td>\n",
       "      <td>1</td>\n",
       "      <td>2</td>\n",
       "      <td>0</td>\n",
       "      <td>4</td>\n",
       "      <td>1</td>\n",
       "      <td>0</td>\n",
       "      <td>0</td>\n",
       "      <td>0</td>\n",
       "    </tr>\n",
       "    <tr>\n",
       "      <th>4</th>\n",
       "      <td>23</td>\n",
       "      <td>23/07/2015</td>\n",
       "      <td>289</td>\n",
       "      <td>36</td>\n",
       "      <td>33</td>\n",
       "      <td>239.554</td>\n",
       "      <td>30</td>\n",
       "      <td>1</td>\n",
       "      <td>2</td>\n",
       "      <td>1</td>\n",
       "      <td>2</td>\n",
       "      <td>0</td>\n",
       "      <td>0</td>\n",
       "      <td>0</td>\n",
       "      <td>1</td>\n",
       "    </tr>\n",
       "  </tbody>\n",
       "</table>\n",
       "</div>\n",
       "      <button class=\"colab-df-convert\" onclick=\"convertToInteractive('df-c65fcf50-a427-44b9-aa72-2ae127fd48d4')\"\n",
       "              title=\"Convert this dataframe to an interactive table.\"\n",
       "              style=\"display:none;\">\n",
       "        \n",
       "  <svg xmlns=\"http://www.w3.org/2000/svg\" height=\"24px\"viewBox=\"0 0 24 24\"\n",
       "       width=\"24px\">\n",
       "    <path d=\"M0 0h24v24H0V0z\" fill=\"none\"/>\n",
       "    <path d=\"M18.56 5.44l.94 2.06.94-2.06 2.06-.94-2.06-.94-.94-2.06-.94 2.06-2.06.94zm-11 1L8.5 8.5l.94-2.06 2.06-.94-2.06-.94L8.5 2.5l-.94 2.06-2.06.94zm10 10l.94 2.06.94-2.06 2.06-.94-2.06-.94-.94-2.06-.94 2.06-2.06.94z\"/><path d=\"M17.41 7.96l-1.37-1.37c-.4-.4-.92-.59-1.43-.59-.52 0-1.04.2-1.43.59L10.3 9.45l-7.72 7.72c-.78.78-.78 2.05 0 2.83L4 21.41c.39.39.9.59 1.41.59.51 0 1.02-.2 1.41-.59l7.78-7.78 2.81-2.81c.8-.78.8-2.07 0-2.86zM5.41 20L4 18.59l7.72-7.72 1.47 1.35L5.41 20z\"/>\n",
       "  </svg>\n",
       "      </button>\n",
       "      \n",
       "  <style>\n",
       "    .colab-df-container {\n",
       "      display:flex;\n",
       "      flex-wrap:wrap;\n",
       "      gap: 12px;\n",
       "    }\n",
       "\n",
       "    .colab-df-convert {\n",
       "      background-color: #E8F0FE;\n",
       "      border: none;\n",
       "      border-radius: 50%;\n",
       "      cursor: pointer;\n",
       "      display: none;\n",
       "      fill: #1967D2;\n",
       "      height: 32px;\n",
       "      padding: 0 0 0 0;\n",
       "      width: 32px;\n",
       "    }\n",
       "\n",
       "    .colab-df-convert:hover {\n",
       "      background-color: #E2EBFA;\n",
       "      box-shadow: 0px 1px 2px rgba(60, 64, 67, 0.3), 0px 1px 3px 1px rgba(60, 64, 67, 0.15);\n",
       "      fill: #174EA6;\n",
       "    }\n",
       "\n",
       "    [theme=dark] .colab-df-convert {\n",
       "      background-color: #3B4455;\n",
       "      fill: #D2E3FC;\n",
       "    }\n",
       "\n",
       "    [theme=dark] .colab-df-convert:hover {\n",
       "      background-color: #434B5C;\n",
       "      box-shadow: 0px 1px 3px 1px rgba(0, 0, 0, 0.15);\n",
       "      filter: drop-shadow(0px 1px 2px rgba(0, 0, 0, 0.3));\n",
       "      fill: #FFFFFF;\n",
       "    }\n",
       "  </style>\n",
       "\n",
       "      <script>\n",
       "        const buttonEl =\n",
       "          document.querySelector('#df-c65fcf50-a427-44b9-aa72-2ae127fd48d4 button.colab-df-convert');\n",
       "        buttonEl.style.display =\n",
       "          google.colab.kernel.accessAllowed ? 'block' : 'none';\n",
       "\n",
       "        async function convertToInteractive(key) {\n",
       "          const element = document.querySelector('#df-c65fcf50-a427-44b9-aa72-2ae127fd48d4');\n",
       "          const dataTable =\n",
       "            await google.colab.kernel.invokeFunction('convertToInteractive',\n",
       "                                                     [key], {});\n",
       "          if (!dataTable) return;\n",
       "\n",
       "          const docLinkHtml = 'Like what you see? Visit the ' +\n",
       "            '<a target=\"_blank\" href=https://colab.research.google.com/notebooks/data_table.ipynb>data table notebook</a>'\n",
       "            + ' to learn more about interactive tables.';\n",
       "          element.innerHTML = '';\n",
       "          dataTable['output_type'] = 'display_data';\n",
       "          await google.colab.output.renderOutput(dataTable, element);\n",
       "          const docLink = document.createElement('div');\n",
       "          docLink.innerHTML = docLinkHtml;\n",
       "          element.appendChild(docLink);\n",
       "        }\n",
       "      </script>\n",
       "    </div>\n",
       "  </div>\n",
       "  "
      ],
      "text/plain": [
       "   Reason for Absence        Date  Transportation Expense  Distance to Work  \\\n",
       "0                  26  07/07/2015                     289                36   \n",
       "1                   0  14/07/2015                     118                13   \n",
       "2                  23  15/07/2015                     179                51   \n",
       "3                   7  16/07/2015                     279                 5   \n",
       "4                  23  23/07/2015                     289                36   \n",
       "\n",
       "   Age  Daily Work Load Average  Body Mass Index  Education  Children  Pets  \\\n",
       "0   33                  239.554               30          1         2     1   \n",
       "1   50                  239.554               31          1         1     0   \n",
       "2   38                  239.554               31          1         0     0   \n",
       "3   39                  239.554               24          1         2     0   \n",
       "4   33                  239.554               30          1         2     1   \n",
       "\n",
       "   Absenteeism Time in Hours  0  1  2  3  \n",
       "0                          4  0  0  0  1  \n",
       "1                          0  0  0  0  0  \n",
       "2                          2  0  0  0  1  \n",
       "3                          4  1  0  0  0  \n",
       "4                          2  0  0  0  1  "
      ]
     },
     "execution_count": 17,
     "metadata": {},
     "output_type": "execute_result"
    }
   ],
   "source": [
    "#step 6: after creating groups of dummies concat it with the data\n",
    "df= pd.concat([df,reason_1,reason_2,reason_3,reason_4],axis=1)\n",
    "df.head()"
   ]
  },
  {
   "cell_type": "code",
   "execution_count": 18,
   "id": "589363a8-687e-47b1-b3cc-7e4f4fa89e4f",
   "metadata": {
    "colab": {
     "base_uri": "https://localhost:8080/",
     "height": 322
    },
    "executionInfo": {
     "elapsed": 86,
     "status": "ok",
     "timestamp": 1673407204421,
     "user": {
      "displayName": "Tushar Patil",
      "userId": "09849807803327805394"
     },
     "user_tz": -330
    },
    "id": "589363a8-687e-47b1-b3cc-7e4f4fa89e4f",
    "outputId": "ca13d2e4-dba1-4285-f4be-66ebe25cbb4b"
   },
   "outputs": [
    {
     "data": {
      "text/html": [
       "\n",
       "  <div id=\"df-c91eabea-3aaa-4574-ac35-211bfc27a070\">\n",
       "    <div class=\"colab-df-container\">\n",
       "      <div>\n",
       "<style scoped>\n",
       "    .dataframe tbody tr th:only-of-type {\n",
       "        vertical-align: middle;\n",
       "    }\n",
       "\n",
       "    .dataframe tbody tr th {\n",
       "        vertical-align: top;\n",
       "    }\n",
       "\n",
       "    .dataframe thead th {\n",
       "        text-align: right;\n",
       "    }\n",
       "</style>\n",
       "<table border=\"1\" class=\"dataframe\">\n",
       "  <thead>\n",
       "    <tr style=\"text-align: right;\">\n",
       "      <th></th>\n",
       "      <th>Date</th>\n",
       "      <th>Transportation Expense</th>\n",
       "      <th>Distance to Work</th>\n",
       "      <th>Age</th>\n",
       "      <th>Daily Work Load Average</th>\n",
       "      <th>Body Mass Index</th>\n",
       "      <th>Education</th>\n",
       "      <th>Children</th>\n",
       "      <th>Pets</th>\n",
       "      <th>Absenteeism Time in Hours</th>\n",
       "      <th>0</th>\n",
       "      <th>1</th>\n",
       "      <th>2</th>\n",
       "      <th>3</th>\n",
       "    </tr>\n",
       "  </thead>\n",
       "  <tbody>\n",
       "    <tr>\n",
       "      <th>0</th>\n",
       "      <td>07/07/2015</td>\n",
       "      <td>289</td>\n",
       "      <td>36</td>\n",
       "      <td>33</td>\n",
       "      <td>239.554</td>\n",
       "      <td>30</td>\n",
       "      <td>1</td>\n",
       "      <td>2</td>\n",
       "      <td>1</td>\n",
       "      <td>4</td>\n",
       "      <td>0</td>\n",
       "      <td>0</td>\n",
       "      <td>0</td>\n",
       "      <td>1</td>\n",
       "    </tr>\n",
       "    <tr>\n",
       "      <th>1</th>\n",
       "      <td>14/07/2015</td>\n",
       "      <td>118</td>\n",
       "      <td>13</td>\n",
       "      <td>50</td>\n",
       "      <td>239.554</td>\n",
       "      <td>31</td>\n",
       "      <td>1</td>\n",
       "      <td>1</td>\n",
       "      <td>0</td>\n",
       "      <td>0</td>\n",
       "      <td>0</td>\n",
       "      <td>0</td>\n",
       "      <td>0</td>\n",
       "      <td>0</td>\n",
       "    </tr>\n",
       "    <tr>\n",
       "      <th>2</th>\n",
       "      <td>15/07/2015</td>\n",
       "      <td>179</td>\n",
       "      <td>51</td>\n",
       "      <td>38</td>\n",
       "      <td>239.554</td>\n",
       "      <td>31</td>\n",
       "      <td>1</td>\n",
       "      <td>0</td>\n",
       "      <td>0</td>\n",
       "      <td>2</td>\n",
       "      <td>0</td>\n",
       "      <td>0</td>\n",
       "      <td>0</td>\n",
       "      <td>1</td>\n",
       "    </tr>\n",
       "    <tr>\n",
       "      <th>3</th>\n",
       "      <td>16/07/2015</td>\n",
       "      <td>279</td>\n",
       "      <td>5</td>\n",
       "      <td>39</td>\n",
       "      <td>239.554</td>\n",
       "      <td>24</td>\n",
       "      <td>1</td>\n",
       "      <td>2</td>\n",
       "      <td>0</td>\n",
       "      <td>4</td>\n",
       "      <td>1</td>\n",
       "      <td>0</td>\n",
       "      <td>0</td>\n",
       "      <td>0</td>\n",
       "    </tr>\n",
       "    <tr>\n",
       "      <th>4</th>\n",
       "      <td>23/07/2015</td>\n",
       "      <td>289</td>\n",
       "      <td>36</td>\n",
       "      <td>33</td>\n",
       "      <td>239.554</td>\n",
       "      <td>30</td>\n",
       "      <td>1</td>\n",
       "      <td>2</td>\n",
       "      <td>1</td>\n",
       "      <td>2</td>\n",
       "      <td>0</td>\n",
       "      <td>0</td>\n",
       "      <td>0</td>\n",
       "      <td>1</td>\n",
       "    </tr>\n",
       "  </tbody>\n",
       "</table>\n",
       "</div>\n",
       "      <button class=\"colab-df-convert\" onclick=\"convertToInteractive('df-c91eabea-3aaa-4574-ac35-211bfc27a070')\"\n",
       "              title=\"Convert this dataframe to an interactive table.\"\n",
       "              style=\"display:none;\">\n",
       "        \n",
       "  <svg xmlns=\"http://www.w3.org/2000/svg\" height=\"24px\"viewBox=\"0 0 24 24\"\n",
       "       width=\"24px\">\n",
       "    <path d=\"M0 0h24v24H0V0z\" fill=\"none\"/>\n",
       "    <path d=\"M18.56 5.44l.94 2.06.94-2.06 2.06-.94-2.06-.94-.94-2.06-.94 2.06-2.06.94zm-11 1L8.5 8.5l.94-2.06 2.06-.94-2.06-.94L8.5 2.5l-.94 2.06-2.06.94zm10 10l.94 2.06.94-2.06 2.06-.94-2.06-.94-.94-2.06-.94 2.06-2.06.94z\"/><path d=\"M17.41 7.96l-1.37-1.37c-.4-.4-.92-.59-1.43-.59-.52 0-1.04.2-1.43.59L10.3 9.45l-7.72 7.72c-.78.78-.78 2.05 0 2.83L4 21.41c.39.39.9.59 1.41.59.51 0 1.02-.2 1.41-.59l7.78-7.78 2.81-2.81c.8-.78.8-2.07 0-2.86zM5.41 20L4 18.59l7.72-7.72 1.47 1.35L5.41 20z\"/>\n",
       "  </svg>\n",
       "      </button>\n",
       "      \n",
       "  <style>\n",
       "    .colab-df-container {\n",
       "      display:flex;\n",
       "      flex-wrap:wrap;\n",
       "      gap: 12px;\n",
       "    }\n",
       "\n",
       "    .colab-df-convert {\n",
       "      background-color: #E8F0FE;\n",
       "      border: none;\n",
       "      border-radius: 50%;\n",
       "      cursor: pointer;\n",
       "      display: none;\n",
       "      fill: #1967D2;\n",
       "      height: 32px;\n",
       "      padding: 0 0 0 0;\n",
       "      width: 32px;\n",
       "    }\n",
       "\n",
       "    .colab-df-convert:hover {\n",
       "      background-color: #E2EBFA;\n",
       "      box-shadow: 0px 1px 2px rgba(60, 64, 67, 0.3), 0px 1px 3px 1px rgba(60, 64, 67, 0.15);\n",
       "      fill: #174EA6;\n",
       "    }\n",
       "\n",
       "    [theme=dark] .colab-df-convert {\n",
       "      background-color: #3B4455;\n",
       "      fill: #D2E3FC;\n",
       "    }\n",
       "\n",
       "    [theme=dark] .colab-df-convert:hover {\n",
       "      background-color: #434B5C;\n",
       "      box-shadow: 0px 1px 3px 1px rgba(0, 0, 0, 0.15);\n",
       "      filter: drop-shadow(0px 1px 2px rgba(0, 0, 0, 0.3));\n",
       "      fill: #FFFFFF;\n",
       "    }\n",
       "  </style>\n",
       "\n",
       "      <script>\n",
       "        const buttonEl =\n",
       "          document.querySelector('#df-c91eabea-3aaa-4574-ac35-211bfc27a070 button.colab-df-convert');\n",
       "        buttonEl.style.display =\n",
       "          google.colab.kernel.accessAllowed ? 'block' : 'none';\n",
       "\n",
       "        async function convertToInteractive(key) {\n",
       "          const element = document.querySelector('#df-c91eabea-3aaa-4574-ac35-211bfc27a070');\n",
       "          const dataTable =\n",
       "            await google.colab.kernel.invokeFunction('convertToInteractive',\n",
       "                                                     [key], {});\n",
       "          if (!dataTable) return;\n",
       "\n",
       "          const docLinkHtml = 'Like what you see? Visit the ' +\n",
       "            '<a target=\"_blank\" href=https://colab.research.google.com/notebooks/data_table.ipynb>data table notebook</a>'\n",
       "            + ' to learn more about interactive tables.';\n",
       "          element.innerHTML = '';\n",
       "          dataTable['output_type'] = 'display_data';\n",
       "          await google.colab.output.renderOutput(dataTable, element);\n",
       "          const docLink = document.createElement('div');\n",
       "          docLink.innerHTML = docLinkHtml;\n",
       "          element.appendChild(docLink);\n",
       "        }\n",
       "      </script>\n",
       "    </div>\n",
       "  </div>\n",
       "  "
      ],
      "text/plain": [
       "         Date  Transportation Expense  Distance to Work  Age  \\\n",
       "0  07/07/2015                     289                36   33   \n",
       "1  14/07/2015                     118                13   50   \n",
       "2  15/07/2015                     179                51   38   \n",
       "3  16/07/2015                     279                 5   39   \n",
       "4  23/07/2015                     289                36   33   \n",
       "\n",
       "   Daily Work Load Average  Body Mass Index  Education  Children  Pets  \\\n",
       "0                  239.554               30          1         2     1   \n",
       "1                  239.554               31          1         1     0   \n",
       "2                  239.554               31          1         0     0   \n",
       "3                  239.554               24          1         2     0   \n",
       "4                  239.554               30          1         2     1   \n",
       "\n",
       "   Absenteeism Time in Hours  0  1  2  3  \n",
       "0                          4  0  0  0  1  \n",
       "1                          0  0  0  0  0  \n",
       "2                          2  0  0  0  1  \n",
       "3                          4  1  0  0  0  \n",
       "4                          2  0  0  0  1  "
      ]
     },
     "execution_count": 18,
     "metadata": {},
     "output_type": "execute_result"
    }
   ],
   "source": [
    "df = df.drop(['Reason for Absence'],axis=1)\n",
    "df.head()"
   ]
  },
  {
   "cell_type": "code",
   "execution_count": 19,
   "id": "9ba6247c-3f16-41f3-bf8c-dbe12802ee94",
   "metadata": {
    "executionInfo": {
     "elapsed": 86,
     "status": "ok",
     "timestamp": 1673407204422,
     "user": {
      "displayName": "Tushar Patil",
      "userId": "09849807803327805394"
     },
     "user_tz": -330
    },
    "id": "9ba6247c-3f16-41f3-bf8c-dbe12802ee94"
   },
   "outputs": [],
   "source": [
    "col_names = ['Date', 'Transportation Expense', 'Distance to Work', 'Age',\n",
    "       'Daily Work Load Average', 'Body Mass Index', 'Education',\n",
    "       'Children', 'Pets', 'Absenteeism Time in Hours', 'reason_1','reason_2','reason_3','reason_4']\n",
    "df.columns = col_names"
   ]
  },
  {
   "cell_type": "code",
   "execution_count": 20,
   "id": "ba702899-4fff-4093-a062-b49ddce97762",
   "metadata": {
    "colab": {
     "base_uri": "https://localhost:8080/",
     "height": 322
    },
    "executionInfo": {
     "elapsed": 87,
     "status": "ok",
     "timestamp": 1673407204423,
     "user": {
      "displayName": "Tushar Patil",
      "userId": "09849807803327805394"
     },
     "user_tz": -330
    },
    "id": "ba702899-4fff-4093-a062-b49ddce97762",
    "outputId": "fe198efc-2af0-44cc-f403-7593103b6f23"
   },
   "outputs": [
    {
     "data": {
      "text/html": [
       "\n",
       "  <div id=\"df-8ea19a13-4ccf-4903-9e51-c6e912d93005\">\n",
       "    <div class=\"colab-df-container\">\n",
       "      <div>\n",
       "<style scoped>\n",
       "    .dataframe tbody tr th:only-of-type {\n",
       "        vertical-align: middle;\n",
       "    }\n",
       "\n",
       "    .dataframe tbody tr th {\n",
       "        vertical-align: top;\n",
       "    }\n",
       "\n",
       "    .dataframe thead th {\n",
       "        text-align: right;\n",
       "    }\n",
       "</style>\n",
       "<table border=\"1\" class=\"dataframe\">\n",
       "  <thead>\n",
       "    <tr style=\"text-align: right;\">\n",
       "      <th></th>\n",
       "      <th>reason_1</th>\n",
       "      <th>reason_2</th>\n",
       "      <th>reason_3</th>\n",
       "      <th>reason_4</th>\n",
       "      <th>Date</th>\n",
       "      <th>Transportation Expense</th>\n",
       "      <th>Distance to Work</th>\n",
       "      <th>Age</th>\n",
       "      <th>Daily Work Load Average</th>\n",
       "      <th>Body Mass Index</th>\n",
       "      <th>Education</th>\n",
       "      <th>Children</th>\n",
       "      <th>Pets</th>\n",
       "      <th>Absenteeism Time in Hours</th>\n",
       "    </tr>\n",
       "  </thead>\n",
       "  <tbody>\n",
       "    <tr>\n",
       "      <th>0</th>\n",
       "      <td>0</td>\n",
       "      <td>0</td>\n",
       "      <td>0</td>\n",
       "      <td>1</td>\n",
       "      <td>07/07/2015</td>\n",
       "      <td>289</td>\n",
       "      <td>36</td>\n",
       "      <td>33</td>\n",
       "      <td>239.554</td>\n",
       "      <td>30</td>\n",
       "      <td>1</td>\n",
       "      <td>2</td>\n",
       "      <td>1</td>\n",
       "      <td>4</td>\n",
       "    </tr>\n",
       "    <tr>\n",
       "      <th>1</th>\n",
       "      <td>0</td>\n",
       "      <td>0</td>\n",
       "      <td>0</td>\n",
       "      <td>0</td>\n",
       "      <td>14/07/2015</td>\n",
       "      <td>118</td>\n",
       "      <td>13</td>\n",
       "      <td>50</td>\n",
       "      <td>239.554</td>\n",
       "      <td>31</td>\n",
       "      <td>1</td>\n",
       "      <td>1</td>\n",
       "      <td>0</td>\n",
       "      <td>0</td>\n",
       "    </tr>\n",
       "    <tr>\n",
       "      <th>2</th>\n",
       "      <td>0</td>\n",
       "      <td>0</td>\n",
       "      <td>0</td>\n",
       "      <td>1</td>\n",
       "      <td>15/07/2015</td>\n",
       "      <td>179</td>\n",
       "      <td>51</td>\n",
       "      <td>38</td>\n",
       "      <td>239.554</td>\n",
       "      <td>31</td>\n",
       "      <td>1</td>\n",
       "      <td>0</td>\n",
       "      <td>0</td>\n",
       "      <td>2</td>\n",
       "    </tr>\n",
       "    <tr>\n",
       "      <th>3</th>\n",
       "      <td>1</td>\n",
       "      <td>0</td>\n",
       "      <td>0</td>\n",
       "      <td>0</td>\n",
       "      <td>16/07/2015</td>\n",
       "      <td>279</td>\n",
       "      <td>5</td>\n",
       "      <td>39</td>\n",
       "      <td>239.554</td>\n",
       "      <td>24</td>\n",
       "      <td>1</td>\n",
       "      <td>2</td>\n",
       "      <td>0</td>\n",
       "      <td>4</td>\n",
       "    </tr>\n",
       "    <tr>\n",
       "      <th>4</th>\n",
       "      <td>0</td>\n",
       "      <td>0</td>\n",
       "      <td>0</td>\n",
       "      <td>1</td>\n",
       "      <td>23/07/2015</td>\n",
       "      <td>289</td>\n",
       "      <td>36</td>\n",
       "      <td>33</td>\n",
       "      <td>239.554</td>\n",
       "      <td>30</td>\n",
       "      <td>1</td>\n",
       "      <td>2</td>\n",
       "      <td>1</td>\n",
       "      <td>2</td>\n",
       "    </tr>\n",
       "  </tbody>\n",
       "</table>\n",
       "</div>\n",
       "      <button class=\"colab-df-convert\" onclick=\"convertToInteractive('df-8ea19a13-4ccf-4903-9e51-c6e912d93005')\"\n",
       "              title=\"Convert this dataframe to an interactive table.\"\n",
       "              style=\"display:none;\">\n",
       "        \n",
       "  <svg xmlns=\"http://www.w3.org/2000/svg\" height=\"24px\"viewBox=\"0 0 24 24\"\n",
       "       width=\"24px\">\n",
       "    <path d=\"M0 0h24v24H0V0z\" fill=\"none\"/>\n",
       "    <path d=\"M18.56 5.44l.94 2.06.94-2.06 2.06-.94-2.06-.94-.94-2.06-.94 2.06-2.06.94zm-11 1L8.5 8.5l.94-2.06 2.06-.94-2.06-.94L8.5 2.5l-.94 2.06-2.06.94zm10 10l.94 2.06.94-2.06 2.06-.94-2.06-.94-.94-2.06-.94 2.06-2.06.94z\"/><path d=\"M17.41 7.96l-1.37-1.37c-.4-.4-.92-.59-1.43-.59-.52 0-1.04.2-1.43.59L10.3 9.45l-7.72 7.72c-.78.78-.78 2.05 0 2.83L4 21.41c.39.39.9.59 1.41.59.51 0 1.02-.2 1.41-.59l7.78-7.78 2.81-2.81c.8-.78.8-2.07 0-2.86zM5.41 20L4 18.59l7.72-7.72 1.47 1.35L5.41 20z\"/>\n",
       "  </svg>\n",
       "      </button>\n",
       "      \n",
       "  <style>\n",
       "    .colab-df-container {\n",
       "      display:flex;\n",
       "      flex-wrap:wrap;\n",
       "      gap: 12px;\n",
       "    }\n",
       "\n",
       "    .colab-df-convert {\n",
       "      background-color: #E8F0FE;\n",
       "      border: none;\n",
       "      border-radius: 50%;\n",
       "      cursor: pointer;\n",
       "      display: none;\n",
       "      fill: #1967D2;\n",
       "      height: 32px;\n",
       "      padding: 0 0 0 0;\n",
       "      width: 32px;\n",
       "    }\n",
       "\n",
       "    .colab-df-convert:hover {\n",
       "      background-color: #E2EBFA;\n",
       "      box-shadow: 0px 1px 2px rgba(60, 64, 67, 0.3), 0px 1px 3px 1px rgba(60, 64, 67, 0.15);\n",
       "      fill: #174EA6;\n",
       "    }\n",
       "\n",
       "    [theme=dark] .colab-df-convert {\n",
       "      background-color: #3B4455;\n",
       "      fill: #D2E3FC;\n",
       "    }\n",
       "\n",
       "    [theme=dark] .colab-df-convert:hover {\n",
       "      background-color: #434B5C;\n",
       "      box-shadow: 0px 1px 3px 1px rgba(0, 0, 0, 0.15);\n",
       "      filter: drop-shadow(0px 1px 2px rgba(0, 0, 0, 0.3));\n",
       "      fill: #FFFFFF;\n",
       "    }\n",
       "  </style>\n",
       "\n",
       "      <script>\n",
       "        const buttonEl =\n",
       "          document.querySelector('#df-8ea19a13-4ccf-4903-9e51-c6e912d93005 button.colab-df-convert');\n",
       "        buttonEl.style.display =\n",
       "          google.colab.kernel.accessAllowed ? 'block' : 'none';\n",
       "\n",
       "        async function convertToInteractive(key) {\n",
       "          const element = document.querySelector('#df-8ea19a13-4ccf-4903-9e51-c6e912d93005');\n",
       "          const dataTable =\n",
       "            await google.colab.kernel.invokeFunction('convertToInteractive',\n",
       "                                                     [key], {});\n",
       "          if (!dataTable) return;\n",
       "\n",
       "          const docLinkHtml = 'Like what you see? Visit the ' +\n",
       "            '<a target=\"_blank\" href=https://colab.research.google.com/notebooks/data_table.ipynb>data table notebook</a>'\n",
       "            + ' to learn more about interactive tables.';\n",
       "          element.innerHTML = '';\n",
       "          dataTable['output_type'] = 'display_data';\n",
       "          await google.colab.output.renderOutput(dataTable, element);\n",
       "          const docLink = document.createElement('div');\n",
       "          docLink.innerHTML = docLinkHtml;\n",
       "          element.appendChild(docLink);\n",
       "        }\n",
       "      </script>\n",
       "    </div>\n",
       "  </div>\n",
       "  "
      ],
      "text/plain": [
       "   reason_1  reason_2  reason_3  reason_4        Date  Transportation Expense  \\\n",
       "0         0         0         0         1  07/07/2015                     289   \n",
       "1         0         0         0         0  14/07/2015                     118   \n",
       "2         0         0         0         1  15/07/2015                     179   \n",
       "3         1         0         0         0  16/07/2015                     279   \n",
       "4         0         0         0         1  23/07/2015                     289   \n",
       "\n",
       "   Distance to Work  Age  Daily Work Load Average  Body Mass Index  Education  \\\n",
       "0                36   33                  239.554               30          1   \n",
       "1                13   50                  239.554               31          1   \n",
       "2                51   38                  239.554               31          1   \n",
       "3                 5   39                  239.554               24          1   \n",
       "4                36   33                  239.554               30          1   \n",
       "\n",
       "   Children  Pets  Absenteeism Time in Hours  \n",
       "0         2     1                          4  \n",
       "1         1     0                          0  \n",
       "2         0     0                          2  \n",
       "3         2     0                          4  \n",
       "4         2     1                          2  "
      ]
     },
     "execution_count": 20,
     "metadata": {},
     "output_type": "execute_result"
    }
   ],
   "source": [
    "# Reorder the columns \n",
    "col_names_reordered = ['reason_1','reason_2','reason_3','reason_4','Date', 'Transportation Expense', 'Distance to Work', 'Age',\n",
    "       'Daily Work Load Average', 'Body Mass Index', 'Education',\n",
    "       'Children', 'Pets', 'Absenteeism Time in Hours']\n",
    "df=df[col_names_reordered]\n",
    "df.head()"
   ]
  },
  {
   "cell_type": "code",
   "execution_count": 21,
   "id": "c8ba9c1e-d961-4c64-a4e9-93c2dc786ff9",
   "metadata": {
    "executionInfo": {
     "elapsed": 87,
     "status": "ok",
     "timestamp": 1673407204424,
     "user": {
      "displayName": "Tushar Patil",
      "userId": "09849807803327805394"
     },
     "user_tz": -330
    },
    "id": "c8ba9c1e-d961-4c64-a4e9-93c2dc786ff9"
   },
   "outputs": [],
   "source": [
    "# step 7 : handling the date codf_mod['Date']=pd.to_datetime(df_mod['Date'], format ='%d/%m/%Y')lumn as it is string object in dataset\n",
    "df_mod = df.copy()"
   ]
  },
  {
   "cell_type": "code",
   "execution_count": 22,
   "id": "75a01274-c6e1-45ac-98b5-974764b10542",
   "metadata": {
    "colab": {
     "base_uri": "https://localhost:8080/"
    },
    "executionInfo": {
     "elapsed": 87,
     "status": "ok",
     "timestamp": 1673407204425,
     "user": {
      "displayName": "Tushar Patil",
      "userId": "09849807803327805394"
     },
     "user_tz": -330
    },
    "id": "75a01274-c6e1-45ac-98b5-974764b10542",
    "outputId": "86ee1cd1-d760-4320-90fc-0963ca701dcc"
   },
   "outputs": [
    {
     "data": {
      "text/plain": [
       "str"
      ]
     },
     "execution_count": 22,
     "metadata": {},
     "output_type": "execute_result"
    }
   ],
   "source": [
    "type(df_mod['Date'][0])"
   ]
  },
  {
   "cell_type": "code",
   "execution_count": 23,
   "id": "7d30a660-6123-418c-ab55-4d74a6d00a7f",
   "metadata": {
    "executionInfo": {
     "elapsed": 83,
     "status": "ok",
     "timestamp": 1673407204426,
     "user": {
      "displayName": "Tushar Patil",
      "userId": "09849807803327805394"
     },
     "user_tz": -330
    },
    "id": "7d30a660-6123-418c-ab55-4d74a6d00a7f"
   },
   "outputs": [],
   "source": [
    "df_mod['Date']=pd.to_datetime(df_mod['Date'], format ='%d/%m/%Y')"
   ]
  },
  {
   "cell_type": "code",
   "execution_count": 24,
   "id": "ade36205-9c95-4c67-ae71-fea04366b3c9",
   "metadata": {
    "colab": {
     "base_uri": "https://localhost:8080/"
    },
    "executionInfo": {
     "elapsed": 83,
     "status": "ok",
     "timestamp": 1673407204427,
     "user": {
      "displayName": "Tushar Patil",
      "userId": "09849807803327805394"
     },
     "user_tz": -330
    },
    "id": "ade36205-9c95-4c67-ae71-fea04366b3c9",
    "outputId": "a7aa8e77-f873-4bf7-fb12-1a1d4a6ade51"
   },
   "outputs": [
    {
     "data": {
      "text/plain": [
       "pandas._libs.tslibs.timestamps.Timestamp"
      ]
     },
     "execution_count": 24,
     "metadata": {},
     "output_type": "execute_result"
    }
   ],
   "source": [
    "type(df_mod['Date'][0])"
   ]
  },
  {
   "cell_type": "code",
   "execution_count": 25,
   "id": "ddc20e9c-62f9-4926-9983-f44a768d252a",
   "metadata": {
    "colab": {
     "base_uri": "https://localhost:8080/"
    },
    "executionInfo": {
     "elapsed": 81,
     "status": "ok",
     "timestamp": 1673407204428,
     "user": {
      "displayName": "Tushar Patil",
      "userId": "09849807803327805394"
     },
     "user_tz": -330
    },
    "id": "ddc20e9c-62f9-4926-9983-f44a768d252a",
    "outputId": "5aa9d2e9-3179-47a7-931e-8a0531ed4c0c"
   },
   "outputs": [
    {
     "name": "stdout",
     "output_type": "stream",
     "text": [
      "<class 'pandas.core.frame.DataFrame'>\n",
      "RangeIndex: 700 entries, 0 to 699\n",
      "Data columns (total 14 columns):\n",
      " #   Column                     Non-Null Count  Dtype         \n",
      "---  ------                     --------------  -----         \n",
      " 0   reason_1                   700 non-null    uint8         \n",
      " 1   reason_2                   700 non-null    uint8         \n",
      " 2   reason_3                   700 non-null    uint8         \n",
      " 3   reason_4                   700 non-null    uint8         \n",
      " 4   Date                       700 non-null    datetime64[ns]\n",
      " 5   Transportation Expense     700 non-null    int64         \n",
      " 6   Distance to Work           700 non-null    int64         \n",
      " 7   Age                        700 non-null    int64         \n",
      " 8   Daily Work Load Average    700 non-null    float64       \n",
      " 9   Body Mass Index            700 non-null    int64         \n",
      " 10  Education                  700 non-null    int64         \n",
      " 11  Children                   700 non-null    int64         \n",
      " 12  Pets                       700 non-null    int64         \n",
      " 13  Absenteeism Time in Hours  700 non-null    int64         \n",
      "dtypes: datetime64[ns](1), float64(1), int64(8), uint8(4)\n",
      "memory usage: 57.5 KB\n"
     ]
    }
   ],
   "source": [
    "df_mod.info()"
   ]
  },
  {
   "cell_type": "code",
   "execution_count": 26,
   "id": "8fda2e41-85bd-4f10-b422-6bb3e602c729",
   "metadata": {
    "colab": {
     "base_uri": "https://localhost:8080/"
    },
    "executionInfo": {
     "elapsed": 78,
     "status": "ok",
     "timestamp": 1673407204429,
     "user": {
      "displayName": "Tushar Patil",
      "userId": "09849807803327805394"
     },
     "user_tz": -330
    },
    "id": "8fda2e41-85bd-4f10-b422-6bb3e602c729",
    "outputId": "4e82cd04-6251-44b7-a287-099c6df570cc"
   },
   "outputs": [
    {
     "data": {
      "text/plain": [
       "7"
      ]
     },
     "execution_count": 26,
     "metadata": {},
     "output_type": "execute_result"
    }
   ],
   "source": [
    "# Extract the month valuyes\n",
    "df_mod['Date'][0].month"
   ]
  },
  {
   "cell_type": "code",
   "execution_count": 27,
   "id": "0906f5ae-4cc6-40b9-b980-201d43c6ca81",
   "metadata": {
    "colab": {
     "base_uri": "https://localhost:8080/"
    },
    "executionInfo": {
     "elapsed": 79,
     "status": "ok",
     "timestamp": 1673407204433,
     "user": {
      "displayName": "Tushar Patil",
      "userId": "09849807803327805394"
     },
     "user_tz": -330
    },
    "id": "0906f5ae-4cc6-40b9-b980-201d43c6ca81",
    "outputId": "d5b33f07-efd1-4208-a450-5528e08ac60e"
   },
   "outputs": [
    {
     "data": {
      "text/plain": [
       "700"
      ]
     },
     "execution_count": 27,
     "metadata": {},
     "output_type": "execute_result"
    }
   ],
   "source": [
    "list_months = []\n",
    "for i in range(700):\n",
    "    list_months.append(df_mod['Date'][i].month)\n",
    "len(list_months)"
   ]
  },
  {
   "cell_type": "code",
   "execution_count": 28,
   "id": "7800f53a-2bf7-4e7f-8dfc-28d2f10611cf",
   "metadata": {
    "executionInfo": {
     "elapsed": 73,
     "status": "ok",
     "timestamp": 1673407204434,
     "user": {
      "displayName": "Tushar Patil",
      "userId": "09849807803327805394"
     },
     "user_tz": -330
    },
    "id": "7800f53a-2bf7-4e7f-8dfc-28d2f10611cf"
   },
   "outputs": [],
   "source": [
    "df_mod['month'] = list_months"
   ]
  },
  {
   "cell_type": "code",
   "execution_count": 29,
   "id": "a2dcc08b-4ceb-488c-8f7d-be6613ef43ca",
   "metadata": {
    "executionInfo": {
     "elapsed": 74,
     "status": "ok",
     "timestamp": 1673407204435,
     "user": {
      "displayName": "Tushar Patil",
      "userId": "09849807803327805394"
     },
     "user_tz": -330
    },
    "id": "a2dcc08b-4ceb-488c-8f7d-be6613ef43ca"
   },
   "outputs": [],
   "source": [
    "def day_of_week(date_value):\n",
    "    return date_value.weekday()\n",
    "\n",
    "df_mod['day of the week'] = df_mod['Date'].apply(day_of_week)"
   ]
  },
  {
   "cell_type": "code",
   "execution_count": 30,
   "id": "ad6df18a-b98d-4b87-875e-f66292212934",
   "metadata": {
    "executionInfo": {
     "elapsed": 74,
     "status": "ok",
     "timestamp": 1673407204436,
     "user": {
      "displayName": "Tushar Patil",
      "userId": "09849807803327805394"
     },
     "user_tz": -330
    },
    "id": "ad6df18a-b98d-4b87-875e-f66292212934"
   },
   "outputs": [],
   "source": [
    "col = ['reason_1', 'reason_2', 'reason_3', 'reason_4', 'Date','month',\n",
    "       'day of the week',\n",
    "       'Transportation Expense', 'Distance to Work', 'Age',\n",
    "       'Daily Work Load Average', 'Body Mass Index', 'Education',\n",
    "       'Children', 'Pets', 'Absenteeism Time in Hours', ]\n",
    "\n",
    "df_mod=df_mod[col]"
   ]
  },
  {
   "cell_type": "code",
   "execution_count": 31,
   "id": "9b9d58a4-ed68-4987-8a1e-3d71db4db485",
   "metadata": {
    "executionInfo": {
     "elapsed": 75,
     "status": "ok",
     "timestamp": 1673407204437,
     "user": {
      "displayName": "Tushar Patil",
      "userId": "09849807803327805394"
     },
     "user_tz": -330
    },
    "id": "9b9d58a4-ed68-4987-8a1e-3d71db4db485"
   },
   "outputs": [],
   "source": [
    "df = df_mod.drop([\"Date\"],axis=1)"
   ]
  },
  {
   "cell_type": "code",
   "execution_count": 32,
   "id": "86667703-df46-45f0-8558-111adf8c12a3",
   "metadata": {
    "executionInfo": {
     "elapsed": 76,
     "status": "ok",
     "timestamp": 1673407204438,
     "user": {
      "displayName": "Tushar Patil",
      "userId": "09849807803327805394"
     },
     "user_tz": -330
    },
    "id": "86667703-df46-45f0-8558-111adf8c12a3"
   },
   "outputs": [],
   "source": [
    "### Conversion of Target column"
   ]
  },
  {
   "cell_type": "code",
   "execution_count": 33,
   "id": "7bc6f3ec-d96c-44cb-a068-b80220618083",
   "metadata": {
    "colab": {
     "base_uri": "https://localhost:8080/"
    },
    "executionInfo": {
     "elapsed": 76,
     "status": "ok",
     "timestamp": 1673407204439,
     "user": {
      "displayName": "Tushar Patil",
      "userId": "09849807803327805394"
     },
     "user_tz": -330
    },
    "id": "7bc6f3ec-d96c-44cb-a068-b80220618083",
    "outputId": "079f5f8a-b8b0-4447-82c6-c4e4e4ec10d9"
   },
   "outputs": [
    {
     "data": {
      "text/plain": [
       "8      195\n",
       "2      149\n",
       "3      106\n",
       "1       87\n",
       "4       57\n",
       "0       39\n",
       "16      18\n",
       "24      15\n",
       "5        7\n",
       "40       7\n",
       "32       6\n",
       "64       3\n",
       "56       2\n",
       "80       2\n",
       "120      2\n",
       "112      2\n",
       "7        1\n",
       "104      1\n",
       "48       1\n",
       "Name: Absenteeism Time in Hours, dtype: int64"
      ]
     },
     "execution_count": 33,
     "metadata": {},
     "output_type": "execute_result"
    }
   ],
   "source": [
    "df['Absenteeism Time in Hours'].value_counts()"
   ]
  },
  {
   "cell_type": "code",
   "execution_count": 34,
   "id": "ef80672f-456f-4141-ada1-6ca9bab4421a",
   "metadata": {
    "colab": {
     "base_uri": "https://localhost:8080/"
    },
    "executionInfo": {
     "elapsed": 73,
     "status": "ok",
     "timestamp": 1673407204440,
     "user": {
      "displayName": "Tushar Patil",
      "userId": "09849807803327805394"
     },
     "user_tz": -330
    },
    "id": "ef80672f-456f-4141-ada1-6ca9bab4421a",
    "outputId": "994c9d45-044b-4078-ac25-8bf481e7be6c"
   },
   "outputs": [
    {
     "data": {
      "text/plain": [
       "array([  4,   0,   2,   8,  40,   1,   7,   3,  32,   5,  16,  24,  64,\n",
       "        56,  80, 120, 112, 104,  48])"
      ]
     },
     "execution_count": 34,
     "metadata": {},
     "output_type": "execute_result"
    }
   ],
   "source": [
    "df['Absenteeism Time in Hours'].unique()"
   ]
  },
  {
   "cell_type": "code",
   "execution_count": 35,
   "id": "d5040483-7c99-4e58-b881-596c89999ce0",
   "metadata": {
    "colab": {
     "base_uri": "https://localhost:8080/"
    },
    "executionInfo": {
     "elapsed": 70,
     "status": "ok",
     "timestamp": 1673407204441,
     "user": {
      "displayName": "Tushar Patil",
      "userId": "09849807803327805394"
     },
     "user_tz": -330
    },
    "id": "d5040483-7c99-4e58-b881-596c89999ce0",
    "outputId": "a4d9ef08-2956-4f5f-f613-be18f205a0ad"
   },
   "outputs": [
    {
     "data": {
      "text/plain": [
       "3.0"
      ]
     },
     "execution_count": 35,
     "metadata": {},
     "output_type": "execute_result"
    }
   ],
   "source": [
    "df['Absenteeism Time in Hours'].median()"
   ]
  },
  {
   "cell_type": "code",
   "execution_count": 36,
   "id": "7611b89b-e0d9-487c-bd8f-028776e936d8",
   "metadata": {
    "executionInfo": {
     "elapsed": 68,
     "status": "ok",
     "timestamp": 1673407204442,
     "user": {
      "displayName": "Tushar Patil",
      "userId": "09849807803327805394"
     },
     "user_tz": -330
    },
    "id": "7611b89b-e0d9-487c-bd8f-028776e936d8"
   },
   "outputs": [],
   "source": [
    "target = np.where(df['Absenteeism Time in Hours']>df['Absenteeism Time in Hours'].median(),1,0)"
   ]
  },
  {
   "cell_type": "markdown",
   "id": "18b7bd21-accc-4d9b-817c-20957065705e",
   "metadata": {
    "id": "18b7bd21-accc-4d9b-817c-20957065705e"
   },
   "source": [
    "#### for target column median is 3 , meaning value below 3 is accepted or normal but above 3 is not accepted as it is badly affecting the company project completion hours "
   ]
  },
  {
   "cell_type": "code",
   "execution_count": 37,
   "id": "59543140-7baf-48c0-9559-3be80ea4b39d",
   "metadata": {
    "colab": {
     "base_uri": "https://localhost:8080/"
    },
    "executionInfo": {
     "elapsed": 68,
     "status": "ok",
     "timestamp": 1673407204443,
     "user": {
      "displayName": "Tushar Patil",
      "userId": "09849807803327805394"
     },
     "user_tz": -330
    },
    "id": "59543140-7baf-48c0-9559-3be80ea4b39d",
    "outputId": "d26cc614-b150-4af6-bfce-a3e6ca82fa28"
   },
   "outputs": [
    {
     "data": {
      "text/plain": [
       "array([1, 0, 0, 1, 0, 0, 1, 1, 1, 1])"
      ]
     },
     "execution_count": 37,
     "metadata": {},
     "output_type": "execute_result"
    }
   ],
   "source": [
    "target[:10]"
   ]
  },
  {
   "cell_type": "code",
   "execution_count": 38,
   "id": "d644bc32-4572-4661-84e6-23dab44e174a",
   "metadata": {
    "executionInfo": {
     "elapsed": 66,
     "status": "ok",
     "timestamp": 1673407204444,
     "user": {
      "displayName": "Tushar Patil",
      "userId": "09849807803327805394"
     },
     "user_tz": -330
    },
    "id": "d644bc32-4572-4661-84e6-23dab44e174a"
   },
   "outputs": [],
   "source": [
    "df['Excessive_absenteeism']=target"
   ]
  },
  {
   "cell_type": "code",
   "execution_count": 39,
   "id": "d8cfc510-fb0f-4413-bf90-b9f9b83ce370",
   "metadata": {
    "executionInfo": {
     "elapsed": 65,
     "status": "ok",
     "timestamp": 1673407204444,
     "user": {
      "displayName": "Tushar Patil",
      "userId": "09849807803327805394"
     },
     "user_tz": -330
    },
    "id": "d8cfc510-fb0f-4413-bf90-b9f9b83ce370"
   },
   "outputs": [],
   "source": [
    "df = df.drop('Absenteeism Time in Hours',axis=1)"
   ]
  },
  {
   "cell_type": "markdown",
   "id": "16586e0a-b97f-42b5-8dbc-6e2327e6b085",
   "metadata": {
    "id": "16586e0a-b97f-42b5-8dbc-6e2327e6b085"
   },
   "source": [
    "### Univariate Analysis"
   ]
  },
  {
   "cell_type": "code",
   "execution_count": 40,
   "id": "1e4732da-216d-45ec-af92-e1a44a66fe24",
   "metadata": {
    "colab": {
     "base_uri": "https://localhost:8080/",
     "height": 353
    },
    "executionInfo": {
     "elapsed": 66,
     "status": "ok",
     "timestamp": 1673407204445,
     "user": {
      "displayName": "Tushar Patil",
      "userId": "09849807803327805394"
     },
     "user_tz": -330
    },
    "id": "1e4732da-216d-45ec-af92-e1a44a66fe24",
    "outputId": "aca27b8d-2fac-4e44-863c-8f9d240c1b97"
   },
   "outputs": [
    {
     "name": "stderr",
     "output_type": "stream",
     "text": [
      "/usr/local/lib/python3.8/dist-packages/seaborn/distributions.py:2619: FutureWarning: `distplot` is a deprecated function and will be removed in a future version. Please adapt your code to use either `displot` (a figure-level function with similar flexibility) or `histplot` (an axes-level function for histograms).\n",
      "  warnings.warn(msg, FutureWarning)\n"
     ]
    },
    {
     "data": {
      "text/plain": [
       "<matplotlib.axes._subplots.AxesSubplot at 0x7f7f4a2d1430>"
      ]
     },
     "execution_count": 40,
     "metadata": {},
     "output_type": "execute_result"
    },
    {
     "data": {
      "image/png": "[encoded data removed]",
      "text/plain": [
       "<Figure size 432x288 with 1 Axes>"
      ]
     },
     "metadata": {
      "needs_background": "light"
     },
     "output_type": "display_data"
    }
   ],
   "source": [
    "sns.distplot(df['Distance to Work'], color=\"skyblue\")"
   ]
  },
  {
   "cell_type": "code",
   "execution_count": 41,
   "id": "93bd161b-7f20-4ee7-a835-acf777d95613",
   "metadata": {
    "colab": {
     "base_uri": "https://localhost:8080/",
     "height": 356
    },
    "executionInfo": {
     "elapsed": 62,
     "status": "ok",
     "timestamp": 1673407204446,
     "user": {
      "displayName": "Tushar Patil",
      "userId": "09849807803327805394"
     },
     "user_tz": -330
    },
    "id": "93bd161b-7f20-4ee7-a835-acf777d95613",
    "outputId": "018ceb64-2f38-4322-8f89-e766f9ef92e1"
   },
   "outputs": [
    {
     "name": "stderr",
     "output_type": "stream",
     "text": [
      "/usr/local/lib/python3.8/dist-packages/seaborn/distributions.py:2619: FutureWarning: `distplot` is a deprecated function and will be removed in a future version. Please adapt your code to use either `displot` (a figure-level function with similar flexibility) or `histplot` (an axes-level function for histograms).\n",
      "  warnings.warn(msg, FutureWarning)\n"
     ]
    },
    {
     "data": {
      "text/plain": [
       "<matplotlib.axes._subplots.AxesSubplot at 0x7f7f464df0d0>"
      ]
     },
     "execution_count": 41,
     "metadata": {},
     "output_type": "execute_result"
    },
    {
     "data": {
      "image/png": "[encoded data removed]",
      "text/plain": [
       "<Figure size 432x288 with 1 Axes>"
      ]
     },
     "metadata": {
      "needs_background": "light"
     },
     "output_type": "display_data"
    }
   ],
   "source": [
    "sns.distplot(df['reason_1'], color=\"teal\")"
   ]
  },
  {
   "cell_type": "code",
   "execution_count": 42,
   "id": "a4d37e5d-89f6-4b80-8d22-8cdd0c760c0f",
   "metadata": {
    "colab": {
     "base_uri": "https://localhost:8080/",
     "height": 354
    },
    "executionInfo": {
     "elapsed": 58,
     "status": "ok",
     "timestamp": 1673407204446,
     "user": {
      "displayName": "Tushar Patil",
      "userId": "09849807803327805394"
     },
     "user_tz": -330
    },
    "id": "a4d37e5d-89f6-4b80-8d22-8cdd0c760c0f",
    "outputId": "3d01fea7-9dbd-4dc0-a12a-ea878eea7406"
   },
   "outputs": [
    {
     "name": "stderr",
     "output_type": "stream",
     "text": [
      "/usr/local/lib/python3.8/dist-packages/seaborn/distributions.py:2619: FutureWarning: `distplot` is a deprecated function and will be removed in a future version. Please adapt your code to use either `displot` (a figure-level function with similar flexibility) or `histplot` (an axes-level function for histograms).\n",
      "  warnings.warn(msg, FutureWarning)\n"
     ]
    },
    {
     "data": {
      "text/plain": [
       "<matplotlib.axes._subplots.AxesSubplot at 0x7f7f46465c10>"
      ]
     },
     "execution_count": 42,
     "metadata": {},
     "output_type": "execute_result"
    },
    {
     "data": {
      "image/png": "[encoded data removed]",
      "text/plain": [
       "<Figure size 432x288 with 1 Axes>"
      ]
     },
     "metadata": {
      "needs_background": "light"
     },
     "output_type": "display_data"
    }
   ],
   "source": [
    "sns.distplot(df['reason_2'], color=\"teal\")"
   ]
  },
  {
   "cell_type": "code",
   "execution_count": 43,
   "id": "624b1dd3-77cc-4c48-8439-f2e4fcd42bd8",
   "metadata": {
    "colab": {
     "base_uri": "https://localhost:8080/",
     "height": 354
    },
    "executionInfo": {
     "elapsed": 1069,
     "status": "ok",
     "timestamp": 1673407205460,
     "user": {
      "displayName": "Tushar Patil",
      "userId": "09849807803327805394"
     },
     "user_tz": -330
    },
    "id": "624b1dd3-77cc-4c48-8439-f2e4fcd42bd8",
    "outputId": "986dddb9-44f9-46d3-9106-0522e1e1851b"
   },
   "outputs": [
    {
     "name": "stderr",
     "output_type": "stream",
     "text": [
      "/usr/local/lib/python3.8/dist-packages/seaborn/distributions.py:2619: FutureWarning: `distplot` is a deprecated function and will be removed in a future version. Please adapt your code to use either `displot` (a figure-level function with similar flexibility) or `histplot` (an axes-level function for histograms).\n",
      "  warnings.warn(msg, FutureWarning)\n"
     ]
    },
    {
     "data": {
      "text/plain": [
       "<matplotlib.axes._subplots.AxesSubplot at 0x7f7f463df5e0>"
      ]
     },
     "execution_count": 43,
     "metadata": {},
     "output_type": "execute_result"
    },
    {
     "data": {
      "image/png": "[encoded data removed]",
      "text/plain": [
       "<Figure size 432x288 with 1 Axes>"
      ]
     },
     "metadata": {
      "needs_background": "light"
     },
     "output_type": "display_data"
    }
   ],
   "source": [
    "sns.distplot(df['reason_3'], color=\"teal\")"
   ]
  },
  {
   "cell_type": "code",
   "execution_count": 44,
   "id": "edbd14b9-16fd-4a8d-b8a4-7edb2487b3f0",
   "metadata": {
    "colab": {
     "base_uri": "https://localhost:8080/",
     "height": 354
    },
    "executionInfo": {
     "elapsed": 34,
     "status": "ok",
     "timestamp": 1673407205461,
     "user": {
      "displayName": "Tushar Patil",
      "userId": "09849807803327805394"
     },
     "user_tz": -330
    },
    "id": "edbd14b9-16fd-4a8d-b8a4-7edb2487b3f0",
    "outputId": "26ba7077-b327-45c2-ef5d-1df51534561b"
   },
   "outputs": [
    {
     "name": "stderr",
     "output_type": "stream",
     "text": [
      "/usr/local/lib/python3.8/dist-packages/seaborn/distributions.py:2619: FutureWarning: `distplot` is a deprecated function and will be removed in a future version. Please adapt your code to use either `displot` (a figure-level function with similar flexibility) or `histplot` (an axes-level function for histograms).\n",
      "  warnings.warn(msg, FutureWarning)\n"
     ]
    },
    {
     "data": {
      "text/plain": [
       "<matplotlib.axes._subplots.AxesSubplot at 0x7f7f4631dc40>"
      ]
     },
     "execution_count": 44,
     "metadata": {},
     "output_type": "execute_result"
    },
    {
     "data": {
      "image/png": "[encoded data removed]",
      "text/plain": [
       "<Figure size 432x288 with 1 Axes>"
      ]
     },
     "metadata": {
      "needs_background": "light"
     },
     "output_type": "display_data"
    }
   ],
   "source": [
    "sns.distplot(df['reason_4'], color=\"teal\")"
   ]
  },
  {
   "cell_type": "code",
   "execution_count": 45,
   "id": "bed7112b-f0e0-4fae-b3a7-78fabeb0b4ff",
   "metadata": {
    "colab": {
     "base_uri": "https://localhost:8080/",
     "height": 354
    },
    "executionInfo": {
     "elapsed": 31,
     "status": "ok",
     "timestamp": 1673407205462,
     "user": {
      "displayName": "Tushar Patil",
      "userId": "09849807803327805394"
     },
     "user_tz": -330
    },
    "id": "bed7112b-f0e0-4fae-b3a7-78fabeb0b4ff",
    "outputId": "88b2848d-e61c-4b6a-e455-161d12e3b312"
   },
   "outputs": [
    {
     "name": "stderr",
     "output_type": "stream",
     "text": [
      "/usr/local/lib/python3.8/dist-packages/seaborn/_decorators.py:36: FutureWarning: Pass the following variable as a keyword arg: x. From version 0.12, the only valid positional argument will be `data`, and passing other arguments without an explicit keyword will result in an error or misinterpretation.\n",
      "  warnings.warn(\n"
     ]
    },
    {
     "data": {
      "text/plain": [
       "<matplotlib.axes._subplots.AxesSubplot at 0x7f7f46304310>"
      ]
     },
     "execution_count": 45,
     "metadata": {},
     "output_type": "execute_result"
    },
    {
     "data": {
      "image/png": "[encoded data removed]",
      "text/plain": [
       "<Figure size 432x288 with 1 Axes>"
      ]
     },
     "metadata": {
      "needs_background": "light"
     },
     "output_type": "display_data"
    }
   ],
   "source": [
    "sns.countplot(df['reason_4'])"
   ]
  },
  {
   "cell_type": "code",
   "execution_count": 46,
   "id": "d9172954-95b0-498a-85fc-f8428de7519d",
   "metadata": {
    "executionInfo": {
     "elapsed": 26,
     "status": "ok",
     "timestamp": 1673407205462,
     "user": {
      "displayName": "Tushar Patil",
      "userId": "09849807803327805394"
     },
     "user_tz": -330
    },
    "id": "d9172954-95b0-498a-85fc-f8428de7519d"
   },
   "outputs": [],
   "source": [
    "#sns.catplot(df['reason_4'])"
   ]
  },
  {
   "cell_type": "code",
   "execution_count": 47,
   "id": "6fe95eee-7bed-44b3-8c42-565431c19bc9",
   "metadata": {
    "colab": {
     "base_uri": "https://localhost:8080/",
     "height": 353
    },
    "executionInfo": {
     "elapsed": 27,
     "status": "ok",
     "timestamp": 1673407205463,
     "user": {
      "displayName": "Tushar Patil",
      "userId": "09849807803327805394"
     },
     "user_tz": -330
    },
    "id": "6fe95eee-7bed-44b3-8c42-565431c19bc9",
    "outputId": "7d90c693-14be-461f-bfe0-45fdc7cfcb8f"
   },
   "outputs": [
    {
     "name": "stderr",
     "output_type": "stream",
     "text": [
      "/usr/local/lib/python3.8/dist-packages/seaborn/distributions.py:2619: FutureWarning: `distplot` is a deprecated function and will be removed in a future version. Please adapt your code to use either `displot` (a figure-level function with similar flexibility) or `histplot` (an axes-level function for histograms).\n",
      "  warnings.warn(msg, FutureWarning)\n"
     ]
    },
    {
     "data": {
      "text/plain": [
       "<matplotlib.axes._subplots.AxesSubplot at 0x7f7f46254cd0>"
      ]
     },
     "execution_count": 47,
     "metadata": {},
     "output_type": "execute_result"
    },
    {
     "data": {
      "image/png": "[encoded data removed]",
      "text/plain": [
       "<Figure size 288x288 with 1 Axes>"
      ]
     },
     "metadata": {
      "needs_background": "light"
     },
     "output_type": "display_data"
    }
   ],
   "source": [
    "plt.figure(figsize=(4,4))\n",
    "sns.distplot(df['Children'], color=\"olive\")"
   ]
  },
  {
   "cell_type": "code",
   "execution_count": 48,
   "id": "02f955c2-bf1b-4438-8eaf-be4cae217e64",
   "metadata": {
    "colab": {
     "base_uri": "https://localhost:8080/",
     "height": 353
    },
    "executionInfo": {
     "elapsed": 23,
     "status": "ok",
     "timestamp": 1673407205464,
     "user": {
      "displayName": "Tushar Patil",
      "userId": "09849807803327805394"
     },
     "user_tz": -330
    },
    "id": "02f955c2-bf1b-4438-8eaf-be4cae217e64",
    "outputId": "8b0eae9d-7cc4-4ec8-e4e1-489c4235c639"
   },
   "outputs": [
    {
     "name": "stderr",
     "output_type": "stream",
     "text": [
      "/usr/local/lib/python3.8/dist-packages/seaborn/distributions.py:2619: FutureWarning: `distplot` is a deprecated function and will be removed in a future version. Please adapt your code to use either `displot` (a figure-level function with similar flexibility) or `histplot` (an axes-level function for histograms).\n",
      "  warnings.warn(msg, FutureWarning)\n"
     ]
    },
    {
     "data": {
      "text/plain": [
       "<matplotlib.axes._subplots.AxesSubplot at 0x7f7f46247ee0>"
      ]
     },
     "execution_count": 48,
     "metadata": {},
     "output_type": "execute_result"
    },
    {
     "data": {
      "image/png": "[encoded data removed]",
      "text/plain": [
       "<Figure size 432x288 with 1 Axes>"
      ]
     },
     "metadata": {
      "needs_background": "light"
     },
     "output_type": "display_data"
    }
   ],
   "source": [
    "sns.distplot(df['Body Mass Index'], color=\"olive\")"
   ]
  },
  {
   "cell_type": "code",
   "execution_count": 49,
   "id": "d1eed6ea-e160-4d7b-b168-e205a1c12851",
   "metadata": {
    "executionInfo": {
     "elapsed": 20,
     "status": "ok",
     "timestamp": 1673407205465,
     "user": {
      "displayName": "Tushar Patil",
      "userId": "09849807803327805394"
     },
     "user_tz": -330
    },
    "id": "d1eed6ea-e160-4d7b-b168-e205a1c12851"
   },
   "outputs": [],
   "source": [
    "#plt.scatter(df['Daily Work Load Average'],df['Absenteeism Time in Hours'],marker = '*')"
   ]
  },
  {
   "cell_type": "code",
   "execution_count": 50,
   "id": "a4940348-0643-47b5-a3aa-e71c0d53f673",
   "metadata": {
    "executionInfo": {
     "elapsed": 19,
     "status": "ok",
     "timestamp": 1673407205465,
     "user": {
      "displayName": "Tushar Patil",
      "userId": "09849807803327805394"
     },
     "user_tz": -330
    },
    "id": "a4940348-0643-47b5-a3aa-e71c0d53f673"
   },
   "outputs": [],
   "source": [
    "#plt.scatter(df['Age'],df['Absenteeism Time in Hours'],marker = '*')"
   ]
  },
  {
   "cell_type": "code",
   "execution_count": 51,
   "id": "f1611cb7-9fe8-4d7b-a689-77335c45b8b2",
   "metadata": {
    "colab": {
     "base_uri": "https://localhost:8080/",
     "height": 319
    },
    "executionInfo": {
     "elapsed": 19,
     "status": "ok",
     "timestamp": 1673407205465,
     "user": {
      "displayName": "Tushar Patil",
      "userId": "09849807803327805394"
     },
     "user_tz": -330
    },
    "id": "f1611cb7-9fe8-4d7b-a689-77335c45b8b2",
    "outputId": "27ad6210-9e2f-4e84-8bb3-7c8881dce9bb"
   },
   "outputs": [
    {
     "data": {
      "text/plain": [
       "(array([439., 132.,  92.,   0.,   0.,  29.,   5.,   0.,   0.,   3.]),\n",
       " array([0. , 0.8, 1.6, 2.4, 3.2, 4. , 4.8, 5.6, 6.4, 7.2, 8. ]),\n",
       " <a list of 10 Patch objects>)"
      ]
     },
     "execution_count": 51,
     "metadata": {},
     "output_type": "execute_result"
    },
    {
     "data": {
      "image/png": "[encoded data removed]",
      "text/plain": [
       "<Figure size 432x288 with 1 Axes>"
      ]
     },
     "metadata": {
      "needs_background": "light"
     },
     "output_type": "display_data"
    }
   ],
   "source": [
    "plt.hist(df['Pets'],bins = 10)"
   ]
  },
  {
   "cell_type": "markdown",
   "id": "95ddd710-119b-4d7a-9af0-e57c4376fe62",
   "metadata": {
    "id": "95ddd710-119b-4d7a-9af0-e57c4376fe62"
   },
   "source": [
    "### Multi-variate Analysis"
   ]
  },
  {
   "cell_type": "code",
   "execution_count": 52,
   "id": "67f8197d-f7c6-4cfb-8140-03cd2cfe0f37",
   "metadata": {
    "colab": {
     "base_uri": "https://localhost:8080/"
    },
    "executionInfo": {
     "elapsed": 4729,
     "status": "ok",
     "timestamp": 1673407210179,
     "user": {
      "displayName": "Tushar Patil",
      "userId": "09849807803327805394"
     },
     "user_tz": -330
    },
    "id": "67f8197d-f7c6-4cfb-8140-03cd2cfe0f37",
    "outputId": "cef292e8-91d6-4b16-e18f-2ed3a491ca7e"
   },
   "outputs": [
    {
     "name": "stdout",
     "output_type": "stream",
     "text": [
      "Looking in indexes: https://pypi.org/simple, https://us-python.pkg.dev/colab-wheels/public/simple/\n",
      "Collecting sweetviz\n",
      "  Downloading sweetviz-2.1.4-py3-none-any.whl (15.1 MB)\n",
      "\u001b[2K     \u001b[90m━━━━━━━━━━━━━━━━━━━━━━━━━━━━━━━━━━━━━━━━\u001b[0m \u001b[32m15.1/15.1 MB\u001b[0m \u001b[31m52.7 MB/s\u001b[0m eta \u001b[36m0:00:00\u001b[0m\n",
      "\u001b[?25hRequirement already satisfied: jinja2>=2.11.1 in /usr/local/lib/python3.8/dist-packages (from sweetviz) (2.11.3)\n",
      "Requirement already satisfied: numpy>=1.16.0 in /usr/local/lib/python3.8/dist-packages (from sweetviz) (1.21.6)\n",
      "Requirement already satisfied: matplotlib>=3.1.3 in /usr/local/lib/python3.8/dist-packages (from sweetviz) (3.2.2)\n",
      "Requirement already satisfied: pandas!=1.0.0,!=1.0.1,!=1.0.2,>=0.25.3 in /usr/local/lib/python3.8/dist-packages (from sweetviz) (1.3.5)\n",
      "Requirement already satisfied: importlib-resources>=1.2.0 in /usr/local/lib/python3.8/dist-packages (from sweetviz) (5.10.2)\n",
      "Requirement already satisfied: tqdm>=4.43.0 in /usr/local/lib/python3.8/dist-packages (from sweetviz) (4.64.1)\n",
      "Requirement already satisfied: scipy>=1.3.2 in /usr/local/lib/python3.8/dist-packages (from sweetviz) (1.7.3)\n",
      "Requirement already satisfied: zipp>=3.1.0 in /usr/local/lib/python3.8/dist-packages (from importlib-resources>=1.2.0->sweetviz) (3.11.0)\n",
      "Requirement already satisfied: MarkupSafe>=0.23 in /usr/local/lib/python3.8/dist-packages (from jinja2>=2.11.1->sweetviz) (2.0.1)\n",
      "Requirement already satisfied: pyparsing!=2.0.4,!=2.1.2,!=2.1.6,>=2.0.1 in /usr/local/lib/python3.8/dist-packages (from matplotlib>=3.1.3->sweetviz) (3.0.9)\n",
      "Requirement already satisfied: kiwisolver>=1.0.1 in /usr/local/lib/python3.8/dist-packages (from matplotlib>=3.1.3->sweetviz) (1.4.4)\n",
      "Requirement already satisfied: python-dateutil>=2.1 in /usr/local/lib/python3.8/dist-packages (from matplotlib>=3.1.3->sweetviz) (2.8.2)\n",
      "Requirement already satisfied: cycler>=0.10 in /usr/local/lib/python3.8/dist-packages (from matplotlib>=3.1.3->sweetviz) (0.11.0)\n",
      "Requirement already satisfied: pytz>=2017.3 in /usr/local/lib/python3.8/dist-packages (from pandas!=1.0.0,!=1.0.1,!=1.0.2,>=0.25.3->sweetviz) (2022.7)\n",
      "Requirement already satisfied: six>=1.5 in /usr/local/lib/python3.8/dist-packages (from python-dateutil>=2.1->matplotlib>=3.1.3->sweetviz) (1.15.0)\n",
      "Installing collected packages: sweetviz\n",
      "Successfully installed sweetviz-2.1.4\n"
     ]
    }
   ],
   "source": [
    "!pip install sweetviz\n",
    "import sweetviz as si"
   ]
  },
  {
   "cell_type": "markdown",
   "id": "f4d441a3-6c09-443d-b4f3-619af319c8f9",
   "metadata": {
    "id": "f4d441a3-6c09-443d-b4f3-619af319c8f9"
   },
   "source": [
    "### selecting Dependent and Independent Variable"
   ]
  },
  {
   "cell_type": "code",
   "execution_count": 53,
   "id": "48922d99-7bc4-4180-84c6-c709f7d2b974",
   "metadata": {
    "executionInfo": {
     "elapsed": 10,
     "status": "ok",
     "timestamp": 1673407210180,
     "user": {
      "displayName": "Tushar Patil",
      "userId": "09849807803327805394"
     },
     "user_tz": -330
    },
    "id": "48922d99-7bc4-4180-84c6-c709f7d2b974"
   },
   "outputs": [],
   "source": [
    "x = df.drop(['Excessive_absenteeism'],axis = 1)\n",
    "y = df['Excessive_absenteeism']"
   ]
  },
  {
   "cell_type": "code",
   "execution_count": 54,
   "id": "98a8b6c4-52a9-4e5f-9f6a-047831a92692",
   "metadata": {
    "colab": {
     "base_uri": "https://localhost:8080/",
     "height": 87,
     "referenced_widgets": [
      "83a8a78149264d1191200633579c208e",
      "769a225c32164082901c1bf437e16a7a",
      "fc45acf1169e45b78c3cc0c8643d487d",
      "5562623159ba4f278ccb39cc8b09d31c",
      "47e21bd1209b453ca8622f019bc9a779",
      "836660f55cfa4280aac2e38389425879",
      "fa90acaceb0f4fca95586592ab00da1f",
      "417f7b17356548bdb49d2225a2f09ddc",
      "3a68923011d34217ac1f9b800390eb1f",
      "f9efa0b4f7004ada8949fd43b5f5d915",
      "94f621b0f688499a9f1a81fda3fe1666"
     ]
    },
    "executionInfo": {
     "elapsed": 7450,
     "status": "ok",
     "timestamp": 1673407217620,
     "user": {
      "displayName": "Tushar Patil",
      "userId": "09849807803327805394"
     },
     "user_tz": -330
    },
    "id": "98a8b6c4-52a9-4e5f-9f6a-047831a92692",
    "outputId": "43f28e7f-7513-4ca2-a50f-f4d19736d9de"
   },
   "outputs": [
    {
     "data": {
      "application/vnd.jupyter.widget-view+json": {
       "model_id": "83a8a78149264d1191200633579c208e",
       "version_major": 2,
       "version_minor": 0
      },
      "text/plain": [
       "                                             |          | [  0%]   00:00 -> (? left)"
      ]
     },
     "metadata": {},
     "output_type": "display_data"
    },
    {
     "name": "stdout",
     "output_type": "stream",
     "text": [
      "Report SWEETVIZ_REPORT.html was generated! NOTEBOOK/COLAB USERS: the web browser MAY not pop up, regardless, the report IS saved in your notebook/colab files.\n"
     ]
    }
   ],
   "source": [
    "my_report = si.analyze(x)\n",
    "my_report.show_html()"
   ]
  },
  {
   "cell_type": "code",
   "execution_count": 55,
   "id": "d4daa3f9-6b33-4d97-b324-6455a3da3af2",
   "metadata": {
    "colab": {
     "base_uri": "https://localhost:8080/"
    },
    "executionInfo": {
     "elapsed": 12,
     "status": "ok",
     "timestamp": 1673407217621,
     "user": {
      "displayName": "Tushar Patil",
      "userId": "09849807803327805394"
     },
     "user_tz": -330
    },
    "id": "d4daa3f9-6b33-4d97-b324-6455a3da3af2",
    "outputId": "85d1d14a-7b17-4d0d-9cee-666a0bd50bfd"
   },
   "outputs": [
    {
     "data": {
      "text/plain": [
       "Index(['reason_1', 'reason_2', 'reason_3', 'reason_4', 'month',\n",
       "       'day of the week', 'Transportation Expense', 'Distance to Work', 'Age',\n",
       "       'Daily Work Load Average', 'Body Mass Index', 'Education', 'Children',\n",
       "       'Pets', 'Excessive_absenteeism'],\n",
       "      dtype='object')"
      ]
     },
     "execution_count": 55,
     "metadata": {},
     "output_type": "execute_result"
    }
   ],
   "source": [
    "df.columns"
   ]
  },
  {
   "cell_type": "code",
   "execution_count": 56,
   "id": "31b06b59-f499-4fee-b8e9-a06f444a46ae",
   "metadata": {
    "colab": {
     "base_uri": "https://localhost:8080/",
     "height": 641
    },
    "executionInfo": {
     "elapsed": 745,
     "status": "ok",
     "timestamp": 1673407218358,
     "user": {
      "displayName": "Tushar Patil",
      "userId": "09849807803327805394"
     },
     "user_tz": -330
    },
    "id": "31b06b59-f499-4fee-b8e9-a06f444a46ae",
    "outputId": "dc509c24-6f37-4e63-e2b8-c7df9eb33d1d"
   },
   "outputs": [
    {
     "name": "stderr",
     "output_type": "stream",
     "text": [
      "/usr/local/lib/python3.8/dist-packages/seaborn/_decorators.py:36: FutureWarning: Pass the following variable as a keyword arg: x. From version 0.12, the only valid positional argument will be `data`, and passing other arguments without an explicit keyword will result in an error or misinterpretation.\n",
      "  warnings.warn(\n"
     ]
    },
    {
     "data": {
      "image/png": "[encoded data removed]",
      "text/plain": [
       "<Figure size 1200x800 with 1 Axes>"
      ]
     },
     "metadata": {},
     "output_type": "display_data"
    }
   ],
   "source": [
    "plt.figure(figsize=(12,8))\n",
    "sns.boxplot(df['Body Mass Index']);"
   ]
  },
  {
   "cell_type": "code",
   "execution_count": 57,
   "id": "5430cb4e-6a85-45de-a3ff-18d4b364d32f",
   "metadata": {
    "colab": {
     "base_uri": "https://localhost:8080/",
     "height": 641
    },
    "executionInfo": {
     "elapsed": 452,
     "status": "ok",
     "timestamp": 1673407218807,
     "user": {
      "displayName": "Tushar Patil",
      "userId": "09849807803327805394"
     },
     "user_tz": -330
    },
    "id": "5430cb4e-6a85-45de-a3ff-18d4b364d32f",
    "outputId": "ca30c887-2993-440f-a5db-5df5fc7b0ae9"
   },
   "outputs": [
    {
     "name": "stderr",
     "output_type": "stream",
     "text": [
      "/usr/local/lib/python3.8/dist-packages/seaborn/_decorators.py:36: FutureWarning: Pass the following variable as a keyword arg: x. From version 0.12, the only valid positional argument will be `data`, and passing other arguments without an explicit keyword will result in an error or misinterpretation.\n",
      "  warnings.warn(\n"
     ]
    },
    {
     "data": {
      "image/png": "[encoded data removed]",
      "text/plain": [
       "<Figure size 1200x800 with 1 Axes>"
      ]
     },
     "metadata": {},
     "output_type": "display_data"
    }
   ],
   "source": [
    "plt.figure(figsize=(12,8))\n",
    "sns.boxplot(df['Daily Work Load Average']);"
   ]
  },
  {
   "cell_type": "markdown",
   "id": "555b0d5c-867a-4252-b8e1-bc5a018cea12",
   "metadata": {
    "id": "555b0d5c-867a-4252-b8e1-bc5a018cea12"
   },
   "source": [
    "#### From the above boxplot analysis we can say that there are no outliers so we didn't handled it. Also the dataset Size is too small so every record is important for prediction"
   ]
  },
  {
   "cell_type": "code",
   "execution_count": 58,
   "id": "195d9e50-5873-48c3-b3bd-48a2626ce1fe",
   "metadata": {
    "colab": {
     "base_uri": "https://localhost:8080/"
    },
    "executionInfo": {
     "elapsed": 7,
     "status": "ok",
     "timestamp": 1673407218807,
     "user": {
      "displayName": "Tushar Patil",
      "userId": "09849807803327805394"
     },
     "user_tz": -330
    },
    "id": "195d9e50-5873-48c3-b3bd-48a2626ce1fe",
    "outputId": "c7139be2-bd89-434d-e398-b95dc588cc55"
   },
   "outputs": [
    {
     "data": {
      "text/plain": [
       "0    525\n",
       "1    175\n",
       "Name: reason_1, dtype: int64"
      ]
     },
     "execution_count": 58,
     "metadata": {},
     "output_type": "execute_result"
    }
   ],
   "source": [
    "df['reason_1'].value_counts()"
   ]
  },
  {
   "cell_type": "code",
   "execution_count": 59,
   "id": "fa845cb2-7974-4403-aca2-42dd558a6451",
   "metadata": {
    "colab": {
     "base_uri": "https://localhost:8080/",
     "height": 597
    },
    "executionInfo": {
     "elapsed": 2873,
     "status": "ok",
     "timestamp": 1673407221677,
     "user": {
      "displayName": "Tushar Patil",
      "userId": "09849807803327805394"
     },
     "user_tz": -330
    },
    "id": "fa845cb2-7974-4403-aca2-42dd558a6451",
    "outputId": "5fa3c537-c502-4270-d298-6289f2ac349a"
   },
   "outputs": [
    {
     "data": {
      "text/plain": [
       "<matplotlib.axes._subplots.AxesSubplot at 0x7f7f43ad3910>"
      ]
     },
     "execution_count": 59,
     "metadata": {},
     "output_type": "execute_result"
    },
    {
     "data": {
      "image/png": "[encoded data removed]",
      "text/plain": [
       "<Figure size 2000x1200 with 2 Axes>"
      ]
     },
     "metadata": {},
     "output_type": "display_data"
    }
   ],
   "source": [
    "plt.figure(figsize = (20,12))\n",
    "sns.heatmap(df.corr(),annot = True)"
   ]
  },
  {
   "cell_type": "code",
   "execution_count": 60,
   "id": "20f0c633-d9b3-4fde-8bb4-13623677285c",
   "metadata": {
    "colab": {
     "base_uri": "https://localhost:8080/",
     "height": 322
    },
    "executionInfo": {
     "elapsed": 46,
     "status": "ok",
     "timestamp": 1673407221677,
     "user": {
      "displayName": "Tushar Patil",
      "userId": "09849807803327805394"
     },
     "user_tz": -330
    },
    "id": "20f0c633-d9b3-4fde-8bb4-13623677285c",
    "outputId": "cf0fba1d-2c35-4ae5-e9ca-51a2bbfe4b2c"
   },
   "outputs": [
    {
     "data": {
      "text/html": [
       "\n",
       "  <div id=\"df-a4b912bd-d7d5-409f-856b-22c680e1beb2\">\n",
       "    <div class=\"colab-df-container\">\n",
       "      <div>\n",
       "<style scoped>\n",
       "    .dataframe tbody tr th:only-of-type {\n",
       "        vertical-align: middle;\n",
       "    }\n",
       "\n",
       "    .dataframe tbody tr th {\n",
       "        vertical-align: top;\n",
       "    }\n",
       "\n",
       "    .dataframe thead th {\n",
       "        text-align: right;\n",
       "    }\n",
       "</style>\n",
       "<table border=\"1\" class=\"dataframe\">\n",
       "  <thead>\n",
       "    <tr style=\"text-align: right;\">\n",
       "      <th></th>\n",
       "      <th>reason_1</th>\n",
       "      <th>reason_2</th>\n",
       "      <th>reason_3</th>\n",
       "      <th>reason_4</th>\n",
       "      <th>month</th>\n",
       "      <th>day of the week</th>\n",
       "      <th>Transportation Expense</th>\n",
       "      <th>Distance to Work</th>\n",
       "      <th>Age</th>\n",
       "      <th>Daily Work Load Average</th>\n",
       "      <th>Body Mass Index</th>\n",
       "      <th>Education</th>\n",
       "      <th>Children</th>\n",
       "      <th>Pets</th>\n",
       "      <th>Excessive_absenteeism</th>\n",
       "    </tr>\n",
       "  </thead>\n",
       "  <tbody>\n",
       "    <tr>\n",
       "      <th>0</th>\n",
       "      <td>0</td>\n",
       "      <td>0</td>\n",
       "      <td>0</td>\n",
       "      <td>1</td>\n",
       "      <td>7</td>\n",
       "      <td>1</td>\n",
       "      <td>289</td>\n",
       "      <td>36</td>\n",
       "      <td>33</td>\n",
       "      <td>239.554</td>\n",
       "      <td>30</td>\n",
       "      <td>1</td>\n",
       "      <td>2</td>\n",
       "      <td>1</td>\n",
       "      <td>1</td>\n",
       "    </tr>\n",
       "    <tr>\n",
       "      <th>1</th>\n",
       "      <td>0</td>\n",
       "      <td>0</td>\n",
       "      <td>0</td>\n",
       "      <td>0</td>\n",
       "      <td>7</td>\n",
       "      <td>1</td>\n",
       "      <td>118</td>\n",
       "      <td>13</td>\n",
       "      <td>50</td>\n",
       "      <td>239.554</td>\n",
       "      <td>31</td>\n",
       "      <td>1</td>\n",
       "      <td>1</td>\n",
       "      <td>0</td>\n",
       "      <td>0</td>\n",
       "    </tr>\n",
       "    <tr>\n",
       "      <th>2</th>\n",
       "      <td>0</td>\n",
       "      <td>0</td>\n",
       "      <td>0</td>\n",
       "      <td>1</td>\n",
       "      <td>7</td>\n",
       "      <td>2</td>\n",
       "      <td>179</td>\n",
       "      <td>51</td>\n",
       "      <td>38</td>\n",
       "      <td>239.554</td>\n",
       "      <td>31</td>\n",
       "      <td>1</td>\n",
       "      <td>0</td>\n",
       "      <td>0</td>\n",
       "      <td>0</td>\n",
       "    </tr>\n",
       "    <tr>\n",
       "      <th>3</th>\n",
       "      <td>1</td>\n",
       "      <td>0</td>\n",
       "      <td>0</td>\n",
       "      <td>0</td>\n",
       "      <td>7</td>\n",
       "      <td>3</td>\n",
       "      <td>279</td>\n",
       "      <td>5</td>\n",
       "      <td>39</td>\n",
       "      <td>239.554</td>\n",
       "      <td>24</td>\n",
       "      <td>1</td>\n",
       "      <td>2</td>\n",
       "      <td>0</td>\n",
       "      <td>1</td>\n",
       "    </tr>\n",
       "    <tr>\n",
       "      <th>4</th>\n",
       "      <td>0</td>\n",
       "      <td>0</td>\n",
       "      <td>0</td>\n",
       "      <td>1</td>\n",
       "      <td>7</td>\n",
       "      <td>3</td>\n",
       "      <td>289</td>\n",
       "      <td>36</td>\n",
       "      <td>33</td>\n",
       "      <td>239.554</td>\n",
       "      <td>30</td>\n",
       "      <td>1</td>\n",
       "      <td>2</td>\n",
       "      <td>1</td>\n",
       "      <td>0</td>\n",
       "    </tr>\n",
       "  </tbody>\n",
       "</table>\n",
       "</div>\n",
       "      <button class=\"colab-df-convert\" onclick=\"convertToInteractive('df-a4b912bd-d7d5-409f-856b-22c680e1beb2')\"\n",
       "              title=\"Convert this dataframe to an interactive table.\"\n",
       "              style=\"display:none;\">\n",
       "        \n",
       "  <svg xmlns=\"http://www.w3.org/2000/svg\" height=\"24px\"viewBox=\"0 0 24 24\"\n",
       "       width=\"24px\">\n",
       "    <path d=\"M0 0h24v24H0V0z\" fill=\"none\"/>\n",
       "    <path d=\"M18.56 5.44l.94 2.06.94-2.06 2.06-.94-2.06-.94-.94-2.06-.94 2.06-2.06.94zm-11 1L8.5 8.5l.94-2.06 2.06-.94-2.06-.94L8.5 2.5l-.94 2.06-2.06.94zm10 10l.94 2.06.94-2.06 2.06-.94-2.06-.94-.94-2.06-.94 2.06-2.06.94z\"/><path d=\"M17.41 7.96l-1.37-1.37c-.4-.4-.92-.59-1.43-.59-.52 0-1.04.2-1.43.59L10.3 9.45l-7.72 7.72c-.78.78-.78 2.05 0 2.83L4 21.41c.39.39.9.59 1.41.59.51 0 1.02-.2 1.41-.59l7.78-7.78 2.81-2.81c.8-.78.8-2.07 0-2.86zM5.41 20L4 18.59l7.72-7.72 1.47 1.35L5.41 20z\"/>\n",
       "  </svg>\n",
       "      </button>\n",
       "      \n",
       "  <style>\n",
       "    .colab-df-container {\n",
       "      display:flex;\n",
       "      flex-wrap:wrap;\n",
       "      gap: 12px;\n",
       "    }\n",
       "\n",
       "    .colab-df-convert {\n",
       "      background-color: #E8F0FE;\n",
       "      border: none;\n",
       "      border-radius: 50%;\n",
       "      cursor: pointer;\n",
       "      display: none;\n",
       "      fill: #1967D2;\n",
       "      height: 32px;\n",
       "      padding: 0 0 0 0;\n",
       "      width: 32px;\n",
       "    }\n",
       "\n",
       "    .colab-df-convert:hover {\n",
       "      background-color: #E2EBFA;\n",
       "      box-shadow: 0px 1px 2px rgba(60, 64, 67, 0.3), 0px 1px 3px 1px rgba(60, 64, 67, 0.15);\n",
       "      fill: #174EA6;\n",
       "    }\n",
       "\n",
       "    [theme=dark] .colab-df-convert {\n",
       "      background-color: #3B4455;\n",
       "      fill: #D2E3FC;\n",
       "    }\n",
       "\n",
       "    [theme=dark] .colab-df-convert:hover {\n",
       "      background-color: #434B5C;\n",
       "      box-shadow: 0px 1px 3px 1px rgba(0, 0, 0, 0.15);\n",
       "      filter: drop-shadow(0px 1px 2px rgba(0, 0, 0, 0.3));\n",
       "      fill: #FFFFFF;\n",
       "    }\n",
       "  </style>\n",
       "\n",
       "      <script>\n",
       "        const buttonEl =\n",
       "          document.querySelector('#df-a4b912bd-d7d5-409f-856b-22c680e1beb2 button.colab-df-convert');\n",
       "        buttonEl.style.display =\n",
       "          google.colab.kernel.accessAllowed ? 'block' : 'none';\n",
       "\n",
       "        async function convertToInteractive(key) {\n",
       "          const element = document.querySelector('#df-a4b912bd-d7d5-409f-856b-22c680e1beb2');\n",
       "          const dataTable =\n",
       "            await google.colab.kernel.invokeFunction('convertToInteractive',\n",
       "                                                     [key], {});\n",
       "          if (!dataTable) return;\n",
       "\n",
       "          const docLinkHtml = 'Like what you see? Visit the ' +\n",
       "            '<a target=\"_blank\" href=https://colab.research.google.com/notebooks/data_table.ipynb>data table notebook</a>'\n",
       "            + ' to learn more about interactive tables.';\n",
       "          element.innerHTML = '';\n",
       "          dataTable['output_type'] = 'display_data';\n",
       "          await google.colab.output.renderOutput(dataTable, element);\n",
       "          const docLink = document.createElement('div');\n",
       "          docLink.innerHTML = docLinkHtml;\n",
       "          element.appendChild(docLink);\n",
       "        }\n",
       "      </script>\n",
       "    </div>\n",
       "  </div>\n",
       "  "
      ],
      "text/plain": [
       "   reason_1  reason_2  reason_3  reason_4  month  day of the week  \\\n",
       "0         0         0         0         1      7                1   \n",
       "1         0         0         0         0      7                1   \n",
       "2         0         0         0         1      7                2   \n",
       "3         1         0         0         0      7                3   \n",
       "4         0         0         0         1      7                3   \n",
       "\n",
       "   Transportation Expense  Distance to Work  Age  Daily Work Load Average  \\\n",
       "0                     289                36   33                  239.554   \n",
       "1                     118                13   50                  239.554   \n",
       "2                     179                51   38                  239.554   \n",
       "3                     279                 5   39                  239.554   \n",
       "4                     289                36   33                  239.554   \n",
       "\n",
       "   Body Mass Index  Education  Children  Pets  Excessive_absenteeism  \n",
       "0               30          1         2     1                      1  \n",
       "1               31          1         1     0                      0  \n",
       "2               31          1         0     0                      0  \n",
       "3               24          1         2     0                      1  \n",
       "4               30          1         2     1                      0  "
      ]
     },
     "execution_count": 60,
     "metadata": {},
     "output_type": "execute_result"
    }
   ],
   "source": [
    "df.head()"
   ]
  },
  {
   "cell_type": "code",
   "execution_count": 61,
   "id": "01f431ee-d6fd-4612-96e5-be8ce8ff7129",
   "metadata": {
    "colab": {
     "base_uri": "https://localhost:8080/"
    },
    "executionInfo": {
     "elapsed": 46,
     "status": "ok",
     "timestamp": 1673407221678,
     "user": {
      "displayName": "Tushar Patil",
      "userId": "09849807803327805394"
     },
     "user_tz": -330
    },
    "id": "01f431ee-d6fd-4612-96e5-be8ce8ff7129",
    "outputId": "b29bdcf4-94a1-4afa-8f1e-7743f5772bd9"
   },
   "outputs": [
    {
     "data": {
      "text/plain": [
       "Index(['reason_1', 'reason_2', 'reason_3', 'reason_4', 'month',\n",
       "       'day of the week', 'Transportation Expense', 'Distance to Work', 'Age',\n",
       "       'Daily Work Load Average', 'Body Mass Index', 'Education', 'Children',\n",
       "       'Pets', 'Excessive_absenteeism'],\n",
       "      dtype='object')"
      ]
     },
     "execution_count": 61,
     "metadata": {},
     "output_type": "execute_result"
    }
   ],
   "source": [
    "df.columns"
   ]
  },
  {
   "cell_type": "markdown",
   "id": "86428c9c-6920-488c-9294-8461e3a9ccca",
   "metadata": {
    "id": "86428c9c-6920-488c-9294-8461e3a9ccca"
   },
   "source": [
    "### Standardization "
   ]
  },
  {
   "cell_type": "code",
   "execution_count": 62,
   "id": "cf74e6eb-f32b-4e4e-a151-eb3a1db88563",
   "metadata": {
    "executionInfo": {
     "elapsed": 41,
     "status": "ok",
     "timestamp": 1673407221678,
     "user": {
      "displayName": "Tushar Patil",
      "userId": "09849807803327805394"
     },
     "user_tz": -330
    },
    "id": "cf74e6eb-f32b-4e4e-a151-eb3a1db88563"
   },
   "outputs": [],
   "source": [
    "from sklearn.preprocessing import StandardScaler\n",
    "scaler = StandardScaler()\n",
    "scaled = scaler.fit_transform(x)"
   ]
  },
  {
   "cell_type": "markdown",
   "id": "ad67f06f-9273-43f4-be9f-35d7994a5d25",
   "metadata": {
    "id": "ad67f06f-9273-43f4-be9f-35d7994a5d25"
   },
   "source": [
    "### Spliting data into train and test"
   ]
  },
  {
   "cell_type": "code",
   "execution_count": 63,
   "id": "b8bf1283-961b-4749-80da-846e3ebd3bba",
   "metadata": {
    "executionInfo": {
     "elapsed": 40,
     "status": "ok",
     "timestamp": 1673407221678,
     "user": {
      "displayName": "Tushar Patil",
      "userId": "09849807803327805394"
     },
     "user_tz": -330
    },
    "id": "b8bf1283-961b-4749-80da-846e3ebd3bba"
   },
   "outputs": [],
   "source": [
    "from sklearn.model_selection import train_test_split"
   ]
  },
  {
   "cell_type": "code",
   "execution_count": 64,
   "id": "WXrOAoP4WJ_u",
   "metadata": {
    "executionInfo": {
     "elapsed": 41,
     "status": "ok",
     "timestamp": 1673407221679,
     "user": {
      "displayName": "Tushar Patil",
      "userId": "09849807803327805394"
     },
     "user_tz": -330
    },
    "id": "WXrOAoP4WJ_u"
   },
   "outputs": [],
   "source": [
    "#from sklearn.model_selection import KFold\n",
    "#kfold = KFold(n_splits=5)"
   ]
  },
  {
   "cell_type": "code",
   "execution_count": 65,
   "id": "oA36BpFeWFrr",
   "metadata": {
    "executionInfo": {
     "elapsed": 41,
     "status": "ok",
     "timestamp": 1673407221679,
     "user": {
      "displayName": "Tushar Patil",
      "userId": "09849807803327805394"
     },
     "user_tz": -330
    },
    "id": "oA36BpFeWFrr"
   },
   "outputs": [],
   "source": [
    "#for train_index, test_index in kfold.split(x):\n",
    "    #X_train, X_test = x[train_index], x[test_index]\n",
    "    #y_train, y_test = y[train_index], y[test_index]"
   ]
  },
  {
   "cell_type": "code",
   "execution_count": 66,
   "id": "03e62cff-031f-4855-bc2a-ebd431f1056a",
   "metadata": {
    "executionInfo": {
     "elapsed": 41,
     "status": "ok",
     "timestamp": 1673407221679,
     "user": {
      "displayName": "Tushar Patil",
      "userId": "09849807803327805394"
     },
     "user_tz": -330
    },
    "id": "03e62cff-031f-4855-bc2a-ebd431f1056a"
   },
   "outputs": [],
   "source": [
    "X_train,X_test,y_train,y_test = train_test_split(scaled, y,test_size=0.20\n",
    "                                    ,random_state = 0,stratify = y)"
   ]
  },
  {
   "cell_type": "code",
   "execution_count": 67,
   "id": "hq_2JPJ6gLY_",
   "metadata": {
    "colab": {
     "base_uri": "https://localhost:8080/"
    },
    "executionInfo": {
     "elapsed": 41,
     "status": "ok",
     "timestamp": 1673407221680,
     "user": {
      "displayName": "Tushar Patil",
      "userId": "09849807803327805394"
     },
     "user_tz": -330
    },
    "id": "hq_2JPJ6gLY_",
    "outputId": "bc99f7ff-9003-4728-d821-15c14bcf808b"
   },
   "outputs": [
    {
     "data": {
      "text/plain": [
       "0    305\n",
       "1    255\n",
       "Name: Excessive_absenteeism, dtype: int64"
      ]
     },
     "execution_count": 67,
     "metadata": {},
     "output_type": "execute_result"
    }
   ],
   "source": [
    "y_train.value_counts()"
   ]
  },
  {
   "cell_type": "code",
   "execution_count": 68,
   "id": "31cdfdb7-b1ef-4e51-ab8f-ef5dbeef85c8",
   "metadata": {
    "colab": {
     "base_uri": "https://localhost:8080/"
    },
    "executionInfo": {
     "elapsed": 38,
     "status": "ok",
     "timestamp": 1673407221680,
     "user": {
      "displayName": "Tushar Patil",
      "userId": "09849807803327805394"
     },
     "user_tz": -330
    },
    "id": "31cdfdb7-b1ef-4e51-ab8f-ef5dbeef85c8",
    "outputId": "edb0ff25-7540-4088-9d66-687f89f82784"
   },
   "outputs": [
    {
     "data": {
      "text/plain": [
       "((560, 14), (140, 14))"
      ]
     },
     "execution_count": 68,
     "metadata": {},
     "output_type": "execute_result"
    }
   ],
   "source": [
    "X_train.shape,X_test.shape"
   ]
  },
  {
   "cell_type": "code",
   "execution_count": 69,
   "id": "teuDZ5NsgkEV",
   "metadata": {
    "colab": {
     "base_uri": "https://localhost:8080/"
    },
    "executionInfo": {
     "elapsed": 35,
     "status": "ok",
     "timestamp": 1673407221680,
     "user": {
      "displayName": "Tushar Patil",
      "userId": "09849807803327805394"
     },
     "user_tz": -330
    },
    "id": "teuDZ5NsgkEV",
    "outputId": "7e3a9c27-25ac-4e97-cdbb-925b1d5ee5fe"
   },
   "outputs": [
    {
     "data": {
      "text/plain": [
       "0    76\n",
       "1    64\n",
       "Name: Excessive_absenteeism, dtype: int64"
      ]
     },
     "execution_count": 69,
     "metadata": {},
     "output_type": "execute_result"
    }
   ],
   "source": [
    "y_test.value_counts()"
   ]
  },
  {
   "cell_type": "code",
   "execution_count": 70,
   "id": "791f54f3-19d3-497e-bad9-3bdd2f756a55",
   "metadata": {
    "colab": {
     "base_uri": "https://localhost:8080/"
    },
    "executionInfo": {
     "elapsed": 33,
     "status": "ok",
     "timestamp": 1673407221681,
     "user": {
      "displayName": "Tushar Patil",
      "userId": "09849807803327805394"
     },
     "user_tz": -330
    },
    "id": "791f54f3-19d3-497e-bad9-3bdd2f756a55",
    "outputId": "112784b1-425d-4c34-f9ed-1919fef2c818"
   },
   "outputs": [
    {
     "data": {
      "text/plain": [
       "((560,), (140,))"
      ]
     },
     "execution_count": 70,
     "metadata": {},
     "output_type": "execute_result"
    }
   ],
   "source": [
    "y_train.shape,y_test.shape"
   ]
  },
  {
   "cell_type": "markdown",
   "id": "821a034e-bca8-4cb2-bffd-c7ed388e5ee4",
   "metadata": {
    "id": "821a034e-bca8-4cb2-bffd-c7ed388e5ee4"
   },
   "source": [
    "### Logistic Regression "
   ]
  },
  {
   "cell_type": "code",
   "execution_count": 71,
   "id": "12c10453-acd9-4412-8fa3-a8d4cb2c202a",
   "metadata": {
    "executionInfo": {
     "elapsed": 30,
     "status": "ok",
     "timestamp": 1673407221681,
     "user": {
      "displayName": "Tushar Patil",
      "userId": "09849807803327805394"
     },
     "user_tz": -330
    },
    "id": "12c10453-acd9-4412-8fa3-a8d4cb2c202a"
   },
   "outputs": [],
   "source": [
    "from sklearn.linear_model import LogisticRegression"
   ]
  },
  {
   "cell_type": "code",
   "execution_count": 72,
   "id": "af87d11e-394f-42a0-8213-e1bf9c791e9a",
   "metadata": {
    "executionInfo": {
     "elapsed": 29,
     "status": "ok",
     "timestamp": 1673407221681,
     "user": {
      "displayName": "Tushar Patil",
      "userId": "09849807803327805394"
     },
     "user_tz": -330
    },
    "id": "af87d11e-394f-42a0-8213-e1bf9c791e9a"
   },
   "outputs": [],
   "source": [
    "lr = LogisticRegression(random_state = 0)"
   ]
  },
  {
   "cell_type": "code",
   "execution_count": 73,
   "id": "af223eae-9bff-4ee6-99c3-bfee7763bbec",
   "metadata": {
    "colab": {
     "base_uri": "https://localhost:8080/"
    },
    "executionInfo": {
     "elapsed": 29,
     "status": "ok",
     "timestamp": 1673407221681,
     "user": {
      "displayName": "Tushar Patil",
      "userId": "09849807803327805394"
     },
     "user_tz": -330
    },
    "id": "af223eae-9bff-4ee6-99c3-bfee7763bbec",
    "outputId": "6cc29fac-b520-4513-9065-e7847d62d2d9"
   },
   "outputs": [
    {
     "data": {
      "text/plain": [
       "LogisticRegression(random_state=0)"
      ]
     },
     "execution_count": 73,
     "metadata": {},
     "output_type": "execute_result"
    }
   ],
   "source": [
    "lr.fit(X_train,y_train)"
   ]
  },
  {
   "cell_type": "code",
   "execution_count": 74,
   "id": "d547a714-ea5a-42e8-92b7-ab86628f82a3",
   "metadata": {
    "colab": {
     "base_uri": "https://localhost:8080/"
    },
    "executionInfo": {
     "elapsed": 28,
     "status": "ok",
     "timestamp": 1673407221682,
     "user": {
      "displayName": "Tushar Patil",
      "userId": "09849807803327805394"
     },
     "user_tz": -330
    },
    "id": "d547a714-ea5a-42e8-92b7-ab86628f82a3",
    "outputId": "66d7144a-d603-4970-d497-108232c7db21"
   },
   "outputs": [
    {
     "data": {
      "text/plain": [
       "0.7714285714285715"
      ]
     },
     "execution_count": 74,
     "metadata": {},
     "output_type": "execute_result"
    }
   ],
   "source": [
    "lr.score(X_train,y_train)"
   ]
  },
  {
   "cell_type": "code",
   "execution_count": 75,
   "id": "b3b7f44c-ceb1-4bfb-89f7-150435a611f2",
   "metadata": {
    "colab": {
     "base_uri": "https://localhost:8080/"
    },
    "executionInfo": {
     "elapsed": 25,
     "status": "ok",
     "timestamp": 1673407221682,
     "user": {
      "displayName": "Tushar Patil",
      "userId": "09849807803327805394"
     },
     "user_tz": -330
    },
    "id": "b3b7f44c-ceb1-4bfb-89f7-150435a611f2",
    "outputId": "c80ffb2a-97f2-4d81-8e93-ad5df9cea322"
   },
   "outputs": [
    {
     "data": {
      "text/plain": [
       "0.7785714285714286"
      ]
     },
     "execution_count": 75,
     "metadata": {},
     "output_type": "execute_result"
    }
   ],
   "source": [
    "lr.score(X_test,y_test)"
   ]
  },
  {
   "cell_type": "code",
   "execution_count": 76,
   "id": "6f6d1249-9841-46aa-8deb-91f5611d6879",
   "metadata": {
    "executionInfo": {
     "elapsed": 22,
     "status": "ok",
     "timestamp": 1673407221682,
     "user": {
      "displayName": "Tushar Patil",
      "userId": "09849807803327805394"
     },
     "user_tz": -330
    },
    "id": "6f6d1249-9841-46aa-8deb-91f5611d6879"
   },
   "outputs": [],
   "source": [
    "predict = lr.predict(X_test)"
   ]
  },
  {
   "cell_type": "code",
   "execution_count": 77,
   "id": "4c234c72-0f2e-479f-aef5-d189a08c9d57",
   "metadata": {
    "colab": {
     "base_uri": "https://localhost:8080/"
    },
    "executionInfo": {
     "elapsed": 22,
     "status": "ok",
     "timestamp": 1673407221683,
     "user": {
      "displayName": "Tushar Patil",
      "userId": "09849807803327805394"
     },
     "user_tz": -330
    },
    "id": "4c234c72-0f2e-479f-aef5-d189a08c9d57",
    "outputId": "9d83e066-1a80-4f13-9d78-28f375481d48"
   },
   "outputs": [
    {
     "data": {
      "text/plain": [
       "array([[62, 17],\n",
       "       [14, 47]])"
      ]
     },
     "execution_count": 77,
     "metadata": {},
     "output_type": "execute_result"
    }
   ],
   "source": [
    "# Build a confusion_metrics :-\n",
    "from sklearn.metrics import confusion_matrix\n",
    "# confusion_metrics :\n",
    "logg_conf = confusion_matrix(predict , y_test)\n",
    "logg_conf"
   ]
  },
  {
   "cell_type": "code",
   "execution_count": 78,
   "id": "86ce866f-8a68-409f-97ee-94562fcbd24f",
   "metadata": {
    "colab": {
     "base_uri": "https://localhost:8080/"
    },
    "executionInfo": {
     "elapsed": 20,
     "status": "ok",
     "timestamp": 1673407221683,
     "user": {
      "displayName": "Tushar Patil",
      "userId": "09849807803327805394"
     },
     "user_tz": -330
    },
    "id": "86ce866f-8a68-409f-97ee-94562fcbd24f",
    "outputId": "ffc6dc8c-417f-4047-9c25-382d48e2956a"
   },
   "outputs": [
    {
     "name": "stdout",
     "output_type": "stream",
     "text": [
      "              precision    recall  f1-score   support\n",
      "\n",
      "           0       0.82      0.78      0.80        79\n",
      "           1       0.73      0.77      0.75        61\n",
      "\n",
      "    accuracy                           0.78       140\n",
      "   macro avg       0.78      0.78      0.78       140\n",
      "weighted avg       0.78      0.78      0.78       140\n",
      "\n"
     ]
    }
   ],
   "source": [
    "# check for the accuracy and other parameters :\n",
    "from sklearn.metrics import classification_report\n",
    "print(classification_report(predict,y_test))"
   ]
  },
  {
   "cell_type": "markdown",
   "id": "14c41c82-018f-4854-9ca1-9971c937a32c",
   "metadata": {
    "id": "14c41c82-018f-4854-9ca1-9971c937a32c"
   },
   "source": [
    "### Decision Tree"
   ]
  },
  {
   "cell_type": "code",
   "execution_count": 79,
   "id": "fac19e81-5d48-4651-8b38-8b5e50f824c3",
   "metadata": {
    "executionInfo": {
     "elapsed": 17,
     "status": "ok",
     "timestamp": 1673407221683,
     "user": {
      "displayName": "Tushar Patil",
      "userId": "09849807803327805394"
     },
     "user_tz": -330
    },
    "id": "fac19e81-5d48-4651-8b38-8b5e50f824c3"
   },
   "outputs": [],
   "source": [
    "from sklearn.tree import DecisionTreeClassifier"
   ]
  },
  {
   "cell_type": "code",
   "execution_count": 80,
   "id": "9cce4ecf-f1ad-4f82-8999-93ac22dd07ca",
   "metadata": {
    "executionInfo": {
     "elapsed": 18,
     "status": "ok",
     "timestamp": 1673407221684,
     "user": {
      "displayName": "Tushar Patil",
      "userId": "09849807803327805394"
     },
     "user_tz": -330
    },
    "id": "9cce4ecf-f1ad-4f82-8999-93ac22dd07ca"
   },
   "outputs": [],
   "source": [
    "dtc = DecisionTreeClassifier(random_state=0)"
   ]
  },
  {
   "cell_type": "code",
   "execution_count": 81,
   "id": "15ff4445-e4a0-4685-8ab7-041c216ced7d",
   "metadata": {
    "colab": {
     "base_uri": "https://localhost:8080/"
    },
    "executionInfo": {
     "elapsed": 830,
     "status": "ok",
     "timestamp": 1673407222497,
     "user": {
      "displayName": "Tushar Patil",
      "userId": "09849807803327805394"
     },
     "user_tz": -330
    },
    "id": "15ff4445-e4a0-4685-8ab7-041c216ced7d",
    "outputId": "696bb934-d6a4-4a79-8443-b34c2cf31104"
   },
   "outputs": [
    {
     "data": {
      "text/plain": [
       "DecisionTreeClassifier(random_state=0)"
      ]
     },
     "execution_count": 81,
     "metadata": {},
     "output_type": "execute_result"
    }
   ],
   "source": [
    "dtc.fit(X_train,y_train)"
   ]
  },
  {
   "cell_type": "code",
   "execution_count": 82,
   "id": "29e0da4f-8a04-48c5-9375-134f21e5a5b7",
   "metadata": {
    "colab": {
     "base_uri": "https://localhost:8080/"
    },
    "executionInfo": {
     "elapsed": 76,
     "status": "ok",
     "timestamp": 1673407222497,
     "user": {
      "displayName": "Tushar Patil",
      "userId": "09849807803327805394"
     },
     "user_tz": -330
    },
    "id": "29e0da4f-8a04-48c5-9375-134f21e5a5b7",
    "outputId": "df7596ad-30cc-4d44-f885-93f3fa5d062c"
   },
   "outputs": [
    {
     "name": "stdout",
     "output_type": "stream",
     "text": [
      "train_accuracy :  0.9821428571428571\n",
      "test_accuracy :  0.7\n"
     ]
    }
   ],
   "source": [
    "from sklearn.metrics import accuracy_score\n",
    "y_pred_train = dtc.predict(X_train)\n",
    "train_accuracy = accuracy_score(y_train,y_pred_train)\n",
    "print('train_accuracy : ',train_accuracy)\n",
    "y_pred=dtc.predict(X_test)\n",
    "test_accuracy = accuracy_score(y_test,y_pred)\n",
    "print('test_accuracy : ',test_accuracy)"
   ]
  },
  {
   "cell_type": "code",
   "execution_count": 83,
   "id": "6bacafbe-67d6-46e0-bc78-5be96ff249b0",
   "metadata": {
    "executionInfo": {
     "elapsed": 74,
     "status": "ok",
     "timestamp": 1673407222498,
     "user": {
      "displayName": "Tushar Patil",
      "userId": "09849807803327805394"
     },
     "user_tz": -330
    },
    "id": "6bacafbe-67d6-46e0-bc78-5be96ff249b0"
   },
   "outputs": [],
   "source": [
    "from sklearn.metrics import classification_report"
   ]
  },
  {
   "cell_type": "code",
   "execution_count": 83,
   "id": "BAfrvgMt3d03",
   "metadata": {
    "executionInfo": {
     "elapsed": 74,
     "status": "ok",
     "timestamp": 1673407222498,
     "user": {
      "displayName": "Tushar Patil",
      "userId": "09849807803327805394"
     },
     "user_tz": -330
    },
    "id": "BAfrvgMt3d03"
   },
   "outputs": [],
   "source": []
  },
  {
   "cell_type": "code",
   "execution_count": 84,
   "id": "439a90e2-0efa-424b-a3ec-c52a650505b7",
   "metadata": {
    "colab": {
     "base_uri": "https://localhost:8080/"
    },
    "executionInfo": {
     "elapsed": 73,
     "status": "ok",
     "timestamp": 1673407222498,
     "user": {
      "displayName": "Tushar Patil",
      "userId": "09849807803327805394"
     },
     "user_tz": -330
    },
    "id": "439a90e2-0efa-424b-a3ec-c52a650505b7",
    "outputId": "5051b846-4111-4ab5-d8c3-b44c9b650dba"
   },
   "outputs": [
    {
     "name": "stdout",
     "output_type": "stream",
     "text": [
      "              precision    recall  f1-score   support\n",
      "\n",
      "           0       0.71      0.76      0.73        76\n",
      "           1       0.69      0.62      0.66        64\n",
      "\n",
      "    accuracy                           0.70       140\n",
      "   macro avg       0.70      0.69      0.69       140\n",
      "weighted avg       0.70      0.70      0.70       140\n",
      "\n"
     ]
    }
   ],
   "source": [
    "print(classification_report(y_test,y_pred))"
   ]
  },
  {
   "cell_type": "code",
   "execution_count": 84,
   "id": "27d2c3f7-b7f8-4072-8635-d029a17b2aeb",
   "metadata": {
    "executionInfo": {
     "elapsed": 70,
     "status": "ok",
     "timestamp": 1673407222498,
     "user": {
      "displayName": "Tushar Patil",
      "userId": "09849807803327805394"
     },
     "user_tz": -330
    },
    "id": "27d2c3f7-b7f8-4072-8635-d029a17b2aeb"
   },
   "outputs": [],
   "source": []
  },
  {
   "cell_type": "markdown",
   "id": "68e5b416-6640-4970-ab07-2b590ab7f4ac",
   "metadata": {
    "id": "68e5b416-6640-4970-ab07-2b590ab7f4ac"
   },
   "source": [
    "### Random forest"
   ]
  },
  {
   "cell_type": "code",
   "execution_count": 85,
   "id": "7b9e29d5-7186-4876-bad3-d08f7273a025",
   "metadata": {
    "executionInfo": {
     "elapsed": 71,
     "status": "ok",
     "timestamp": 1673407222499,
     "user": {
      "displayName": "Tushar Patil",
      "userId": "09849807803327805394"
     },
     "user_tz": -330
    },
    "id": "7b9e29d5-7186-4876-bad3-d08f7273a025"
   },
   "outputs": [],
   "source": [
    "from sklearn.ensemble import RandomForestClassifier"
   ]
  },
  {
   "cell_type": "code",
   "execution_count": 86,
   "id": "03f0cccf-fe9b-406e-83d4-eaa83e1aac6b",
   "metadata": {
    "executionInfo": {
     "elapsed": 71,
     "status": "ok",
     "timestamp": 1673407222499,
     "user": {
      "displayName": "Tushar Patil",
      "userId": "09849807803327805394"
     },
     "user_tz": -330
    },
    "id": "03f0cccf-fe9b-406e-83d4-eaa83e1aac6b"
   },
   "outputs": [],
   "source": [
    "rfc = RandomForestClassifier()"
   ]
  },
  {
   "cell_type": "code",
   "execution_count": 87,
   "id": "aa6617ae-c4a2-4517-a5c5-5531d95fa687",
   "metadata": {
    "colab": {
     "base_uri": "https://localhost:8080/"
    },
    "executionInfo": {
     "elapsed": 72,
     "status": "ok",
     "timestamp": 1673407222500,
     "user": {
      "displayName": "Tushar Patil",
      "userId": "09849807803327805394"
     },
     "user_tz": -330
    },
    "id": "aa6617ae-c4a2-4517-a5c5-5531d95fa687",
    "outputId": "25bb6902-7bac-43bc-ff6b-2c184ba81c72"
   },
   "outputs": [
    {
     "data": {
      "text/plain": [
       "RandomForestClassifier()"
      ]
     },
     "execution_count": 87,
     "metadata": {},
     "output_type": "execute_result"
    }
   ],
   "source": [
    "rfc.fit(X_train,y_train)"
   ]
  },
  {
   "cell_type": "code",
   "execution_count": 88,
   "id": "3281904f-0a7d-474f-83d7-3d789cc04d38",
   "metadata": {
    "colab": {
     "base_uri": "https://localhost:8080/"
    },
    "executionInfo": {
     "elapsed": 69,
     "status": "ok",
     "timestamp": 1673407222500,
     "user": {
      "displayName": "Tushar Patil",
      "userId": "09849807803327805394"
     },
     "user_tz": -330
    },
    "id": "3281904f-0a7d-474f-83d7-3d789cc04d38",
    "outputId": "4cf27e15-559a-4f05-aa5a-24267c6570e9"
   },
   "outputs": [
    {
     "data": {
      "text/plain": [
       "0.9821428571428571"
      ]
     },
     "execution_count": 88,
     "metadata": {},
     "output_type": "execute_result"
    }
   ],
   "source": [
    "rfc.score(X_train,y_train)"
   ]
  },
  {
   "cell_type": "code",
   "execution_count": 89,
   "id": "ddd96c28-b53f-478f-9b18-db21a252f0cc",
   "metadata": {
    "colab": {
     "base_uri": "https://localhost:8080/"
    },
    "executionInfo": {
     "elapsed": 66,
     "status": "ok",
     "timestamp": 1673407222500,
     "user": {
      "displayName": "Tushar Patil",
      "userId": "09849807803327805394"
     },
     "user_tz": -330
    },
    "id": "ddd96c28-b53f-478f-9b18-db21a252f0cc",
    "outputId": "0a38f53c-9e29-46d1-b737-d0f77713c809"
   },
   "outputs": [
    {
     "data": {
      "text/plain": [
       "0.7571428571428571"
      ]
     },
     "execution_count": 89,
     "metadata": {},
     "output_type": "execute_result"
    }
   ],
   "source": [
    "rfc.score(X_test,y_test)"
   ]
  },
  {
   "cell_type": "code",
   "execution_count": 90,
   "id": "d962bb39-8cf0-4847-aaa4-ad5429aaea58",
   "metadata": {
    "colab": {
     "base_uri": "https://localhost:8080/"
    },
    "executionInfo": {
     "elapsed": 63,
     "status": "ok",
     "timestamp": 1673407222500,
     "user": {
      "displayName": "Tushar Patil",
      "userId": "09849807803327805394"
     },
     "user_tz": -330
    },
    "id": "d962bb39-8cf0-4847-aaa4-ad5429aaea58",
    "outputId": "56daf27e-f88a-4aea-cc79-86087b0ffa34"
   },
   "outputs": [
    {
     "name": "stdout",
     "output_type": "stream",
     "text": [
      "train_accuracy :  0.9821428571428571\n",
      "test_accuracy :  0.7571428571428571\n"
     ]
    }
   ],
   "source": [
    "from sklearn.metrics import accuracy_score\n",
    "y_pred_train = rfc.predict(X_train)\n",
    "train_accuracy = accuracy_score(y_train,y_pred_train)\n",
    "print('train_accuracy : ',train_accuracy)\n",
    "y_pred=rfc.predict(X_test)\n",
    "test_accuracy = accuracy_score(y_test,y_pred)\n",
    "print('test_accuracy : ',test_accuracy)"
   ]
  },
  {
   "cell_type": "markdown",
   "id": "f41a1b5e-5339-4dd4-8f92-c0861eadc4a0",
   "metadata": {
    "id": "f41a1b5e-5339-4dd4-8f92-c0861eadc4a0"
   },
   "source": [
    "### K-Nearest Neighbours"
   ]
  },
  {
   "cell_type": "code",
   "execution_count": 91,
   "id": "9f1f642b-eeb9-4b3c-a978-032131ebdc18",
   "metadata": {
    "executionInfo": {
     "elapsed": 61,
     "status": "ok",
     "timestamp": 1673407222501,
     "user": {
      "displayName": "Tushar Patil",
      "userId": "09849807803327805394"
     },
     "user_tz": -330
    },
    "id": "9f1f642b-eeb9-4b3c-a978-032131ebdc18"
   },
   "outputs": [],
   "source": [
    "from sklearn.neighbors import KNeighborsClassifier"
   ]
  },
  {
   "cell_type": "code",
   "execution_count": 92,
   "id": "699bbb06-4f5d-498d-8f6c-e19678541163",
   "metadata": {
    "executionInfo": {
     "elapsed": 61,
     "status": "ok",
     "timestamp": 1673407222501,
     "user": {
      "displayName": "Tushar Patil",
      "userId": "09849807803327805394"
     },
     "user_tz": -330
    },
    "id": "699bbb06-4f5d-498d-8f6c-e19678541163"
   },
   "outputs": [],
   "source": [
    "k_N_N =  KNeighborsClassifier()"
   ]
  },
  {
   "cell_type": "code",
   "execution_count": 93,
   "id": "0f66e9ba-2927-466d-8c89-690040cc1a1a",
   "metadata": {
    "colab": {
     "base_uri": "https://localhost:8080/"
    },
    "executionInfo": {
     "elapsed": 61,
     "status": "ok",
     "timestamp": 1673407222501,
     "user": {
      "displayName": "Tushar Patil",
      "userId": "09849807803327805394"
     },
     "user_tz": -330
    },
    "id": "0f66e9ba-2927-466d-8c89-690040cc1a1a",
    "outputId": "ef680f30-e9e3-47f9-b436-876feef39a4a"
   },
   "outputs": [
    {
     "data": {
      "text/plain": [
       "KNeighborsClassifier()"
      ]
     },
     "execution_count": 93,
     "metadata": {},
     "output_type": "execute_result"
    }
   ],
   "source": [
    "k_N_N.fit(X_train,y_train)"
   ]
  },
  {
   "cell_type": "code",
   "execution_count": 94,
   "id": "71007565-8778-4e3a-91da-3410203ed53d",
   "metadata": {
    "colab": {
     "base_uri": "https://localhost:8080/"
    },
    "executionInfo": {
     "elapsed": 59,
     "status": "ok",
     "timestamp": 1673407222502,
     "user": {
      "displayName": "Tushar Patil",
      "userId": "09849807803327805394"
     },
     "user_tz": -330
    },
    "id": "71007565-8778-4e3a-91da-3410203ed53d",
    "outputId": "b8f90a96-9127-421c-a0fe-8ae1dde24717"
   },
   "outputs": [
    {
     "data": {
      "text/plain": [
       "0.7785714285714286"
      ]
     },
     "execution_count": 94,
     "metadata": {},
     "output_type": "execute_result"
    }
   ],
   "source": [
    "k_N_N.score(X_test,y_test)"
   ]
  },
  {
   "cell_type": "code",
   "execution_count": 95,
   "id": "3fc70e01-77c4-4ab4-b7b7-3c563afc99e9",
   "metadata": {
    "colab": {
     "base_uri": "https://localhost:8080/"
    },
    "executionInfo": {
     "elapsed": 56,
     "status": "ok",
     "timestamp": 1673407222502,
     "user": {
      "displayName": "Tushar Patil",
      "userId": "09849807803327805394"
     },
     "user_tz": -330
    },
    "id": "3fc70e01-77c4-4ab4-b7b7-3c563afc99e9",
    "outputId": "899f6623-b818-47ed-b27c-903a6dbfa223"
   },
   "outputs": [
    {
     "data": {
      "text/plain": [
       "0.7946428571428571"
      ]
     },
     "execution_count": 95,
     "metadata": {},
     "output_type": "execute_result"
    }
   ],
   "source": [
    "k_N_N.score(X_train,y_train)"
   ]
  },
  {
   "cell_type": "code",
   "execution_count": 96,
   "id": "85240e2a-feba-4e86-97d9-15c1fdb4bebb",
   "metadata": {
    "colab": {
     "base_uri": "https://localhost:8080/"
    },
    "executionInfo": {
     "elapsed": 53,
     "status": "ok",
     "timestamp": 1673407222502,
     "user": {
      "displayName": "Tushar Patil",
      "userId": "09849807803327805394"
     },
     "user_tz": -330
    },
    "id": "85240e2a-feba-4e86-97d9-15c1fdb4bebb",
    "outputId": "0ba5ba17-b70b-4730-fb69-3224752ed7c0"
   },
   "outputs": [
    {
     "name": "stdout",
     "output_type": "stream",
     "text": [
      "train_accuracy :  0.7946428571428571\n",
      "test_accuracy :  0.7785714285714286\n"
     ]
    }
   ],
   "source": [
    "from sklearn.metrics import accuracy_score\n",
    "y_pred_train = k_N_N.predict(X_train)\n",
    "train_accuracy = accuracy_score(y_train,y_pred_train)\n",
    "print('train_accuracy : ',train_accuracy)\n",
    "y_pred=k_N_N.predict(X_test)\n",
    "test_accuracy = accuracy_score(y_test,y_pred)\n",
    "print('test_accuracy : ',test_accuracy)"
   ]
  },
  {
   "cell_type": "code",
   "execution_count": 97,
   "id": "9ec86832-e394-43dd-ba83-5cf758c5a5a8",
   "metadata": {
    "colab": {
     "base_uri": "https://localhost:8080/"
    },
    "executionInfo": {
     "elapsed": 51,
     "status": "ok",
     "timestamp": 1673407222502,
     "user": {
      "displayName": "Tushar Patil",
      "userId": "09849807803327805394"
     },
     "user_tz": -330
    },
    "id": "9ec86832-e394-43dd-ba83-5cf758c5a5a8",
    "outputId": "e0df5f46-10d2-4606-ff2d-195a123393ff"
   },
   "outputs": [
    {
     "data": {
      "text/plain": [
       "['cityblock',\n",
       " 'cosine',\n",
       " 'euclidean',\n",
       " 'haversine',\n",
       " 'l2',\n",
       " 'l1',\n",
       " 'manhattan',\n",
       " 'precomputed',\n",
       " 'nan_euclidean',\n",
       " 'braycurtis',\n",
       " 'canberra',\n",
       " 'chebyshev',\n",
       " 'correlation',\n",
       " 'cosine',\n",
       " 'dice',\n",
       " 'hamming',\n",
       " 'jaccard',\n",
       " 'kulsinski',\n",
       " 'mahalanobis',\n",
       " 'matching',\n",
       " 'minkowski',\n",
       " 'rogerstanimoto',\n",
       " 'russellrao',\n",
       " 'seuclidean',\n",
       " 'sokalmichener',\n",
       " 'sokalsneath',\n",
       " 'sqeuclidean',\n",
       " 'yule',\n",
       " 'wminkowski']"
      ]
     },
     "execution_count": 97,
     "metadata": {},
     "output_type": "execute_result"
    }
   ],
   "source": [
    "import sklearn\n",
    "sklearn.neighbors.VALID_METRICS['brute']"
   ]
  },
  {
   "cell_type": "markdown",
   "id": "e5aa7bb8-2070-49f2-9d16-d29f7a61336d",
   "metadata": {
    "id": "e5aa7bb8-2070-49f2-9d16-d29f7a61336d"
   },
   "source": [
    "### Support Vector Machine"
   ]
  },
  {
   "cell_type": "code",
   "execution_count": 98,
   "id": "914de74c-d060-4183-8609-2a6513ead0a8",
   "metadata": {
    "colab": {
     "base_uri": "https://localhost:8080/"
    },
    "executionInfo": {
     "elapsed": 49,
     "status": "ok",
     "timestamp": 1673407222503,
     "user": {
      "displayName": "Tushar Patil",
      "userId": "09849807803327805394"
     },
     "user_tz": -330
    },
    "id": "914de74c-d060-4183-8609-2a6513ead0a8",
    "outputId": "d0250634-d1d0-4c72-a9b3-190ab00e7b3a"
   },
   "outputs": [
    {
     "name": "stdout",
     "output_type": "stream",
     "text": [
      "training accuracy :  0.7928571428571428\n",
      "testing accuracy :  0.8\n"
     ]
    }
   ],
   "source": [
    "from sklearn import svm\n",
    "model = svm.SVC()\n",
    "model.fit(X_train,y_train)\n",
    "y_train_pred = model.predict(X_train)\n",
    "y_test_pred = model.predict(X_test)\n",
    "\n",
    "training_accuracy = model.score(X_train,y_train)\n",
    "print('training accuracy : ',training_accuracy)\n",
    "testing_accuracy = model.score(X_test,y_test)\n",
    "print('testing accuracy : ',testing_accuracy)"
   ]
  },
  {
   "cell_type": "markdown",
   "id": "0410048d-e2bd-460c-a34c-4c7fcf7455ff",
   "metadata": {
    "id": "0410048d-e2bd-460c-a34c-4c7fcf7455ff"
   },
   "source": [
    "### Gradient Boosting"
   ]
  },
  {
   "cell_type": "code",
   "execution_count": 99,
   "id": "25e7e8b8-ef8a-4638-850f-aa94e758265e",
   "metadata": {
    "executionInfo": {
     "elapsed": 46,
     "status": "ok",
     "timestamp": 1673407222503,
     "user": {
      "displayName": "Tushar Patil",
      "userId": "09849807803327805394"
     },
     "user_tz": -330
    },
    "id": "25e7e8b8-ef8a-4638-850f-aa94e758265e"
   },
   "outputs": [],
   "source": [
    "from sklearn.ensemble import GradientBoostingClassifier"
   ]
  },
  {
   "cell_type": "code",
   "execution_count": 100,
   "id": "2da63a1a-1846-473a-a20f-442173e26af3",
   "metadata": {
    "executionInfo": {
     "elapsed": 45,
     "status": "ok",
     "timestamp": 1673407222503,
     "user": {
      "displayName": "Tushar Patil",
      "userId": "09849807803327805394"
     },
     "user_tz": -330
    },
    "id": "2da63a1a-1846-473a-a20f-442173e26af3"
   },
   "outputs": [],
   "source": [
    "gbrt = GradientBoostingClassifier(random_state=0)"
   ]
  },
  {
   "cell_type": "code",
   "execution_count": 101,
   "id": "35cff284-6f84-4acb-814d-d3a9f2f296de",
   "metadata": {
    "colab": {
     "base_uri": "https://localhost:8080/"
    },
    "executionInfo": {
     "elapsed": 46,
     "status": "ok",
     "timestamp": 1673407222504,
     "user": {
      "displayName": "Tushar Patil",
      "userId": "09849807803327805394"
     },
     "user_tz": -330
    },
    "id": "35cff284-6f84-4acb-814d-d3a9f2f296de",
    "outputId": "34072487-e41c-4b86-8bd0-44c50ea20bfe"
   },
   "outputs": [
    {
     "data": {
      "text/plain": [
       "GradientBoostingClassifier(random_state=0)"
      ]
     },
     "execution_count": 101,
     "metadata": {},
     "output_type": "execute_result"
    }
   ],
   "source": [
    "gbrt.fit(X_train,y_train)"
   ]
  },
  {
   "cell_type": "code",
   "execution_count": 102,
   "id": "44eba342-cfa0-46db-bb94-1225b75e2b0d",
   "metadata": {
    "colab": {
     "base_uri": "https://localhost:8080/"
    },
    "executionInfo": {
     "elapsed": 47,
     "status": "ok",
     "timestamp": 1673407222508,
     "user": {
      "displayName": "Tushar Patil",
      "userId": "09849807803327805394"
     },
     "user_tz": -330
    },
    "id": "44eba342-cfa0-46db-bb94-1225b75e2b0d",
    "outputId": "2b62aba6-941b-4999-efad-a3bc88daba07"
   },
   "outputs": [
    {
     "data": {
      "text/plain": [
       "0.8571428571428571"
      ]
     },
     "execution_count": 102,
     "metadata": {},
     "output_type": "execute_result"
    }
   ],
   "source": [
    "gbrt.score(X_train,y_train)"
   ]
  },
  {
   "cell_type": "code",
   "execution_count": 103,
   "id": "1cc5a211-05f0-4e33-ac88-0314afa07a51",
   "metadata": {
    "colab": {
     "base_uri": "https://localhost:8080/"
    },
    "executionInfo": {
     "elapsed": 44,
     "status": "ok",
     "timestamp": 1673407222508,
     "user": {
      "displayName": "Tushar Patil",
      "userId": "09849807803327805394"
     },
     "user_tz": -330
    },
    "id": "1cc5a211-05f0-4e33-ac88-0314afa07a51",
    "outputId": "2f35e4bf-8028-445e-d582-d3354352e05c"
   },
   "outputs": [
    {
     "data": {
      "text/plain": [
       "0.8"
      ]
     },
     "execution_count": 103,
     "metadata": {},
     "output_type": "execute_result"
    }
   ],
   "source": [
    "gbrt.score(X_test,y_test)"
   ]
  },
  {
   "cell_type": "code",
   "execution_count": 104,
   "id": "be27a4b9-328b-4a86-9ce9-0a6ca3148840",
   "metadata": {
    "colab": {
     "base_uri": "https://localhost:8080/"
    },
    "executionInfo": {
     "elapsed": 42,
     "status": "ok",
     "timestamp": 1673407222508,
     "user": {
      "displayName": "Tushar Patil",
      "userId": "09849807803327805394"
     },
     "user_tz": -330
    },
    "id": "be27a4b9-328b-4a86-9ce9-0a6ca3148840",
    "outputId": "c0d7cba3-2a61-44cf-efca-f756860fdee5"
   },
   "outputs": [
    {
     "data": {
      "text/plain": [
       "array([0.10264684, 0.66577951, 0.96685929, 0.82655214, 0.20764676,\n",
       "       0.07953017, 0.89307531, 0.72763207, 0.30523017, 0.27148068,\n",
       "       0.94334665, 0.2916696 , 0.1046127 , 0.11950007, 0.09294099,\n",
       "       0.49615046, 0.86646304, 0.11950007, 0.70865816, 0.0625122 ,\n",
       "       0.09074415, 0.71677575, 0.13345474, 0.15812669, 0.91355336,\n",
       "       0.09585065, 0.12017462, 0.90731685, 0.03563571, 0.5791724 ,\n",
       "       0.11124934, 0.1135419 , 0.53958054, 0.29149478, 0.52800927,\n",
       "       0.51153731, 0.79787005, 0.96083473, 0.8876096 , 0.69569755,\n",
       "       0.29593026, 0.85043961, 0.67254515, 0.1429097 , 0.66625589,\n",
       "       0.22057255, 0.52190945, 0.77662959, 0.08133064, 0.29155967,\n",
       "       0.31763243, 0.20758147, 0.47672064, 0.71933751, 0.07532021,\n",
       "       0.18759749, 0.55697846, 0.12781262, 0.98406976, 0.22830393,\n",
       "       0.11748422, 0.93440567, 0.67761244, 0.4278145 , 0.44129291,\n",
       "       0.92540924, 0.68923214, 0.13938754, 0.66554727, 0.97357729,\n",
       "       0.58252971, 0.48637015, 0.1735129 , 0.30312193, 0.80823171,\n",
       "       0.60484239, 0.37241215, 0.88388143, 0.28796915, 0.21873272,\n",
       "       0.55275095, 0.21211891, 0.09912681, 0.76319636, 0.11171016,\n",
       "       0.08939743, 0.33369417, 0.64611209, 0.41799285, 0.61597512,\n",
       "       0.5015554 , 0.98065395, 0.78732261, 0.09912681, 0.93983192,\n",
       "       0.20764676, 0.6359631 , 0.15812669, 0.77490331, 0.46155267,\n",
       "       0.48414442, 0.16189824, 0.57715514, 0.66918477, 0.80033509,\n",
       "       0.28957236, 0.56663324, 0.36387862, 0.12017462, 0.96271713,\n",
       "       0.61043569, 0.65130598, 0.1367253 , 0.83929117, 0.15067465,\n",
       "       0.12017462, 0.65098529, 0.09074415, 0.7433177 , 0.8269389 ,\n",
       "       0.95690684, 0.73490082, 0.7641122 , 0.13116185, 0.18403455,\n",
       "       0.30020999, 0.18403455, 0.43641575, 0.57850028, 0.16425236,\n",
       "       0.49101855, 0.15812669, 0.17822659, 0.89779269, 0.1735129 ,\n",
       "       0.85850825, 0.161845  , 0.44566428, 0.02768203, 0.4332744 ])"
      ]
     },
     "execution_count": 104,
     "metadata": {},
     "output_type": "execute_result"
    }
   ],
   "source": [
    "predicted_proba = gbrt.predict_proba(X_test)\n",
    "predicted_proba[:,1]"
   ]
  },
  {
   "cell_type": "markdown",
   "id": "ed6da29f-70b0-4ea0-9a35-90714c0af594",
   "metadata": {
    "id": "ed6da29f-70b0-4ea0-9a35-90714c0af594"
   },
   "source": [
    "### PCA"
   ]
  },
  {
   "cell_type": "code",
   "execution_count": 105,
   "id": "b9b908dd-4954-4243-9e63-70de3669e079",
   "metadata": {
    "colab": {
     "base_uri": "https://localhost:8080/"
    },
    "executionInfo": {
     "elapsed": 39,
     "status": "ok",
     "timestamp": 1673407222509,
     "user": {
      "displayName": "Tushar Patil",
      "userId": "09849807803327805394"
     },
     "user_tz": -330
    },
    "id": "b9b908dd-4954-4243-9e63-70de3669e079",
    "outputId": "1cd88496-0a39-45b1-d20f-1dbde397a9bc"
   },
   "outputs": [
    {
     "data": {
      "text/plain": [
       "(700, 11)"
      ]
     },
     "execution_count": 105,
     "metadata": {},
     "output_type": "execute_result"
    }
   ],
   "source": [
    "from sklearn.decomposition import PCA\n",
    "pca = PCA(0.99)\n",
    "X_pca = pca.fit_transform(scaled)\n",
    "X_pca.shape"
   ]
  },
  {
   "cell_type": "code",
   "execution_count": 106,
   "id": "f99fc8fc-7834-45dc-8b5e-0b3e15b56f1d",
   "metadata": {
    "executionInfo": {
     "elapsed": 36,
     "status": "ok",
     "timestamp": 1673407222509,
     "user": {
      "displayName": "Tushar Patil",
      "userId": "09849807803327805394"
     },
     "user_tz": -330
    },
    "id": "f99fc8fc-7834-45dc-8b5e-0b3e15b56f1d"
   },
   "outputs": [],
   "source": [
    "from sklearn.model_selection import train_test_split\n",
    "X_train_pca,X_test_pca,y_train,y_test = train_test_split(X_pca,y, test_size = 0.20, random_state = 0)"
   ]
  },
  {
   "cell_type": "code",
   "execution_count": 107,
   "id": "94861a0f-8d42-412c-a54f-9af90f89f007",
   "metadata": {
    "colab": {
     "base_uri": "https://localhost:8080/"
    },
    "executionInfo": {
     "elapsed": 36,
     "status": "ok",
     "timestamp": 1673407222509,
     "user": {
      "displayName": "Tushar Patil",
      "userId": "09849807803327805394"
     },
     "user_tz": -330
    },
    "id": "94861a0f-8d42-412c-a54f-9af90f89f007",
    "outputId": "a16db58f-1f9f-47d4-ba48-1d898c51c8ce"
   },
   "outputs": [
    {
     "data": {
      "text/plain": [
       "11"
      ]
     },
     "execution_count": 107,
     "metadata": {},
     "output_type": "execute_result"
    }
   ],
   "source": [
    "pca.n_components_"
   ]
  },
  {
   "cell_type": "code",
   "execution_count": 108,
   "id": "b13240dd-ab33-49df-b403-d1a075be8672",
   "metadata": {
    "colab": {
     "base_uri": "https://localhost:8080/"
    },
    "executionInfo": {
     "elapsed": 34,
     "status": "ok",
     "timestamp": 1673407222510,
     "user": {
      "displayName": "Tushar Patil",
      "userId": "09849807803327805394"
     },
     "user_tz": -330
    },
    "id": "b13240dd-ab33-49df-b403-d1a075be8672",
    "outputId": "6a4b7a4d-1c39-4937-c87e-e4671b1bad14"
   },
   "outputs": [
    {
     "data": {
      "text/plain": [
       "GradientBoostingClassifier(random_state=0)"
      ]
     },
     "execution_count": 108,
     "metadata": {},
     "output_type": "execute_result"
    }
   ],
   "source": [
    "gbrt.fit(X_train_pca,y_train)"
   ]
  },
  {
   "cell_type": "code",
   "execution_count": 109,
   "id": "d26d784b-de18-4d63-95c1-dc23fefff227",
   "metadata": {
    "colab": {
     "base_uri": "https://localhost:8080/"
    },
    "executionInfo": {
     "elapsed": 31,
     "status": "ok",
     "timestamp": 1673407222510,
     "user": {
      "displayName": "Tushar Patil",
      "userId": "09849807803327805394"
     },
     "user_tz": -330
    },
    "id": "d26d784b-de18-4d63-95c1-dc23fefff227",
    "outputId": "72baf448-0311-4c6c-9093-42a50a1b6c05"
   },
   "outputs": [
    {
     "data": {
      "text/plain": [
       "0.9160714285714285"
      ]
     },
     "execution_count": 109,
     "metadata": {},
     "output_type": "execute_result"
    }
   ],
   "source": [
    "gbrt.score(X_train_pca,y_train)"
   ]
  },
  {
   "cell_type": "code",
   "execution_count": 110,
   "id": "f7c0006f-1147-46f8-bd9b-5b861f7ee2f3",
   "metadata": {
    "colab": {
     "base_uri": "https://localhost:8080/"
    },
    "executionInfo": {
     "elapsed": 27,
     "status": "ok",
     "timestamp": 1673407222510,
     "user": {
      "displayName": "Tushar Patil",
      "userId": "09849807803327805394"
     },
     "user_tz": -330
    },
    "id": "f7c0006f-1147-46f8-bd9b-5b861f7ee2f3",
    "outputId": "3fd53e85-8f5d-4539-c541-1172373ae2d8"
   },
   "outputs": [
    {
     "data": {
      "text/plain": [
       "0.7428571428571429"
      ]
     },
     "execution_count": 110,
     "metadata": {},
     "output_type": "execute_result"
    }
   ],
   "source": [
    "gbrt.score(X_test_pca,y_test)"
   ]
  },
  {
   "cell_type": "markdown",
   "id": "f9934c56-1562-478b-8639-4e366fbec882",
   "metadata": {},
   "source": [
    "# Final Result"
   ]
  },
  {
   "cell_type": "code",
   "execution_count": 6,
   "id": "04c8a6a7-aaae-46a6-a0a5-3f75084abbeb",
   "metadata": {},
   "outputs": [],
   "source": [
    "result=pd.DataFrame()"
   ]
  },
  {
   "cell_type": "code",
   "execution_count": 8,
   "id": "3cb59080-0451-4b16-a398-ae9383056cf2",
   "metadata": {},
   "outputs": [],
   "source": [
    "result['Algorithm']=['Logistic_Regression','Decision_Tree_Classifier','Random_Forest_Classifier','Support_Vector_Machine','K_Nearest_Neighbour','Gradient_Boosting']"
   ]
  },
  {
   "cell_type": "code",
   "execution_count": 9,
   "id": "9191c7b1-9bb1-4945-b270-69aa02265bfc",
   "metadata": {},
   "outputs": [],
   "source": [
    "result['Training Accuracy']=[0.78036,0.81607,0.95357,0.77500,0.80571,0.86781]"
   ]
  },
  {
   "cell_type": "code",
   "execution_count": 10,
   "id": "d0110a47-f052-427a-a10c-79f61d051c93",
   "metadata": {},
   "outputs": [],
   "source": [
    "result['Testing Accuracy']=[0.77142,0.75714,0.77857,0.75714,0.78571,0.75714]"
   ]
  },
  {
   "cell_type": "code",
   "execution_count": 11,
   "id": "a28c97eb-368d-4b8f-bdd5-a4881deb98ab",
   "metadata": {},
   "outputs": [
    {
     "data": {
      "text/html": [
       "<div>\n",
       "<style scoped>\n",
       "    .dataframe tbody tr th:only-of-type {\n",
       "        vertical-align: middle;\n",
       "    }\n",
       "\n",
       "    .dataframe tbody tr th {\n",
       "        vertical-align: top;\n",
       "    }\n",
       "\n",
       "    .dataframe thead th {\n",
       "        text-align: right;\n",
       "    }\n",
       "</style>\n",
       "<table border=\"1\" class=\"dataframe\">\n",
       "  <thead>\n",
       "    <tr style=\"text-align: right;\">\n",
       "      <th></th>\n",
       "      <th>Algorithm</th>\n",
       "      <th>Training Accuracy</th>\n",
       "      <th>Testing Accuracy</th>\n",
       "    </tr>\n",
       "  </thead>\n",
       "  <tbody>\n",
       "    <tr>\n",
       "      <th>0</th>\n",
       "      <td>Logistic_Regression</td>\n",
       "      <td>0.78036</td>\n",
       "      <td>0.77142</td>\n",
       "    </tr>\n",
       "    <tr>\n",
       "      <th>1</th>\n",
       "      <td>Decision_Tree_Classifier</td>\n",
       "      <td>0.81607</td>\n",
       "      <td>0.75714</td>\n",
       "    </tr>\n",
       "    <tr>\n",
       "      <th>2</th>\n",
       "      <td>Random_Forest_Classifier</td>\n",
       "      <td>0.95357</td>\n",
       "      <td>0.77857</td>\n",
       "    </tr>\n",
       "    <tr>\n",
       "      <th>3</th>\n",
       "      <td>Support_Vector_Machine</td>\n",
       "      <td>0.77500</td>\n",
       "      <td>0.75714</td>\n",
       "    </tr>\n",
       "    <tr>\n",
       "      <th>4</th>\n",
       "      <td>K_Nearest_Neighbour</td>\n",
       "      <td>0.80571</td>\n",
       "      <td>0.78571</td>\n",
       "    </tr>\n",
       "    <tr>\n",
       "      <th>5</th>\n",
       "      <td>Gradient_Boosting</td>\n",
       "      <td>0.86781</td>\n",
       "      <td>0.75714</td>\n",
       "    </tr>\n",
       "  </tbody>\n",
       "</table>\n",
       "</div>"
      ],
      "text/plain": [
       "                  Algorithm  Training Accuracy  Testing Accuracy\n",
       "0       Logistic_Regression            0.78036           0.77142\n",
       "1  Decision_Tree_Classifier            0.81607           0.75714\n",
       "2  Random_Forest_Classifier            0.95357           0.77857\n",
       "3    Support_Vector_Machine            0.77500           0.75714\n",
       "4       K_Nearest_Neighbour            0.80571           0.78571\n",
       "5         Gradient_Boosting            0.86781           0.75714"
      ]
     },
     "execution_count": 11,
     "metadata": {},
     "output_type": "execute_result"
    }
   ],
   "source": [
    "result"
   ]
  },
  {
   "cell_type": "code",
   "execution_count": null,
   "id": "39368c05-ec2d-4785-a57e-a4456ecf27b4",
   "metadata": {},
   "outputs": [],
   "source": []
  }
 ],
 "metadata": {
  "colab": {
   "provenance": []
  },
  "kernelspec": {
   "display_name": "Python 3 (ipykernel)",
   "language": "python",
   "name": "python3"
  },
  "language_info": {
   "codemirror_mode": {
    "name": "ipython",
    "version": 3
   },
   "file_extension": ".py",
   "mimetype": "text/x-python",
   "name": "python",
   "nbconvert_exporter": "python",
   "pygments_lexer": "ipython3",
   "version": "3.9.12"
  },
  "widgets": {
   "application/vnd.jupyter.widget-state+json": {
    "3a68923011d34217ac1f9b800390eb1f": {
     "model_module": "@jupyter-widgets/controls",
     "model_module_version": "1.5.0",
     "model_name": "ProgressStyleModel",
     "state": {
      "_model_module": "@jupyter-widgets/controls",
      "_model_module_version": "1.5.0",
      "_model_name": "ProgressStyleModel",
      "_view_count": null,
      "_view_module": "@jupyter-widgets/base",
      "_view_module_version": "1.2.0",
      "_view_name": "StyleView",
      "bar_color": null,
      "description_width": ""
     }
    },
    "417f7b17356548bdb49d2225a2f09ddc": {
     "model_module": "@jupyter-widgets/base",
     "model_module_version": "1.2.0",
     "model_name": "LayoutModel",
     "state": {
      "_model_module": "@jupyter-widgets/base",
      "_model_module_version": "1.2.0",
      "_model_name": "LayoutModel",
      "_view_count": null,
      "_view_module": "@jupyter-widgets/base",
      "_view_module_version": "1.2.0",
      "_view_name": "LayoutView",
      "align_content": null,
      "align_items": null,
      "align_self": null,
      "border": null,
      "bottom": null,
      "display": null,
      "flex": "2",
      "flex_flow": null,
      "grid_area": null,
      "grid_auto_columns": null,
      "grid_auto_flow": null,
      "grid_auto_rows": null,
      "grid_column": null,
      "grid_gap": null,
      "grid_row": null,
      "grid_template_areas": null,
      "grid_template_columns": null,
      "grid_template_rows": null,
      "height": null,
      "justify_content": null,
      "justify_items": null,
      "left": null,
      "margin": null,
      "max_height": null,
      "max_width": null,
      "min_height": null,
      "min_width": null,
      "object_fit": null,
      "object_position": null,
      "order": null,
      "overflow": null,
      "overflow_x": null,
      "overflow_y": null,
      "padding": null,
      "right": null,
      "top": null,
      "visibility": null,
      "width": null
     }
    },
    "47e21bd1209b453ca8622f019bc9a779": {
     "model_module": "@jupyter-widgets/base",
     "model_module_version": "1.2.0",
     "model_name": "LayoutModel",
     "state": {
      "_model_module": "@jupyter-widgets/base",
      "_model_module_version": "1.2.0",
      "_model_name": "LayoutModel",
      "_view_count": null,
      "_view_module": "@jupyter-widgets/base",
      "_view_module_version": "1.2.0",
      "_view_name": "LayoutView",
      "align_content": null,
      "align_items": null,
      "align_self": null,
      "border": null,
      "bottom": null,
      "display": "inline-flex",
      "flex": null,
      "flex_flow": "row wrap",
      "grid_area": null,
      "grid_auto_columns": null,
      "grid_auto_flow": null,
      "grid_auto_rows": null,
      "grid_column": null,
      "grid_gap": null,
      "grid_row": null,
      "grid_template_areas": null,
      "grid_template_columns": null,
      "grid_template_rows": null,
      "height": null,
      "justify_content": null,
      "justify_items": null,
      "left": null,
      "margin": null,
      "max_height": null,
      "max_width": null,
      "min_height": null,
      "min_width": null,
      "object_fit": null,
      "object_position": null,
      "order": null,
      "overflow": null,
      "overflow_x": null,
      "overflow_y": null,
      "padding": null,
      "right": null,
      "top": null,
      "visibility": null,
      "width": "100%"
     }
    },
    "5562623159ba4f278ccb39cc8b09d31c": {
     "model_module": "@jupyter-widgets/controls",
     "model_module_version": "1.5.0",
     "model_name": "HTMLModel",
     "state": {
      "_dom_classes": [],
      "_model_module": "@jupyter-widgets/controls",
      "_model_module_version": "1.5.0",
      "_model_name": "HTMLModel",
      "_view_count": null,
      "_view_module": "@jupyter-widgets/controls",
      "_view_module_version": "1.5.0",
      "_view_name": "HTMLView",
      "description": "",
      "description_tooltip": null,
      "layout": "IPY_MODEL_f9efa0b4f7004ada8949fd43b5f5d915",
      "placeholder": "​",
      "style": "IPY_MODEL_94f621b0f688499a9f1a81fda3fe1666",
      "value": " [100%]   00:01 -&gt; (00:00 left)"
     }
    },
    "769a225c32164082901c1bf437e16a7a": {
     "model_module": "@jupyter-widgets/controls",
     "model_module_version": "1.5.0",
     "model_name": "HTMLModel",
     "state": {
      "_dom_classes": [],
      "_model_module": "@jupyter-widgets/controls",
      "_model_module_version": "1.5.0",
      "_model_name": "HTMLModel",
      "_view_count": null,
      "_view_module": "@jupyter-widgets/controls",
      "_view_module_version": "1.5.0",
      "_view_name": "HTMLView",
      "description": "",
      "description_tooltip": null,
      "layout": "IPY_MODEL_836660f55cfa4280aac2e38389425879",
      "placeholder": "​",
      "style": "IPY_MODEL_fa90acaceb0f4fca95586592ab00da1f",
      "value": "Done! Use &#x27;show&#x27; commands to display/save.   "
     }
    },
    "836660f55cfa4280aac2e38389425879": {
     "model_module": "@jupyter-widgets/base",
     "model_module_version": "1.2.0",
     "model_name": "LayoutModel",
     "state": {
      "_model_module": "@jupyter-widgets/base",
      "_model_module_version": "1.2.0",
      "_model_name": "LayoutModel",
      "_view_count": null,
      "_view_module": "@jupyter-widgets/base",
      "_view_module_version": "1.2.0",
      "_view_name": "LayoutView",
      "align_content": null,
      "align_items": null,
      "align_self": null,
      "border": null,
      "bottom": null,
      "display": null,
      "flex": null,
      "flex_flow": null,
      "grid_area": null,
      "grid_auto_columns": null,
      "grid_auto_flow": null,
      "grid_auto_rows": null,
      "grid_column": null,
      "grid_gap": null,
      "grid_row": null,
      "grid_template_areas": null,
      "grid_template_columns": null,
      "grid_template_rows": null,
      "height": null,
      "justify_content": null,
      "justify_items": null,
      "left": null,
      "margin": null,
      "max_height": null,
      "max_width": null,
      "min_height": null,
      "min_width": null,
      "object_fit": null,
      "object_position": null,
      "order": null,
      "overflow": null,
      "overflow_x": null,
      "overflow_y": null,
      "padding": null,
      "right": null,
      "top": null,
      "visibility": null,
      "width": null
     }
    },
    "83a8a78149264d1191200633579c208e": {
     "model_module": "@jupyter-widgets/controls",
     "model_module_version": "1.5.0",
     "model_name": "HBoxModel",
     "state": {
      "_dom_classes": [],
      "_model_module": "@jupyter-widgets/controls",
      "_model_module_version": "1.5.0",
      "_model_name": "HBoxModel",
      "_view_count": null,
      "_view_module": "@jupyter-widgets/controls",
      "_view_module_version": "1.5.0",
      "_view_name": "HBoxView",
      "box_style": "",
      "children": [
       "IPY_MODEL_769a225c32164082901c1bf437e16a7a",
       "IPY_MODEL_fc45acf1169e45b78c3cc0c8643d487d",
       "IPY_MODEL_5562623159ba4f278ccb39cc8b09d31c"
      ],
      "layout": "IPY_MODEL_47e21bd1209b453ca8622f019bc9a779"
     }
    },
    "94f621b0f688499a9f1a81fda3fe1666": {
     "model_module": "@jupyter-widgets/controls",
     "model_module_version": "1.5.0",
     "model_name": "DescriptionStyleModel",
     "state": {
      "_model_module": "@jupyter-widgets/controls",
      "_model_module_version": "1.5.0",
      "_model_name": "DescriptionStyleModel",
      "_view_count": null,
      "_view_module": "@jupyter-widgets/base",
      "_view_module_version": "1.2.0",
      "_view_name": "StyleView",
      "description_width": ""
     }
    },
    "f9efa0b4f7004ada8949fd43b5f5d915": {
     "model_module": "@jupyter-widgets/base",
     "model_module_version": "1.2.0",
     "model_name": "LayoutModel",
     "state": {
      "_model_module": "@jupyter-widgets/base",
      "_model_module_version": "1.2.0",
      "_model_name": "LayoutModel",
      "_view_count": null,
      "_view_module": "@jupyter-widgets/base",
      "_view_module_version": "1.2.0",
      "_view_name": "LayoutView",
      "align_content": null,
      "align_items": null,
      "align_self": null,
      "border": null,
      "bottom": null,
      "display": null,
      "flex": null,
      "flex_flow": null,
      "grid_area": null,
      "grid_auto_columns": null,
      "grid_auto_flow": null,
      "grid_auto_rows": null,
      "grid_column": null,
      "grid_gap": null,
      "grid_row": null,
      "grid_template_areas": null,
      "grid_template_columns": null,
      "grid_template_rows": null,
      "height": null,
      "justify_content": null,
      "justify_items": null,
      "left": null,
      "margin": null,
      "max_height": null,
      "max_width": null,
      "min_height": null,
      "min_width": null,
      "object_fit": null,
      "object_position": null,
      "order": null,
      "overflow": null,
      "overflow_x": null,
      "overflow_y": null,
      "padding": null,
      "right": null,
      "top": null,
      "visibility": null,
      "width": null
     }
    },
    "fa90acaceb0f4fca95586592ab00da1f": {
     "model_module": "@jupyter-widgets/controls",
     "model_module_version": "1.5.0",
     "model_name": "DescriptionStyleModel",
     "state": {
      "_model_module": "@jupyter-widgets/controls",
      "_model_module_version": "1.5.0",
      "_model_name": "DescriptionStyleModel",
      "_view_count": null,
      "_view_module": "@jupyter-widgets/base",
      "_view_module_version": "1.2.0",
      "_view_name": "StyleView",
      "description_width": ""
     }
    },
    "fc45acf1169e45b78c3cc0c8643d487d": {
     "model_module": "@jupyter-widgets/controls",
     "model_module_version": "1.5.0",
     "model_name": "FloatProgressModel",
     "state": {
      "_dom_classes": [],
      "_model_module": "@jupyter-widgets/controls",
      "_model_module_version": "1.5.0",
      "_model_name": "FloatProgressModel",
      "_view_count": null,
      "_view_module": "@jupyter-widgets/controls",
      "_view_module_version": "1.5.0",
      "_view_name": "ProgressView",
      "bar_style": "success",
      "description": "",
      "description_tooltip": null,
      "layout": "IPY_MODEL_417f7b17356548bdb49d2225a2f09ddc",
      "max": 1,
      "min": 0,
      "orientation": "horizontal",
      "style": "IPY_MODEL_3a68923011d34217ac1f9b800390eb1f",
      "value": 1
     }
    }
   }
  }
 },
 "nbformat": 4,
 "nbformat_minor": 5
}
